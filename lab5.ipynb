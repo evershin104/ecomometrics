{
 "cells": [
  {
   "cell_type": "code",
   "execution_count": 1,
   "metadata": {
    "id": "Ao_06AYtwoZY"
   },
   "outputs": [],
   "source": [
    "M<-read.csv2(\"Milk.csv\", header=TRUE, sep=\";\" , dec = \",\");"
   ]
  },
  {
   "cell_type": "code",
   "execution_count": 2,
   "metadata": {
    "colab": {
     "base_uri": "https://localhost:8080/",
     "height": 96
    },
    "id": "i8d8GxKwxXze",
    "outputId": "345d25ab-6cba-4166-ddea-bd78ed9cb110"
   },
   "outputs": [
    {
     "data": {
      "text/html": [
       "<table>\n",
       "<thead><tr><th scope=col>SF</th><th scope=col>MilkPrice</th><th scope=col>Income</th><th scope=col>Population</th><th scope=col>FO</th></tr></thead>\n",
       "<tbody>\n",
       "\t<tr><td>Moskva                                   </td><td>42.87                                    </td><td>48621.6                                  </td><td>12380664                                 </td><td>CFO                                      </td></tr>\n",
       "\t<tr><td>Moskovskaya oblast                       </td><td>35.91                                    </td><td>29699.1                                  </td><td> 7423470                                 </td><td>CFO                                      </td></tr>\n",
       "\t<tr><td>Krasnodarskij kraj                       </td><td>31.05                                    </td><td>21077.2                                  </td><td> 5570945                                 </td><td>YuFO                                     </td></tr>\n",
       "\t<tr><td>Sankt-Peterburg                          </td><td>38.98                                    </td><td>27794.6                                  </td><td> 5281579                                 </td><td>SZFO                                     </td></tr>\n",
       "\t<tr><td>Sverdlovskaya oblast                     </td><td>33.24                                    </td><td>27709.2                                  </td><td> 4329341                                 </td><td>UFO                                      </td></tr>\n",
       "\t<tr><td>Rostovskaya oblast                       </td><td>34.21                                    </td><td>17987.3                                  </td><td> 4231355                                 </td><td>YuFO                                     </td></tr>\n",
       "\t<tr><td>Respublika Bashkortostan                 </td><td>29.73                                    </td><td>21258.8                                  </td><td> 4066972                                 </td><td>PFO                                      </td></tr>\n",
       "\t<tr><td>Respublika Tatarstan                     </td><td>27.98                                    </td><td>24009.8                                  </td><td> 3885253                                 </td><td>PFO                                      </td></tr>\n",
       "\t<tr><td>Tyumenskaya oblast                       </td><td>44.91                                    </td><td>33280.7                                  </td><td> 1477903                                 </td><td>UFO                                      </td></tr>\n",
       "\t<tr><td>Chelyabinskaya oblast                    </td><td>35.45                                    </td><td>19762.5                                  </td><td> 3502323                                 </td><td>UFO                                      </td></tr>\n",
       "\t<tr><td>Nizhegorodskaya oblast                   </td><td>32.60                                    </td><td>21517.6                                  </td><td> 3247713                                 </td><td>PFO                                      </td></tr>\n",
       "\t<tr><td>Samarskaya oblast                        </td><td>31.84                                    </td><td>24683.0                                  </td><td> 3203679                                 </td><td>PFO                                      </td></tr>\n",
       "\t<tr><td>Respublika Dagestan                      </td><td>36.22                                    </td><td>20647.9                                  </td><td> 3041900                                 </td><td>SKFO                                     </td></tr>\n",
       "\t<tr><td>Krasnoyarskij kraj                       </td><td>36.15                                    </td><td>22137.6                                  </td><td> 2875301                                 </td><td>SFO                                      </td></tr>\n",
       "\t<tr><td>Stavropolskij kraj                       </td><td>28.63                                    </td><td>16877.2                                  </td><td> 2804383                                 </td><td>SKFO                                     </td></tr>\n",
       "\t<tr><td>Novosibirskaya oblast                    </td><td>34.38                                    </td><td>20637.1                                  </td><td> 2779555                                 </td><td>SFO                                      </td></tr>\n",
       "\t<tr><td>Kemerovskaya oblast                      </td><td>31.00                                    </td><td>18385.5                                  </td><td> 2708844                                 </td><td>SFO                                      </td></tr>\n",
       "\t<tr><td>Permskij kraj                            </td><td>33.37                                    </td><td>23269.6                                  </td><td> 2632097                                 </td><td>PFO                                      </td></tr>\n",
       "\t<tr><td>Volgogradskaya oblast                    </td><td>30.37                                    </td><td>16066.4                                  </td><td> 2535202                                 </td><td>YuFO                                     </td></tr>\n",
       "\t<tr><td>Saratovskaya oblast                      </td><td>24.97                                    </td><td>14243.3                                  </td><td> 2479260                                 </td><td>PFO                                      </td></tr>\n",
       "\t<tr><td>Irkutskaya oblast                        </td><td>37.37                                    </td><td>17720.3                                  </td><td> 2408901                                 </td><td>SFO                                      </td></tr>\n",
       "\t<tr><td>Altajskij kraj                           </td><td>31.27                                    </td><td>13628.9                                  </td><td> 2365680                                 </td><td>SFO                                      </td></tr>\n",
       "\t<tr><td>Voronezhskaya oblast                     </td><td>31.15                                    </td><td>18885.1                                  </td><td> 2335408                                 </td><td>CFO                                      </td></tr>\n",
       "\t<tr><td>Orenburgskaya oblast                     </td><td>29.92                                    </td><td>16539.1                                  </td><td> 1989589                                 </td><td>PFO                                      </td></tr>\n",
       "\t<tr><td>Omskaya oblast                           </td><td>28.95                                    </td><td>19468.8                                  </td><td> 1972682                                 </td><td>SFO                                      </td></tr>\n",
       "\t<tr><td>Primorskij kraj                          </td><td>62.52                                    </td><td>21299.7                                  </td><td> 1923116                                 </td><td>DVFO                                     </td></tr>\n",
       "\t<tr><td>Leningradskaya oblast                    </td><td>40.62                                    </td><td>17925.0                                  </td><td> 1791916                                 </td><td>SZFO                                     </td></tr>\n",
       "\t<tr><td>Hanty-Mansijskij avtonomnyj okrug — Yugra</td><td>49.92                                    </td><td>36088.1                                  </td><td> 1646078                                 </td><td>UFO                                      </td></tr>\n",
       "\t<tr><td>Belgorodskaya oblast                     </td><td>28.39                                    </td><td>21562.9                                  </td><td> 1552865                                 </td><td>CFO                                      </td></tr>\n",
       "\t<tr><td>Udmurtskaya Respublika                   </td><td>28.45                                    </td><td>16411.0                                  </td><td> 1516826                                 </td><td>PFO                                      </td></tr>\n",
       "\t<tr><td>...</td><td>...</td><td>...</td><td>...</td><td>...</td></tr>\n",
       "\t<tr><td>Kaliningradskaya oblast               </td><td>34.88                                 </td><td>19371.3                               </td><td>986261                                </td><td>SZFO                                  </td></tr>\n",
       "\t<tr><td>Respublika Buryatiya                  </td><td>39.98                                 </td><td>17119.0                               </td><td>984134                                </td><td>SFO                                   </td></tr>\n",
       "\t<tr><td>Respublika Saha (Yakutiya)            </td><td>50.79                                 </td><td>28457.3                               </td><td>962835                                </td><td>DVFO                                  </td></tr>\n",
       "\t<tr><td>Smolenskaya oblast                    </td><td>33.46                                 </td><td>18250.4                               </td><td>953201                                </td><td>CFO                                   </td></tr>\n",
       "\t<tr><td>Kabardino-Balkarskaya Respublika      </td><td>31.76                                 </td><td>13681.1                               </td><td>864454                                </td><td>SKFO                                  </td></tr>\n",
       "\t<tr><td>Kurganskaya oblast                    </td><td>36.23                                 </td><td>16019.5                               </td><td>854109                                </td><td>UFO                                   </td></tr>\n",
       "\t<tr><td>Respublika Komi                       </td><td>38.19                                 </td><td>26787.3                               </td><td>850554                                </td><td>SZFO                                  </td></tr>\n",
       "\t<tr><td>Respublika Mordoviya                  </td><td>29.07                                 </td><td>13062.7                               </td><td>808541                                </td><td>PFO                                   </td></tr>\n",
       "\t<tr><td>Amurskaya oblast                      </td><td>41.80                                 </td><td>21469.3                               </td><td>801752                                </td><td>DVFO                                  </td></tr>\n",
       "\t<tr><td>Murmanskaya oblast                    </td><td>39.78                                 </td><td>28604.2                               </td><td>757621                                </td><td>SZFO                                  </td></tr>\n",
       "\t<tr><td>Orlovskaya oblast                     </td><td>28.89                                 </td><td>16762.2                               </td><td>754816                                </td><td>CFO                                   </td></tr>\n",
       "\t<tr><td>Respublika Severnaya Osetiya - Alaniya</td><td>30.13                                 </td><td>16184.7                               </td><td>703262                                </td><td>SKFO                                  </td></tr>\n",
       "\t<tr><td>Respublika Marij El                   </td><td>29.52                                 </td><td>12537.9                               </td><td>684684                                </td><td>PFO                                   </td></tr>\n",
       "\t<tr><td>Kostromskaya oblast                   </td><td>34.50                                 </td><td>15808.2                               </td><td>648157                                </td><td>CFO                                   </td></tr>\n",
       "\t<tr><td>Pskovskaya oblast                     </td><td>35.48                                 </td><td>16412.1                               </td><td>642164                                </td><td>SZFO                                  </td></tr>\n",
       "\t<tr><td>Respublika Kareliya                   </td><td>33.46                                 </td><td>20037.4                               </td><td>627083                                </td><td>SZFO                                  </td></tr>\n",
       "\t<tr><td>Novgorodskaya oblast                  </td><td>34.28                                 </td><td>19649.2                               </td><td>612522                                </td><td>SZFO                                  </td></tr>\n",
       "\t<tr><td>Respublika Hakasiya                   </td><td>38.59                                 </td><td>15991.4                               </td><td>537668                                </td><td>SFO                                   </td></tr>\n",
       "\t<tr><td>Yamalo-Neneckij avtonomnyj okrug      </td><td>56.80                                 </td><td>52342.3                               </td><td>536049                                </td><td>UFO                                   </td></tr>\n",
       "\t<tr><td>Sahalinskaya oblast                   </td><td>50.34                                 </td><td>33459.5                               </td><td>487344                                </td><td>DVFO                                  </td></tr>\n",
       "\t<tr><td>Respublika Ingushetiya                </td><td>31.92                                 </td><td>12375.5                               </td><td>480474                                </td><td>SKFO                                  </td></tr>\n",
       "\t<tr><td>Karachaevo-Cherkesskaya Respublika    </td><td>32.15                                 </td><td>13353.9                               </td><td>466432                                </td><td>SKFO                                  </td></tr>\n",
       "\t<tr><td>Respublika Adygeya                    </td><td>28.28                                 </td><td>17025.3                               </td><td>453366                                </td><td>YuFO                                  </td></tr>\n",
       "\t<tr><td>Respublika Tyva                       </td><td>46.97                                 </td><td>11932.6                               </td><td>318550                                </td><td>SFO                                   </td></tr>\n",
       "\t<tr><td>Kamchatskij kraj                      </td><td>70.75                                 </td><td>31481.6                               </td><td>314729                                </td><td>DVFO                                  </td></tr>\n",
       "\t<tr><td>Respublika Kalmykiya                  </td><td>34.42                                 </td><td>10183.8                               </td><td>277803                                </td><td>YuFO                                  </td></tr>\n",
       "\t<tr><td>Respublika Altaj                      </td><td>36.90                                 </td><td>14277.7                               </td><td>217007                                </td><td>SFO                                   </td></tr>\n",
       "\t<tr><td>Evrejskaya avtonomnaya oblast         </td><td>51.25                                 </td><td>18151.4                               </td><td>164217                                </td><td>DVFO                                  </td></tr>\n",
       "\t<tr><td>Magadanskaya oblast                   </td><td>78.65                                 </td><td>36575.6                               </td><td>145570                                </td><td>DVFO                                  </td></tr>\n",
       "\t<tr><td>Neneckij avtonomnyj okrug             </td><td>81.26                                 </td><td>61936.9                               </td><td> 43937                                </td><td>SZFO                                  </td></tr>\n",
       "</tbody>\n",
       "</table>\n"
      ],
      "text/latex": [
       "\\begin{tabular}{r|lllll}\n",
       " SF & MilkPrice & Income & Population & FO\\\\\n",
       "\\hline\n",
       "\t Moskva                                    & 42.87                                     & 48621.6                                   & 12380664                                  & CFO                                      \\\\\n",
       "\t Moskovskaya oblast                        & 35.91                                     & 29699.1                                   &  7423470                                  & CFO                                      \\\\\n",
       "\t Krasnodarskij kraj                        & 31.05                                     & 21077.2                                   &  5570945                                  & YuFO                                     \\\\\n",
       "\t Sankt-Peterburg                           & 38.98                                     & 27794.6                                   &  5281579                                  & SZFO                                     \\\\\n",
       "\t Sverdlovskaya oblast                      & 33.24                                     & 27709.2                                   &  4329341                                  & UFO                                      \\\\\n",
       "\t Rostovskaya oblast                        & 34.21                                     & 17987.3                                   &  4231355                                  & YuFO                                     \\\\\n",
       "\t Respublika Bashkortostan                  & 29.73                                     & 21258.8                                   &  4066972                                  & PFO                                      \\\\\n",
       "\t Respublika Tatarstan                      & 27.98                                     & 24009.8                                   &  3885253                                  & PFO                                      \\\\\n",
       "\t Tyumenskaya oblast                        & 44.91                                     & 33280.7                                   &  1477903                                  & UFO                                      \\\\\n",
       "\t Chelyabinskaya oblast                     & 35.45                                     & 19762.5                                   &  3502323                                  & UFO                                      \\\\\n",
       "\t Nizhegorodskaya oblast                    & 32.60                                     & 21517.6                                   &  3247713                                  & PFO                                      \\\\\n",
       "\t Samarskaya oblast                         & 31.84                                     & 24683.0                                   &  3203679                                  & PFO                                      \\\\\n",
       "\t Respublika Dagestan                       & 36.22                                     & 20647.9                                   &  3041900                                  & SKFO                                     \\\\\n",
       "\t Krasnoyarskij kraj                        & 36.15                                     & 22137.6                                   &  2875301                                  & SFO                                      \\\\\n",
       "\t Stavropolskij kraj                        & 28.63                                     & 16877.2                                   &  2804383                                  & SKFO                                     \\\\\n",
       "\t Novosibirskaya oblast                     & 34.38                                     & 20637.1                                   &  2779555                                  & SFO                                      \\\\\n",
       "\t Kemerovskaya oblast                       & 31.00                                     & 18385.5                                   &  2708844                                  & SFO                                      \\\\\n",
       "\t Permskij kraj                             & 33.37                                     & 23269.6                                   &  2632097                                  & PFO                                      \\\\\n",
       "\t Volgogradskaya oblast                     & 30.37                                     & 16066.4                                   &  2535202                                  & YuFO                                     \\\\\n",
       "\t Saratovskaya oblast                       & 24.97                                     & 14243.3                                   &  2479260                                  & PFO                                      \\\\\n",
       "\t Irkutskaya oblast                         & 37.37                                     & 17720.3                                   &  2408901                                  & SFO                                      \\\\\n",
       "\t Altajskij kraj                            & 31.27                                     & 13628.9                                   &  2365680                                  & SFO                                      \\\\\n",
       "\t Voronezhskaya oblast                      & 31.15                                     & 18885.1                                   &  2335408                                  & CFO                                      \\\\\n",
       "\t Orenburgskaya oblast                      & 29.92                                     & 16539.1                                   &  1989589                                  & PFO                                      \\\\\n",
       "\t Omskaya oblast                            & 28.95                                     & 19468.8                                   &  1972682                                  & SFO                                      \\\\\n",
       "\t Primorskij kraj                           & 62.52                                     & 21299.7                                   &  1923116                                  & DVFO                                     \\\\\n",
       "\t Leningradskaya oblast                     & 40.62                                     & 17925.0                                   &  1791916                                  & SZFO                                     \\\\\n",
       "\t Hanty-Mansijskij avtonomnyj okrug — Yugra & 49.92                                     & 36088.1                                   &  1646078                                  & UFO                                      \\\\\n",
       "\t Belgorodskaya oblast                      & 28.39                                     & 21562.9                                   &  1552865                                  & CFO                                      \\\\\n",
       "\t Udmurtskaya Respublika                    & 28.45                                     & 16411.0                                   &  1516826                                  & PFO                                      \\\\\n",
       "\t ... & ... & ... & ... & ...\\\\\n",
       "\t Kaliningradskaya oblast                & 34.88                                  & 19371.3                                & 986261                                 & SZFO                                  \\\\\n",
       "\t Respublika Buryatiya                   & 39.98                                  & 17119.0                                & 984134                                 & SFO                                   \\\\\n",
       "\t Respublika Saha (Yakutiya)             & 50.79                                  & 28457.3                                & 962835                                 & DVFO                                  \\\\\n",
       "\t Smolenskaya oblast                     & 33.46                                  & 18250.4                                & 953201                                 & CFO                                   \\\\\n",
       "\t Kabardino-Balkarskaya Respublika       & 31.76                                  & 13681.1                                & 864454                                 & SKFO                                  \\\\\n",
       "\t Kurganskaya oblast                     & 36.23                                  & 16019.5                                & 854109                                 & UFO                                   \\\\\n",
       "\t Respublika Komi                        & 38.19                                  & 26787.3                                & 850554                                 & SZFO                                  \\\\\n",
       "\t Respublika Mordoviya                   & 29.07                                  & 13062.7                                & 808541                                 & PFO                                   \\\\\n",
       "\t Amurskaya oblast                       & 41.80                                  & 21469.3                                & 801752                                 & DVFO                                  \\\\\n",
       "\t Murmanskaya oblast                     & 39.78                                  & 28604.2                                & 757621                                 & SZFO                                  \\\\\n",
       "\t Orlovskaya oblast                      & 28.89                                  & 16762.2                                & 754816                                 & CFO                                   \\\\\n",
       "\t Respublika Severnaya Osetiya - Alaniya & 30.13                                  & 16184.7                                & 703262                                 & SKFO                                  \\\\\n",
       "\t Respublika Marij El                    & 29.52                                  & 12537.9                                & 684684                                 & PFO                                   \\\\\n",
       "\t Kostromskaya oblast                    & 34.50                                  & 15808.2                                & 648157                                 & CFO                                   \\\\\n",
       "\t Pskovskaya oblast                      & 35.48                                  & 16412.1                                & 642164                                 & SZFO                                  \\\\\n",
       "\t Respublika Kareliya                    & 33.46                                  & 20037.4                                & 627083                                 & SZFO                                  \\\\\n",
       "\t Novgorodskaya oblast                   & 34.28                                  & 19649.2                                & 612522                                 & SZFO                                  \\\\\n",
       "\t Respublika Hakasiya                    & 38.59                                  & 15991.4                                & 537668                                 & SFO                                   \\\\\n",
       "\t Yamalo-Neneckij avtonomnyj okrug       & 56.80                                  & 52342.3                                & 536049                                 & UFO                                   \\\\\n",
       "\t Sahalinskaya oblast                    & 50.34                                  & 33459.5                                & 487344                                 & DVFO                                  \\\\\n",
       "\t Respublika Ingushetiya                 & 31.92                                  & 12375.5                                & 480474                                 & SKFO                                  \\\\\n",
       "\t Karachaevo-Cherkesskaya Respublika     & 32.15                                  & 13353.9                                & 466432                                 & SKFO                                  \\\\\n",
       "\t Respublika Adygeya                     & 28.28                                  & 17025.3                                & 453366                                 & YuFO                                  \\\\\n",
       "\t Respublika Tyva                        & 46.97                                  & 11932.6                                & 318550                                 & SFO                                   \\\\\n",
       "\t Kamchatskij kraj                       & 70.75                                  & 31481.6                                & 314729                                 & DVFO                                  \\\\\n",
       "\t Respublika Kalmykiya                   & 34.42                                  & 10183.8                                & 277803                                 & YuFO                                  \\\\\n",
       "\t Respublika Altaj                       & 36.90                                  & 14277.7                                & 217007                                 & SFO                                   \\\\\n",
       "\t Evrejskaya avtonomnaya oblast          & 51.25                                  & 18151.4                                & 164217                                 & DVFO                                  \\\\\n",
       "\t Magadanskaya oblast                    & 78.65                                  & 36575.6                                & 145570                                 & DVFO                                  \\\\\n",
       "\t Neneckij avtonomnyj okrug              & 81.26                                  & 61936.9                                &  43937                                 & SZFO                                  \\\\\n",
       "\\end{tabular}\n"
      ],
      "text/markdown": [
       "\n",
       "| SF | MilkPrice | Income | Population | FO |\n",
       "|---|---|---|---|---|\n",
       "| Moskva                                    | 42.87                                     | 48621.6                                   | 12380664                                  | CFO                                       |\n",
       "| Moskovskaya oblast                        | 35.91                                     | 29699.1                                   |  7423470                                  | CFO                                       |\n",
       "| Krasnodarskij kraj                        | 31.05                                     | 21077.2                                   |  5570945                                  | YuFO                                      |\n",
       "| Sankt-Peterburg                           | 38.98                                     | 27794.6                                   |  5281579                                  | SZFO                                      |\n",
       "| Sverdlovskaya oblast                      | 33.24                                     | 27709.2                                   |  4329341                                  | UFO                                       |\n",
       "| Rostovskaya oblast                        | 34.21                                     | 17987.3                                   |  4231355                                  | YuFO                                      |\n",
       "| Respublika Bashkortostan                  | 29.73                                     | 21258.8                                   |  4066972                                  | PFO                                       |\n",
       "| Respublika Tatarstan                      | 27.98                                     | 24009.8                                   |  3885253                                  | PFO                                       |\n",
       "| Tyumenskaya oblast                        | 44.91                                     | 33280.7                                   |  1477903                                  | UFO                                       |\n",
       "| Chelyabinskaya oblast                     | 35.45                                     | 19762.5                                   |  3502323                                  | UFO                                       |\n",
       "| Nizhegorodskaya oblast                    | 32.60                                     | 21517.6                                   |  3247713                                  | PFO                                       |\n",
       "| Samarskaya oblast                         | 31.84                                     | 24683.0                                   |  3203679                                  | PFO                                       |\n",
       "| Respublika Dagestan                       | 36.22                                     | 20647.9                                   |  3041900                                  | SKFO                                      |\n",
       "| Krasnoyarskij kraj                        | 36.15                                     | 22137.6                                   |  2875301                                  | SFO                                       |\n",
       "| Stavropolskij kraj                        | 28.63                                     | 16877.2                                   |  2804383                                  | SKFO                                      |\n",
       "| Novosibirskaya oblast                     | 34.38                                     | 20637.1                                   |  2779555                                  | SFO                                       |\n",
       "| Kemerovskaya oblast                       | 31.00                                     | 18385.5                                   |  2708844                                  | SFO                                       |\n",
       "| Permskij kraj                             | 33.37                                     | 23269.6                                   |  2632097                                  | PFO                                       |\n",
       "| Volgogradskaya oblast                     | 30.37                                     | 16066.4                                   |  2535202                                  | YuFO                                      |\n",
       "| Saratovskaya oblast                       | 24.97                                     | 14243.3                                   |  2479260                                  | PFO                                       |\n",
       "| Irkutskaya oblast                         | 37.37                                     | 17720.3                                   |  2408901                                  | SFO                                       |\n",
       "| Altajskij kraj                            | 31.27                                     | 13628.9                                   |  2365680                                  | SFO                                       |\n",
       "| Voronezhskaya oblast                      | 31.15                                     | 18885.1                                   |  2335408                                  | CFO                                       |\n",
       "| Orenburgskaya oblast                      | 29.92                                     | 16539.1                                   |  1989589                                  | PFO                                       |\n",
       "| Omskaya oblast                            | 28.95                                     | 19468.8                                   |  1972682                                  | SFO                                       |\n",
       "| Primorskij kraj                           | 62.52                                     | 21299.7                                   |  1923116                                  | DVFO                                      |\n",
       "| Leningradskaya oblast                     | 40.62                                     | 17925.0                                   |  1791916                                  | SZFO                                      |\n",
       "| Hanty-Mansijskij avtonomnyj okrug — Yugra | 49.92                                     | 36088.1                                   |  1646078                                  | UFO                                       |\n",
       "| Belgorodskaya oblast                      | 28.39                                     | 21562.9                                   |  1552865                                  | CFO                                       |\n",
       "| Udmurtskaya Respublika                    | 28.45                                     | 16411.0                                   |  1516826                                  | PFO                                       |\n",
       "| ... | ... | ... | ... | ... |\n",
       "| Kaliningradskaya oblast                | 34.88                                  | 19371.3                                | 986261                                 | SZFO                                   |\n",
       "| Respublika Buryatiya                   | 39.98                                  | 17119.0                                | 984134                                 | SFO                                    |\n",
       "| Respublika Saha (Yakutiya)             | 50.79                                  | 28457.3                                | 962835                                 | DVFO                                   |\n",
       "| Smolenskaya oblast                     | 33.46                                  | 18250.4                                | 953201                                 | CFO                                    |\n",
       "| Kabardino-Balkarskaya Respublika       | 31.76                                  | 13681.1                                | 864454                                 | SKFO                                   |\n",
       "| Kurganskaya oblast                     | 36.23                                  | 16019.5                                | 854109                                 | UFO                                    |\n",
       "| Respublika Komi                        | 38.19                                  | 26787.3                                | 850554                                 | SZFO                                   |\n",
       "| Respublika Mordoviya                   | 29.07                                  | 13062.7                                | 808541                                 | PFO                                    |\n",
       "| Amurskaya oblast                       | 41.80                                  | 21469.3                                | 801752                                 | DVFO                                   |\n",
       "| Murmanskaya oblast                     | 39.78                                  | 28604.2                                | 757621                                 | SZFO                                   |\n",
       "| Orlovskaya oblast                      | 28.89                                  | 16762.2                                | 754816                                 | CFO                                    |\n",
       "| Respublika Severnaya Osetiya - Alaniya | 30.13                                  | 16184.7                                | 703262                                 | SKFO                                   |\n",
       "| Respublika Marij El                    | 29.52                                  | 12537.9                                | 684684                                 | PFO                                    |\n",
       "| Kostromskaya oblast                    | 34.50                                  | 15808.2                                | 648157                                 | CFO                                    |\n",
       "| Pskovskaya oblast                      | 35.48                                  | 16412.1                                | 642164                                 | SZFO                                   |\n",
       "| Respublika Kareliya                    | 33.46                                  | 20037.4                                | 627083                                 | SZFO                                   |\n",
       "| Novgorodskaya oblast                   | 34.28                                  | 19649.2                                | 612522                                 | SZFO                                   |\n",
       "| Respublika Hakasiya                    | 38.59                                  | 15991.4                                | 537668                                 | SFO                                    |\n",
       "| Yamalo-Neneckij avtonomnyj okrug       | 56.80                                  | 52342.3                                | 536049                                 | UFO                                    |\n",
       "| Sahalinskaya oblast                    | 50.34                                  | 33459.5                                | 487344                                 | DVFO                                   |\n",
       "| Respublika Ingushetiya                 | 31.92                                  | 12375.5                                | 480474                                 | SKFO                                   |\n",
       "| Karachaevo-Cherkesskaya Respublika     | 32.15                                  | 13353.9                                | 466432                                 | SKFO                                   |\n",
       "| Respublika Adygeya                     | 28.28                                  | 17025.3                                | 453366                                 | YuFO                                   |\n",
       "| Respublika Tyva                        | 46.97                                  | 11932.6                                | 318550                                 | SFO                                    |\n",
       "| Kamchatskij kraj                       | 70.75                                  | 31481.6                                | 314729                                 | DVFO                                   |\n",
       "| Respublika Kalmykiya                   | 34.42                                  | 10183.8                                | 277803                                 | YuFO                                   |\n",
       "| Respublika Altaj                       | 36.90                                  | 14277.7                                | 217007                                 | SFO                                    |\n",
       "| Evrejskaya avtonomnaya oblast          | 51.25                                  | 18151.4                                | 164217                                 | DVFO                                   |\n",
       "| Magadanskaya oblast                    | 78.65                                  | 36575.6                                | 145570                                 | DVFO                                   |\n",
       "| Neneckij avtonomnyj okrug              | 81.26                                  | 61936.9                                |  43937                                 | SZFO                                   |\n",
       "\n"
      ],
      "text/plain": [
       "    SF                                        MilkPrice Income  Population FO  \n",
       "1   Moskva                                    42.87     48621.6 12380664   CFO \n",
       "2   Moskovskaya oblast                        35.91     29699.1  7423470   CFO \n",
       "3   Krasnodarskij kraj                        31.05     21077.2  5570945   YuFO\n",
       "4   Sankt-Peterburg                           38.98     27794.6  5281579   SZFO\n",
       "5   Sverdlovskaya oblast                      33.24     27709.2  4329341   UFO \n",
       "6   Rostovskaya oblast                        34.21     17987.3  4231355   YuFO\n",
       "7   Respublika Bashkortostan                  29.73     21258.8  4066972   PFO \n",
       "8   Respublika Tatarstan                      27.98     24009.8  3885253   PFO \n",
       "9   Tyumenskaya oblast                        44.91     33280.7  1477903   UFO \n",
       "10  Chelyabinskaya oblast                     35.45     19762.5  3502323   UFO \n",
       "11  Nizhegorodskaya oblast                    32.60     21517.6  3247713   PFO \n",
       "12  Samarskaya oblast                         31.84     24683.0  3203679   PFO \n",
       "13  Respublika Dagestan                       36.22     20647.9  3041900   SKFO\n",
       "14  Krasnoyarskij kraj                        36.15     22137.6  2875301   SFO \n",
       "15  Stavropolskij kraj                        28.63     16877.2  2804383   SKFO\n",
       "16  Novosibirskaya oblast                     34.38     20637.1  2779555   SFO \n",
       "17  Kemerovskaya oblast                       31.00     18385.5  2708844   SFO \n",
       "18  Permskij kraj                             33.37     23269.6  2632097   PFO \n",
       "19  Volgogradskaya oblast                     30.37     16066.4  2535202   YuFO\n",
       "20  Saratovskaya oblast                       24.97     14243.3  2479260   PFO \n",
       "21  Irkutskaya oblast                         37.37     17720.3  2408901   SFO \n",
       "22  Altajskij kraj                            31.27     13628.9  2365680   SFO \n",
       "23  Voronezhskaya oblast                      31.15     18885.1  2335408   CFO \n",
       "24  Orenburgskaya oblast                      29.92     16539.1  1989589   PFO \n",
       "25  Omskaya oblast                            28.95     19468.8  1972682   SFO \n",
       "26  Primorskij kraj                           62.52     21299.7  1923116   DVFO\n",
       "27  Leningradskaya oblast                     40.62     17925.0  1791916   SZFO\n",
       "28  Hanty-Mansijskij avtonomnyj okrug — Yugra 49.92     36088.1  1646078   UFO \n",
       "29  Belgorodskaya oblast                      28.39     21562.9  1552865   CFO \n",
       "30  Udmurtskaya Respublika                    28.45     16411.0  1516826   PFO \n",
       "... ...                                       ...       ...     ...        ... \n",
       "53  Kaliningradskaya oblast                   34.88     19371.3 986261     SZFO\n",
       "54  Respublika Buryatiya                      39.98     17119.0 984134     SFO \n",
       "55  Respublika Saha (Yakutiya)                50.79     28457.3 962835     DVFO\n",
       "56  Smolenskaya oblast                        33.46     18250.4 953201     CFO \n",
       "57  Kabardino-Balkarskaya Respublika          31.76     13681.1 864454     SKFO\n",
       "58  Kurganskaya oblast                        36.23     16019.5 854109     UFO \n",
       "59  Respublika Komi                           38.19     26787.3 850554     SZFO\n",
       "60  Respublika Mordoviya                      29.07     13062.7 808541     PFO \n",
       "61  Amurskaya oblast                          41.80     21469.3 801752     DVFO\n",
       "62  Murmanskaya oblast                        39.78     28604.2 757621     SZFO\n",
       "63  Orlovskaya oblast                         28.89     16762.2 754816     CFO \n",
       "64  Respublika Severnaya Osetiya - Alaniya    30.13     16184.7 703262     SKFO\n",
       "65  Respublika Marij El                       29.52     12537.9 684684     PFO \n",
       "66  Kostromskaya oblast                       34.50     15808.2 648157     CFO \n",
       "67  Pskovskaya oblast                         35.48     16412.1 642164     SZFO\n",
       "68  Respublika Kareliya                       33.46     20037.4 627083     SZFO\n",
       "69  Novgorodskaya oblast                      34.28     19649.2 612522     SZFO\n",
       "70  Respublika Hakasiya                       38.59     15991.4 537668     SFO \n",
       "71  Yamalo-Neneckij avtonomnyj okrug          56.80     52342.3 536049     UFO \n",
       "72  Sahalinskaya oblast                       50.34     33459.5 487344     DVFO\n",
       "73  Respublika Ingushetiya                    31.92     12375.5 480474     SKFO\n",
       "74  Karachaevo-Cherkesskaya Respublika        32.15     13353.9 466432     SKFO\n",
       "75  Respublika Adygeya                        28.28     17025.3 453366     YuFO\n",
       "76  Respublika Tyva                           46.97     11932.6 318550     SFO \n",
       "77  Kamchatskij kraj                          70.75     31481.6 314729     DVFO\n",
       "78  Respublika Kalmykiya                      34.42     10183.8 277803     YuFO\n",
       "79  Respublika Altaj                          36.90     14277.7 217007     SFO \n",
       "80  Evrejskaya avtonomnaya oblast             51.25     18151.4 164217     DVFO\n",
       "81  Magadanskaya oblast                       78.65     36575.6 145570     DVFO\n",
       "82  Neneckij avtonomnyj okrug                 81.26     61936.9  43937     SZFO"
      ]
     },
     "metadata": {},
     "output_type": "display_data"
    }
   ],
   "source": [
    "M"
   ]
  },
  {
   "cell_type": "markdown",
   "metadata": {
    "id": "bwpW77Ab0iyo"
   },
   "source": [
    "Провести корреляционный анализ числовых переменных таблицы M:"
   ]
  },
  {
   "cell_type": "code",
   "execution_count": 3,
   "metadata": {
    "colab": {
     "base_uri": "https://localhost:8080/",
     "height": 161
    },
    "id": "htaG076T0aln",
    "outputId": "04eaace9-4bb9-46cd-8bf4-1d71f4627d89"
   },
   "outputs": [
    {
     "data": {
      "text/html": [
       "<table>\n",
       "<thead><tr><th></th><th scope=col>M.MilkPrice</th><th scope=col>M.Income</th><th scope=col>M.Population</th></tr></thead>\n",
       "<tbody>\n",
       "\t<tr><th scope=row>M.MilkPrice</th><td> 1.0000000</td><td>0.6776266 </td><td>-0.1466148</td></tr>\n",
       "\t<tr><th scope=row>M.Income</th><td> 0.6776266</td><td>1.0000000 </td><td> 0.2770970</td></tr>\n",
       "\t<tr><th scope=row>M.Population</th><td>-0.1466148</td><td>0.2770970 </td><td> 1.0000000</td></tr>\n",
       "</tbody>\n",
       "</table>\n"
      ],
      "text/latex": [
       "\\begin{tabular}{r|lll}\n",
       "  & M.MilkPrice & M.Income & M.Population\\\\\n",
       "\\hline\n",
       "\tM.MilkPrice &  1.0000000 & 0.6776266  & -0.1466148\\\\\n",
       "\tM.Income &  0.6776266 & 1.0000000  &  0.2770970\\\\\n",
       "\tM.Population & -0.1466148 & 0.2770970  &  1.0000000\\\\\n",
       "\\end{tabular}\n"
      ],
      "text/markdown": [
       "\n",
       "| <!--/--> | M.MilkPrice | M.Income | M.Population |\n",
       "|---|---|---|---|\n",
       "| M.MilkPrice |  1.0000000 | 0.6776266  | -0.1466148 |\n",
       "| M.Income |  0.6776266 | 1.0000000  |  0.2770970 |\n",
       "| M.Population | -0.1466148 | 0.2770970  |  1.0000000 |\n",
       "\n"
      ],
      "text/plain": [
       "             M.MilkPrice M.Income  M.Population\n",
       "M.MilkPrice   1.0000000  0.6776266 -0.1466148  \n",
       "M.Income      0.6776266  1.0000000  0.2770970  \n",
       "M.Population -0.1466148  0.2770970  1.0000000  "
      ]
     },
     "metadata": {},
     "output_type": "display_data"
    }
   ],
   "source": [
    "cor(data.frame(M$MilkPrice,M$Income,M$Population))"
   ]
  },
  {
   "cell_type": "markdown",
   "metadata": {
    "id": "tnS3HTOy00jK"
   },
   "source": [
    "Построим диаграмму рассеяния для Цен на молоко и Среднедушевых доходов и регрессию для Цен на молоко и Среднедушевых доходов:"
   ]
  },
  {
   "cell_type": "code",
   "execution_count": 4,
   "metadata": {
    "colab": {
     "base_uri": "https://localhost:8080/",
     "height": 1000
    },
    "id": "m-8vVGX10h89",
    "outputId": "8a4da07e-e856-4f3d-e7b4-5bcf339e1223"
   },
   "outputs": [
    {
     "data": {
      "text/plain": [
       "\n",
       "Call:\n",
       "lm(formula = M$MilkPrice ~ M$Income)\n",
       "\n",
       "Residuals:\n",
       "    Min      1Q  Median      3Q     Max \n",
       "-17.343  -4.943  -1.379   2.640  28.686 \n",
       "\n",
       "Coefficients:\n",
       "             Estimate Std. Error t value Pr(>|t|)    \n",
       "(Intercept) 1.885e+01  2.332e+00   8.079 5.65e-12 ***\n",
       "M$Income    8.508e-04  1.032e-04   8.242 2.72e-12 ***\n",
       "---\n",
       "Signif. codes:  0 '***' 0.001 '**' 0.01 '*' 0.05 '.' 0.1 ' ' 1\n",
       "\n",
       "Residual standard error: 7.979 on 80 degrees of freedom\n",
       "Multiple R-squared:  0.4592,\tAdjusted R-squared:  0.4524 \n",
       "F-statistic: 67.92 on 1 and 80 DF,  p-value: 2.718e-12\n"
      ]
     },
     "metadata": {},
     "output_type": "display_data"
    },
    {
     "data": {
      "image/png": "[encoded data removed]",
      "text/plain": [
       "Plot with title \"Dependence of price on income \""
      ]
     },
     "metadata": {},
     "output_type": "display_data"
    },
    {
     "name": "stdout",
     "output_type": "stream",
     "text": [
      "\n",
      "  There is a binary version available but the source version is later:\n",
      "         binary source needs_compilation\n",
      "forecast   8.14   8.16              TRUE\n",
      "\n",
      "  Binaries will be installed\n",
      "package 'forecast' successfully unpacked and MD5 sums checked\n",
      "\n",
      "The downloaded binary packages are in\n",
      "\tC:\\Users\\sunch\\AppData\\Local\\Temp\\RtmpALfq9M\\downloaded_packages\n"
     ]
    },
    {
     "name": "stderr",
     "output_type": "stream",
     "text": [
      "Warning message:\n",
      "\"package 'forecast' was built under R version 3.6.3\"Registered S3 method overwritten by 'quantmod':\n",
      "  method            from\n",
      "  as.zoo.data.frame zoo \n"
     ]
    },
    {
     "data": {
      "text/html": [
       "<table>\n",
       "<thead><tr><th></th><th scope=col>ME</th><th scope=col>RMSE</th><th scope=col>MAE</th><th scope=col>MPE</th><th scope=col>MAPE</th><th scope=col>MASE</th></tr></thead>\n",
       "<tbody>\n",
       "\t<tr><th scope=row>Training set</th><td>1.301466e-16</td><td>7.881432    </td><td>5.546403    </td><td>-3.390968   </td><td>14.42109    </td><td>0.7574222   </td></tr>\n",
       "</tbody>\n",
       "</table>\n"
      ],
      "text/latex": [
       "\\begin{tabular}{r|llllll}\n",
       "  & ME & RMSE & MAE & MPE & MAPE & MASE\\\\\n",
       "\\hline\n",
       "\tTraining set & 1.301466e-16 & 7.881432     & 5.546403     & -3.390968    & 14.42109     & 0.7574222   \\\\\n",
       "\\end{tabular}\n"
      ],
      "text/markdown": [
       "\n",
       "| <!--/--> | ME | RMSE | MAE | MPE | MAPE | MASE |\n",
       "|---|---|---|---|---|---|---|\n",
       "| Training set | 1.301466e-16 | 7.881432     | 5.546403     | -3.390968    | 14.42109     | 0.7574222    |\n",
       "\n"
      ],
      "text/plain": [
       "             ME           RMSE     MAE      MPE       MAPE     MASE     \n",
       "Training set 1.301466e-16 7.881432 5.546403 -3.390968 14.42109 0.7574222"
      ]
     },
     "metadata": {},
     "output_type": "display_data"
    },
    {
     "data": {
      "image/png": "[encoded data removed]",
      "text/plain": [
       "Plot with title \"Resudals\""
      ]
     },
     "metadata": {},
     "output_type": "display_data"
    }
   ],
   "source": [
    "plot(x=M$Income,y=M$MilkPrice, main=\"Dependence of price on income \")\n",
    "M<-M[order(M$Income),]\n",
    "reg1<-lm(M$MilkPrice~M$Income)\n",
    "summary(reg1)\n",
    "abline(reg1)\n",
    "plot(residuals(reg1), main=\"Resudals\")\n",
    "abline(h=0, col=\"red\")\n",
    "install.packages('forecast')\n",
    "library(\"forecast\")\n",
    "accuracy(reg1)"
   ]
  },
  {
   "cell_type": "markdown",
   "metadata": {
    "id": "95dUeer73JkK"
   },
   "source": [
    "Построим регрессию для Цен на молоко и Численности населения:"
   ]
  },
  {
   "cell_type": "code",
   "execution_count": 5,
   "metadata": {
    "colab": {
     "base_uri": "https://localhost:8080/",
     "height": 1000
    },
    "id": "euSlq0pR0-0w",
    "outputId": "46ee290c-4097-4223-c444-3c87a69c47ea"
   },
   "outputs": [
    {
     "data": {
      "text/plain": [
       "\n",
       "Call:\n",
       "lm(formula = M$MilkPrice ~ M$Population)\n",
       "\n",
       "Residuals:\n",
       "    Min      1Q  Median      3Q     Max \n",
       "-11.197  -6.725  -3.454   2.290  43.103 \n",
       "\n",
       "Coefficients:\n",
       "               Estimate Std. Error t value Pr(>|t|)    \n",
       "(Intercept)   3.820e+01  1.666e+00  22.928   <2e-16 ***\n",
       "M$Population -8.812e-07  6.647e-07  -1.326    0.189    \n",
       "---\n",
       "Signif. codes:  0 '***' 0.001 '**' 0.01 '*' 0.05 '.' 0.1 ' ' 1\n",
       "\n",
       "Residual standard error: 10.73 on 80 degrees of freedom\n",
       "Multiple R-squared:  0.0215,\tAdjusted R-squared:  0.009265 \n",
       "F-statistic: 1.757 on 1 and 80 DF,  p-value: 0.1887\n"
      ]
     },
     "metadata": {},
     "output_type": "display_data"
    },
    {
     "data": {
      "image/png": "[encoded data removed]",
      "text/plain": [
       "Plot with title \"Dependence of the price on the population \""
      ]
     },
     "metadata": {},
     "output_type": "display_data"
    },
    {
     "data": {
      "text/html": [
       "<table>\n",
       "<thead><tr><th></th><th scope=col>ME</th><th scope=col>RMSE</th><th scope=col>MAE</th><th scope=col>MPE</th><th scope=col>MAPE</th><th scope=col>MASE</th></tr></thead>\n",
       "<tbody>\n",
       "\t<tr><th scope=row>Training set</th><td>-1.732143e-15</td><td>10.6013      </td><td>7.367707     </td><td>-5.95138     </td><td>18.98063     </td><td>1.006141     </td></tr>\n",
       "</tbody>\n",
       "</table>\n"
      ],
      "text/latex": [
       "\\begin{tabular}{r|llllll}\n",
       "  & ME & RMSE & MAE & MPE & MAPE & MASE\\\\\n",
       "\\hline\n",
       "\tTraining set & -1.732143e-15 & 10.6013       & 7.367707      & -5.95138      & 18.98063      & 1.006141     \\\\\n",
       "\\end{tabular}\n"
      ],
      "text/markdown": [
       "\n",
       "| <!--/--> | ME | RMSE | MAE | MPE | MAPE | MASE |\n",
       "|---|---|---|---|---|---|---|\n",
       "| Training set | -1.732143e-15 | 10.6013       | 7.367707      | -5.95138      | 18.98063      | 1.006141      |\n",
       "\n"
      ],
      "text/plain": [
       "             ME            RMSE    MAE      MPE      MAPE     MASE    \n",
       "Training set -1.732143e-15 10.6013 7.367707 -5.95138 18.98063 1.006141"
      ]
     },
     "metadata": {},
     "output_type": "display_data"
    },
    {
     "data": {
      "image/png": "[encoded data removed]",
      "text/plain": [
       "plot without title"
      ]
     },
     "metadata": {},
     "output_type": "display_data"
    }
   ],
   "source": [
    "plot(x=M$Population,y=M$MilkPrice, main=\"Dependence of the price on the population \" , \n",
    "xlab = \"Per capita income \", ylab = \"Milk price \")\n",
    "M<-M[order(M$Population),]\n",
    "reg2<-lm(M$MilkPrice~M$Population)\n",
    "summary(reg2)\n",
    "abline(reg2)\n",
    "plot(residuals(reg2))\n",
    "abline(h=0, col=\"red\")\n",
    "accuracy(reg2)"
   ]
  },
  {
   "cell_type": "markdown",
   "metadata": {
    "id": "k76A8bcw3mMm"
   },
   "source": [
    "Построим множественную нелинейную регрессию для Цен на молоко, \n",
    "Среднедушевых доходов и Численности населения. Для оценки остатков сначала \n",
    "отсортируем данные по возрастанию Среднедушевых доходов:"
   ]
  },
  {
   "cell_type": "code",
   "execution_count": 6,
   "metadata": {
    "colab": {
     "base_uri": "https://localhost:8080/",
     "height": 848
    },
    "id": "6YJt3mpp3hgi",
    "outputId": "a8ac2a0e-1918-4236-abee-e0472612713e"
   },
   "outputs": [
    {
     "data": {
      "text/plain": [
       "\n",
       "Call:\n",
       "lm(formula = M$MilkPrice ~ M$Income + M$Population)\n",
       "\n",
       "Residuals:\n",
       "    Min      1Q  Median      3Q     Max \n",
       "-13.205  -4.440  -1.229   2.609  25.857 \n",
       "\n",
       "Coefficients:\n",
       "               Estimate Std. Error t value Pr(>|t|)    \n",
       "(Intercept)   2.004e+01  2.083e+00   9.623 5.95e-15 ***\n",
       "M$Income      9.768e-04  9.525e-05  10.256 3.54e-16 ***\n",
       "M$Population -2.177e-06  4.560e-07  -4.775 8.14e-06 ***\n",
       "---\n",
       "Signif. codes:  0 '***' 0.001 '**' 0.01 '*' 0.05 '.' 0.1 ' ' 1\n",
       "\n",
       "Residual standard error: 7.074 on 79 degrees of freedom\n",
       "Multiple R-squared:  0.5803,\tAdjusted R-squared:  0.5697 \n",
       "F-statistic: 54.61 on 2 and 79 DF,  p-value: 1.278e-15\n"
      ]
     },
     "metadata": {},
     "output_type": "display_data"
    },
    {
     "data": {
      "text/html": [
       "<table>\n",
       "<thead><tr><th></th><th scope=col>ME</th><th scope=col>RMSE</th><th scope=col>MAE</th><th scope=col>MPE</th><th scope=col>MAPE</th><th scope=col>MASE</th></tr></thead>\n",
       "<tbody>\n",
       "\t<tr><th scope=row>Training set</th><td>2.597887e-16</td><td>6.943093    </td><td>4.939541    </td><td>-2.796661   </td><td>13.09102    </td><td>0.6745485   </td></tr>\n",
       "</tbody>\n",
       "</table>\n"
      ],
      "text/latex": [
       "\\begin{tabular}{r|llllll}\n",
       "  & ME & RMSE & MAE & MPE & MAPE & MASE\\\\\n",
       "\\hline\n",
       "\tTraining set & 2.597887e-16 & 6.943093     & 4.939541     & -2.796661    & 13.09102     & 0.6745485   \\\\\n",
       "\\end{tabular}\n"
      ],
      "text/markdown": [
       "\n",
       "| <!--/--> | ME | RMSE | MAE | MPE | MAPE | MASE |\n",
       "|---|---|---|---|---|---|---|\n",
       "| Training set | 2.597887e-16 | 6.943093     | 4.939541     | -2.796661    | 13.09102     | 0.6745485    |\n",
       "\n"
      ],
      "text/plain": [
       "             ME           RMSE     MAE      MPE       MAPE     MASE     \n",
       "Training set 2.597887e-16 6.943093 4.939541 -2.796661 13.09102 0.6745485"
      ]
     },
     "metadata": {},
     "output_type": "display_data"
    },
    {
     "data": {
      "image/png": "[encoded data removed]",
      "text/plain": [
       "Plot with title \"Resudals\""
      ]
     },
     "metadata": {},
     "output_type": "display_data"
    }
   ],
   "source": [
    "M<-M[order(M$Income),]\n",
    "reg3.1<-lm(M$MilkPrice~M$Income+M$Population)\n",
    "M<-M[order(M$Income),]\n",
    "summary(reg3.1)\n",
    "accuracy(reg3.1)\n",
    "plot(residuals(reg3.1), main = \"Resudals\")\n",
    "abline(h=0, col=\"red\")\n"
   ]
  },
  {
   "cell_type": "markdown",
   "metadata": {
    "id": "QfbclXAO30ck"
   },
   "source": [
    " Построим множественную нелинейную регрессию для Цен на молоко, \n",
    "Среднедушевых доходов и Численности населения. Для оценки остатков теперь \n",
    "отсортируем данные по возрастанию Численности населения:"
   ]
  },
  {
   "cell_type": "code",
   "execution_count": 7,
   "metadata": {
    "colab": {
     "base_uri": "https://localhost:8080/",
     "height": 848
    },
    "id": "q_ZeLzRs3q4S",
    "outputId": "7177a479-b755-449a-94f9-bd6dcd095d52"
   },
   "outputs": [
    {
     "data": {
      "text/plain": [
       "\n",
       "Call:\n",
       "lm(formula = M$MilkPrice ~ M$Income + M$Population)\n",
       "\n",
       "Residuals:\n",
       "    Min      1Q  Median      3Q     Max \n",
       "-13.205  -4.440  -1.229   2.609  25.857 \n",
       "\n",
       "Coefficients:\n",
       "               Estimate Std. Error t value Pr(>|t|)    \n",
       "(Intercept)   2.004e+01  2.083e+00   9.623 5.95e-15 ***\n",
       "M$Income      9.768e-04  9.525e-05  10.256 3.54e-16 ***\n",
       "M$Population -2.177e-06  4.560e-07  -4.775 8.14e-06 ***\n",
       "---\n",
       "Signif. codes:  0 '***' 0.001 '**' 0.01 '*' 0.05 '.' 0.1 ' ' 1\n",
       "\n",
       "Residual standard error: 7.074 on 79 degrees of freedom\n",
       "Multiple R-squared:  0.5803,\tAdjusted R-squared:  0.5697 \n",
       "F-statistic: 54.61 on 2 and 79 DF,  p-value: 1.278e-15\n"
      ]
     },
     "metadata": {},
     "output_type": "display_data"
    },
    {
     "data": {
      "text/html": [
       "<table>\n",
       "<thead><tr><th></th><th scope=col>ME</th><th scope=col>RMSE</th><th scope=col>MAE</th><th scope=col>MPE</th><th scope=col>MAPE</th><th scope=col>MASE</th></tr></thead>\n",
       "<tbody>\n",
       "\t<tr><th scope=row>Training set</th><td>1.300355e-16</td><td>6.943093    </td><td>4.939541    </td><td>-2.796661   </td><td>13.09102    </td><td>0.6745485   </td></tr>\n",
       "</tbody>\n",
       "</table>\n"
      ],
      "text/latex": [
       "\\begin{tabular}{r|llllll}\n",
       "  & ME & RMSE & MAE & MPE & MAPE & MASE\\\\\n",
       "\\hline\n",
       "\tTraining set & 1.300355e-16 & 6.943093     & 4.939541     & -2.796661    & 13.09102     & 0.6745485   \\\\\n",
       "\\end{tabular}\n"
      ],
      "text/markdown": [
       "\n",
       "| <!--/--> | ME | RMSE | MAE | MPE | MAPE | MASE |\n",
       "|---|---|---|---|---|---|---|\n",
       "| Training set | 1.300355e-16 | 6.943093     | 4.939541     | -2.796661    | 13.09102     | 0.6745485    |\n",
       "\n"
      ],
      "text/plain": [
       "             ME           RMSE     MAE      MPE       MAPE     MASE     \n",
       "Training set 1.300355e-16 6.943093 4.939541 -2.796661 13.09102 0.6745485"
      ]
     },
     "metadata": {},
     "output_type": "display_data"
    },
    {
     "data": {
      "image/png": "[encoded data removed]",
      "text/plain": [
       "Plot with title \"Resudals\""
      ]
     },
     "metadata": {},
     "output_type": "display_data"
    }
   ],
   "source": [
    "M<-M[order(M$Population),]\n",
    "reg3.2<-lm(M$MilkPrice~M$Income+M$Population)\n",
    "M<-M[order(M$Income),]\n",
    "summary(reg3.2)\n",
    "accuracy(reg3.2)\n",
    "plot(residuals(reg3.2), main = \"Resudals\")\n",
    "abline(h=0, col=\"red\")\n"
   ]
  },
  {
   "cell_type": "markdown",
   "metadata": {
    "id": "CN5plage4Gjj"
   },
   "source": [
    "***Постройте частные уравнения регрессии (TASK)***"
   ]
  },
  {
   "cell_type": "code",
   "execution_count": 8,
   "metadata": {
    "colab": {
     "base_uri": "https://localhost:8080/",
     "height": 69
    },
    "id": "EAAZ3qoy35kz",
    "outputId": "c5b57d34-c536-4612-d905-3442fa2e19ee"
   },
   "outputs": [
    {
     "data": {
      "text/html": [
       "<dl class=dl-horizontal>\n",
       "\t<dt>(Intercept)</dt>\n",
       "\t\t<dd>20.0431261274803</dd>\n",
       "\t<dt>M$Income</dt>\n",
       "\t\t<dd>0.00097682200624021</dd>\n",
       "\t<dt>M$Population</dt>\n",
       "\t\t<dd>-2.17696949705361e-06</dd>\n",
       "</dl>\n"
      ],
      "text/latex": [
       "\\begin{description*}\n",
       "\\item[(Intercept)] 20.0431261274803\n",
       "\\item[M\\textbackslash{}\\$Income] 0.00097682200624021\n",
       "\\item[M\\textbackslash{}\\$Population] -2.17696949705361e-06\n",
       "\\end{description*}\n"
      ],
      "text/markdown": [
       "(Intercept)\n",
       ":   20.0431261274803M$Income\n",
       ":   0.00097682200624021M$Population\n",
       ":   -2.17696949705361e-06\n",
       "\n"
      ],
      "text/plain": [
       "  (Intercept)      M$Income  M$Population \n",
       " 2.004313e+01  9.768220e-04 -2.176969e-06 "
      ]
     },
     "metadata": {},
     "output_type": "display_data"
    },
    {
     "data": {
      "text/html": [
       "20919.8524390244"
      ],
      "text/latex": [
       "20919.8524390244"
      ],
      "text/markdown": [
       "20919.8524390244"
      ],
      "text/plain": [
       "[1] 20919.85"
      ]
     },
     "metadata": {},
     "output_type": "display_data"
    },
    {
     "data": {
      "text/html": [
       "1761141.81707317"
      ],
      "text/latex": [
       "1761141.81707317"
      ],
      "text/markdown": [
       "1761141.81707317"
      ],
      "text/plain": [
       "[1] 1761142"
      ]
     },
     "metadata": {},
     "output_type": "display_data"
    }
   ],
   "source": [
    "coefficients(reg3.2)\n",
    "mean(M$Income)\n",
    "mean(M$Population)"
   ]
  },
  {
   "cell_type": "markdown",
   "metadata": {
    "id": "twzZxsljGACD"
   },
   "source": [
    "*   Уравнение регрессии:\n",
    "\n",
    "  $y_{MP} = 20.04312 + 0.0009768 * y_{Inc} - 2.1769*10^{-6} * y_{P} + \\epsilon$\n",
    "*   Частные уравнения регрессии:\n",
    "\n",
    "  $y_{i, j} = b_{0} + b_{j}\\overline{X_{j}} + b_{i}X_i + \\epsilon$ \n",
    "\n",
    "  $y_{MP, Inc} = 40.477631 - 2.1769*10^{-6} * y_{P} + \\epsilon$ \n",
    "  \n",
    "  $y_{MP, P} = 20.043126125 + 0.0009768 * y_{Inc} + \\epsilon$"
   ]
  },
  {
   "cell_type": "markdown",
   "metadata": {
    "id": "AQlA1e4oKkdW"
   },
   "source": [
    "***Постройте графики для частных коэффициентов эластичности ??? (TASK)***"
   ]
  },
  {
   "cell_type": "markdown",
   "metadata": {
    "id": "sQtHx3DEK6ei"
   },
   "source": [
    "$E_{Inc} = b_{Inc} \\frac{X_{Inc}}{Y_{MP, Inc, P}}$\n",
    "\n",
    "$E_{P} = b_{P} \\frac{X_{P}}{Y_{MP, Inc, P}}$"
   ]
  },
  {
   "cell_type": "code",
   "execution_count": 9,
   "metadata": {
    "colab": {
     "base_uri": "https://localhost:8080/",
     "height": 34
    },
    "id": "7MChjCPHF8MS",
    "outputId": "e76cf02f-945a-46a3-b7eb-acdba921bf58"
   },
   "outputs": [
    {
     "data": {
      "text/html": [
       "36.6438022408525"
      ],
      "text/latex": [
       "36.6438022408525"
      ],
      "text/markdown": [
       "36.6438022408525"
      ],
      "text/plain": [
       "[1] 36.6438"
      ]
     },
     "metadata": {},
     "output_type": "display_data"
    }
   ],
   "source": [
    "Y_MP_Inc_P = 20.04312 + 0.0009768 * 20919.8524390244 - 2.1769*10^{-6} * 1761141.81707317\n",
    "Y_MP_Inc_P"
   ]
  },
  {
   "cell_type": "code",
   "execution_count": 10,
   "metadata": {
    "colab": {
     "base_uri": "https://localhost:8080/",
     "height": 892
    },
    "id": "qnFuH8etKf0A",
    "outputId": "4a187c31-ba17-4713-f9ed-2f7f856dd69a"
   },
   "outputs": [
    {
     "data": {
      "text/html": [
       "0.557652607339354"
      ],
      "text/latex": [
       "0.557652607339354"
      ],
      "text/markdown": [
       "0.557652607339354"
      ],
      "text/plain": [
       "[1] 0.5576526"
      ]
     },
     "metadata": {},
     "output_type": "display_data"
    },
    {
     "data": {
      "text/html": [
       "46.9460924281272"
      ],
      "text/latex": [
       "46.9460924281272"
      ],
      "text/markdown": [
       "46.9460924281272"
      ],
      "text/plain": [
       "[1] 46.94609"
      ]
     },
     "metadata": {},
     "output_type": "display_data"
    },
    {
     "data": {
      "image/png": "[encoded data removed]",
      "text/plain": [
       "Plot with title \"Elasticity Graph of Income factor\""
      ]
     },
     "metadata": {},
     "output_type": "display_data"
    },
    {
     "data": {
      "image/png": "[encoded data removed]",
      "text/plain": [
       "Plot with title \"Elasticity Graph of population factor\""
      ]
     },
     "metadata": {},
     "output_type": "display_data"
    }
   ],
   "source": [
    "0.0009768 * mean(M$Income) / Y_MP_Inc_P # Усредненный коэфф. эластичности фактора дохода\n",
    "0.0009768 * mean(M$Population) / Y_MP_Inc_P # Усредненный коэфф. эластичности фактора популяции\n",
    "\n",
    "plot(seq(1, 82, 1), 0.0009768 * M[order(M$Income), ]$Income/36.6438022408525, type = 'l', main = 'Elasticity Graph of Income factor',\n",
    "xlab = 'Observation', ylab = 'Value for elasticity')\n",
    "plot(seq(1, 82, 1), - 2.1769*10^{-6} * M[order(M$Population), ]$Population/36.6438022408525, type = 'l', main = 'Elasticity Graph of population factor',\n",
    "xlab = 'Observation', ylab = 'Value for elasticity', col = 'red')"
   ]
  },
  {
   "cell_type": "markdown",
   "metadata": {
    "id": "Iei4LuJEQJ08"
   },
   "source": [
    "Построим множественную нелинейную регрессию для Цен на молоко, \n",
    "Среднедушевых доходов, Численности населения и Федерального округа. Будем \n",
    "считать, что фактор Федеральный округ влияет на свободный член. Создадим 8\n",
    "фиктивных переменных и заполним их данными."
   ]
  },
  {
   "cell_type": "code",
   "execution_count": 11,
   "metadata": {
    "colab": {
     "base_uri": "https://localhost:8080/",
     "height": 1000
    },
    "id": "WpkQq3tNLsUX",
    "outputId": "8ae8e14d-fbb4-4915-cdb6-42b068e105cb"
   },
   "outputs": [
    {
     "data": {
      "text/html": [
       "<table>\n",
       "<thead><tr><th></th><th scope=col>SF</th><th scope=col>MilkPrice</th><th scope=col>Income</th><th scope=col>Population</th><th scope=col>FO</th><th scope=col>ZCFO</th><th scope=col>ZUFO</th><th scope=col>ZSZFO</th><th scope=col>ZUrFO</th><th scope=col>ZPFO</th><th scope=col>ZSKFO</th><th scope=col>ZSFO</th><th scope=col>ZDVFO</th></tr></thead>\n",
       "<tbody>\n",
       "\t<tr><th scope=row>20</th><td>Saratovskaya oblast                   </td><td>24.97                                 </td><td>14243.3                               </td><td>2479260                               </td><td>PFO                                   </td><td>0                                     </td><td>0                                     </td><td>0                                     </td><td>0                                     </td><td>1                                     </td><td>0                                     </td><td>0                                     </td><td>0                                     </td></tr>\n",
       "\t<tr><th scope=row>46</th><td>Kurskaya oblast                       </td><td>26.01                                 </td><td>18807.8                               </td><td>1122893                               </td><td>CFO                                   </td><td>1                                     </td><td>0                                     </td><td>0                                     </td><td>0                                     </td><td>0                                     </td><td>0                                     </td><td>0                                     </td><td>0                                     </td></tr>\n",
       "\t<tr><th scope=row>41</th><td>Bryanskaya oblast                     </td><td>26.11                                 </td><td>17421.6                               </td><td>1220530                               </td><td>CFO                                   </td><td>1                                     </td><td>0                                     </td><td>0                                     </td><td>0                                     </td><td>0                                     </td><td>0                                     </td><td>0                                     </td><td>0                                     </td></tr>\n",
       "\t<tr><th scope=row>37</th><td>Kirovskaya oblast                     </td><td>27.07                                 </td><td>16529.9                               </td><td>1291684                               </td><td>PFO                                   </td><td>0                                     </td><td>0                                     </td><td>0                                     </td><td>0                                     </td><td>1                                     </td><td>0                                     </td><td>0                                     </td><td>0                                     </td></tr>\n",
       "\t<tr><th scope=row>39</th><td>Ulyanovskaya oblast                   </td><td>27.59                                 </td><td>16350.6                               </td><td>1252887                               </td><td>PFO                                   </td><td>0                                     </td><td>0                                     </td><td>0                                     </td><td>0                                     </td><td>1                                     </td><td>0                                     </td><td>0                                     </td><td>0                                     </td></tr>\n",
       "\t<tr><th scope=row>8</th><td>Respublika Tatarstan                  </td><td>27.98                                 </td><td>24009.8                               </td><td>3885253                               </td><td>PFO                                   </td><td>0                                     </td><td>0                                     </td><td>0                                     </td><td>0                                     </td><td>1                                     </td><td>0                                     </td><td>0                                     </td><td>0                                     </td></tr>\n",
       "\t<tr><th scope=row>52</th><td>Kaluzhskaya oblast                    </td><td>28.23                                 </td><td>20621.2                               </td><td>1014570                               </td><td>CFO                                   </td><td>1                                     </td><td>0                                     </td><td>0                                     </td><td>0                                     </td><td>0                                     </td><td>0                                     </td><td>0                                     </td><td>0                                     </td></tr>\n",
       "\t<tr><th scope=row>75</th><td>Respublika Adygeya                    </td><td>28.28                                 </td><td>17025.3                               </td><td> 453366                               </td><td>YuFO                                  </td><td>0                                     </td><td>1                                     </td><td>0                                     </td><td>0                                     </td><td>0                                     </td><td>0                                     </td><td>0                                     </td><td>0                                     </td></tr>\n",
       "\t<tr><th scope=row>45</th><td>Ryazanskaya oblast                    </td><td>28.37                                 </td><td>17664.4                               </td><td>1126739                               </td><td>CFO                                   </td><td>1                                     </td><td>0                                     </td><td>0                                     </td><td>0                                     </td><td>0                                     </td><td>0                                     </td><td>0                                     </td><td>0                                     </td></tr>\n",
       "\t<tr><th scope=row>29</th><td>Belgorodskaya oblast                  </td><td>28.39                                 </td><td>21562.9                               </td><td>1552865                               </td><td>CFO                                   </td><td>1                                     </td><td>0                                     </td><td>0                                     </td><td>0                                     </td><td>0                                     </td><td>0                                     </td><td>0                                     </td><td>0                                     </td></tr>\n",
       "\t<tr><th scope=row>30</th><td>Udmurtskaya Respublika                </td><td>28.45                                 </td><td>16411.0                               </td><td>1516826                               </td><td>PFO                                   </td><td>0                                     </td><td>0                                     </td><td>0                                     </td><td>0                                     </td><td>1                                     </td><td>0                                     </td><td>0                                     </td><td>0                                     </td></tr>\n",
       "\t<tr><th scope=row>31</th><td>Tulskaya oblast                       </td><td>28.59                                 </td><td>19291.1                               </td><td>1499417                               </td><td>CFO                                   </td><td>1                                     </td><td>0                                     </td><td>0                                     </td><td>0                                     </td><td>0                                     </td><td>0                                     </td><td>0                                     </td><td>0                                     </td></tr>\n",
       "\t<tr><th scope=row>15</th><td>Stavropolskij kraj                    </td><td>28.63                                 </td><td>16877.2                               </td><td>2804383                               </td><td>SKFO                                  </td><td>0                                     </td><td>0                                     </td><td>0                                     </td><td>0                                     </td><td>0                                     </td><td>1                                     </td><td>0                                     </td><td>0                                     </td></tr>\n",
       "\t<tr><th scope=row>42</th><td>Vologodskaya oblast                   </td><td>28.69                                 </td><td>18125.2                               </td><td>1183860                               </td><td>SZFO                                  </td><td>0                                     </td><td>0                                     </td><td>1                                     </td><td>0                                     </td><td>0                                     </td><td>0                                     </td><td>0                                     </td><td>0                                     </td></tr>\n",
       "\t<tr><th scope=row>63</th><td>Orlovskaya oblast                     </td><td>28.89                                 </td><td>16762.2                               </td><td> 754816                               </td><td>CFO                                   </td><td>1                                     </td><td>0                                     </td><td>0                                     </td><td>0                                     </td><td>0                                     </td><td>0                                     </td><td>0                                     </td><td>0                                     </td></tr>\n",
       "\t<tr><th scope=row>25</th><td>Omskaya oblast                        </td><td>28.95                                 </td><td>19468.8                               </td><td>1972682                               </td><td>SFO                                   </td><td>0                                     </td><td>0                                     </td><td>0                                     </td><td>0                                     </td><td>0                                     </td><td>0                                     </td><td>1                                     </td><td>0                                     </td></tr>\n",
       "\t<tr><th scope=row>60</th><td>Respublika Mordoviya                  </td><td>29.07                                 </td><td>13062.7                               </td><td> 808541                               </td><td>PFO                                   </td><td>0                                     </td><td>0                                     </td><td>0                                     </td><td>0                                     </td><td>1                                     </td><td>0                                     </td><td>0                                     </td><td>0                                     </td></tr>\n",
       "\t<tr><th scope=row>49</th><td>Tambovskaya oblast                    </td><td>29.09                                 </td><td>17469.8                               </td><td>1040327                               </td><td>CFO                                   </td><td>1                                     </td><td>0                                     </td><td>0                                     </td><td>0                                     </td><td>0                                     </td><td>0                                     </td><td>0                                     </td><td>0                                     </td></tr>\n",
       "\t<tr><th scope=row>65</th><td>Respublika Marij El                   </td><td>29.52                                 </td><td>12537.9                               </td><td> 684684                               </td><td>PFO                                   </td><td>0                                     </td><td>0                                     </td><td>0                                     </td><td>0                                     </td><td>1                                     </td><td>0                                     </td><td>0                                     </td><td>0                                     </td></tr>\n",
       "\t<tr><th scope=row>7</th><td>Respublika Bashkortostan              </td><td>29.73                                 </td><td>21258.8                               </td><td>4066972                               </td><td>PFO                                   </td><td>0                                     </td><td>0                                     </td><td>0                                     </td><td>0                                     </td><td>1                                     </td><td>0                                     </td><td>0                                     </td><td>0                                     </td></tr>\n",
       "\t<tr><th scope=row>24</th><td>Orenburgskaya oblast                  </td><td>29.92                                 </td><td>16539.1                               </td><td>1989589                               </td><td>PFO                                   </td><td>0                                     </td><td>0                                     </td><td>0                                     </td><td>0                                     </td><td>1                                     </td><td>0                                     </td><td>0                                     </td><td>0                                     </td></tr>\n",
       "\t<tr><th scope=row>34</th><td>Penzenskaya oblast                    </td><td>29.99                                 </td><td>15765.3                               </td><td>1341526                               </td><td>PFO                                   </td><td>0                                     </td><td>0                                     </td><td>0                                     </td><td>0                                     </td><td>1                                     </td><td>0                                     </td><td>0                                     </td><td>0                                     </td></tr>\n",
       "\t<tr><th scope=row>64</th><td>Respublika Severnaya Osetiya - Alaniya</td><td>30.13                                 </td><td>16184.7                               </td><td> 703262                               </td><td>SKFO                                  </td><td>0                                     </td><td>0                                     </td><td>0                                     </td><td>0                                     </td><td>0                                     </td><td>1                                     </td><td>0                                     </td><td>0                                     </td></tr>\n",
       "\t<tr><th scope=row>19</th><td>Volgogradskaya oblast                 </td><td>30.37                                 </td><td>16066.4                               </td><td>2535202                               </td><td>YuFO                                  </td><td>0                                     </td><td>1                                     </td><td>0                                     </td><td>0                                     </td><td>0                                     </td><td>0                                     </td><td>0                                     </td><td>0                                     </td></tr>\n",
       "\t<tr><th scope=row>17</th><td>Kemerovskaya oblast                   </td><td>31.00                                 </td><td>18385.5                               </td><td>2708844                               </td><td>SFO                                   </td><td>0                                     </td><td>0                                     </td><td>0                                     </td><td>0                                     </td><td>0                                     </td><td>0                                     </td><td>1                                     </td><td>0                                     </td></tr>\n",
       "\t<tr><th scope=row>3</th><td>Krasnodarskij kraj                    </td><td>31.05                                 </td><td>21077.2                               </td><td>5570945                               </td><td>YuFO                                  </td><td>0                                     </td><td>1                                     </td><td>0                                     </td><td>0                                     </td><td>0                                     </td><td>0                                     </td><td>0                                     </td><td>0                                     </td></tr>\n",
       "\t<tr><th scope=row>23</th><td>Voronezhskaya oblast                  </td><td>31.15                                 </td><td>18885.1                               </td><td>2335408                               </td><td>CFO                                   </td><td>1                                     </td><td>0                                     </td><td>0                                     </td><td>0                                     </td><td>0                                     </td><td>0                                     </td><td>0                                     </td><td>0                                     </td></tr>\n",
       "\t<tr><th scope=row>22</th><td>Altajskij kraj                        </td><td>31.27                                 </td><td>13628.9                               </td><td>2365680                               </td><td>SFO                                   </td><td>0                                     </td><td>0                                     </td><td>0                                     </td><td>0                                     </td><td>0                                     </td><td>0                                     </td><td>1                                     </td><td>0                                     </td></tr>\n",
       "\t<tr><th scope=row>57</th><td>Kabardino-Balkarskaya Respublika      </td><td>31.76                                 </td><td>13681.1                               </td><td> 864454                               </td><td>SKFO                                  </td><td>0                                     </td><td>0                                     </td><td>0                                     </td><td>0                                     </td><td>0                                     </td><td>1                                     </td><td>0                                     </td><td>0                                     </td></tr>\n",
       "\t<tr><th scope=row>12</th><td>Samarskaya oblast                     </td><td>31.84                                 </td><td>24683.0                               </td><td>3203679                               </td><td>PFO                                   </td><td>0                                     </td><td>0                                     </td><td>0                                     </td><td>0                                     </td><td>1                                     </td><td>0                                     </td><td>0                                     </td><td>0                                     </td></tr>\n",
       "\t<tr><th scope=row>...</th><td>...</td><td>...</td><td>...</td><td>...</td><td>...</td><td>...</td><td>...</td><td>...</td><td>...</td><td>...</td><td>...</td><td>...</td><td>...</td></tr>\n",
       "\t<tr><th scope=row>2</th><td>Moskovskaya oblast                       </td><td>35.91                                    </td><td>29699.1                                  </td><td> 7423470                                 </td><td>CFO                                      </td><td>1                                        </td><td>0                                        </td><td>0                                        </td><td>0                                        </td><td>0                                        </td><td>0                                        </td><td>0                                        </td><td>0                                        </td></tr>\n",
       "\t<tr><th scope=row>14</th><td>Krasnoyarskij kraj                       </td><td>36.15                                    </td><td>22137.6                                  </td><td> 2875301                                 </td><td>SFO                                      </td><td>0                                        </td><td>0                                        </td><td>0                                        </td><td>0                                        </td><td>0                                        </td><td>0                                        </td><td>1                                        </td><td>0                                        </td></tr>\n",
       "\t<tr><th scope=row>13</th><td>Respublika Dagestan                      </td><td>36.22                                    </td><td>20647.9                                  </td><td> 3041900                                 </td><td>SKFO                                     </td><td>0                                        </td><td>0                                        </td><td>0                                        </td><td>0                                        </td><td>0                                        </td><td>1                                        </td><td>0                                        </td><td>0                                        </td></tr>\n",
       "\t<tr><th scope=row>58</th><td>Kurganskaya oblast                       </td><td>36.23                                    </td><td>16019.5                                  </td><td>  854109                                 </td><td>UFO                                      </td><td>0                                        </td><td>0                                        </td><td>0                                        </td><td>1                                        </td><td>0                                        </td><td>0                                        </td><td>0                                        </td><td>0                                        </td></tr>\n",
       "\t<tr><th scope=row>79</th><td>Respublika Altaj                         </td><td>36.90                                    </td><td>14277.7                                  </td><td>  217007                                 </td><td>SFO                                      </td><td>0                                        </td><td>0                                        </td><td>0                                        </td><td>0                                        </td><td>0                                        </td><td>0                                        </td><td>1                                        </td><td>0                                        </td></tr>\n",
       "\t<tr><th scope=row>48</th><td>Tomskaya oblast                          </td><td>37.29                                    </td><td>17875.6                                  </td><td> 1078891                                 </td><td>SFO                                      </td><td>0                                        </td><td>0                                        </td><td>0                                        </td><td>0                                        </td><td>0                                        </td><td>0                                        </td><td>1                                        </td><td>0                                        </td></tr>\n",
       "\t<tr><th scope=row>21</th><td>Irkutskaya oblast                        </td><td>37.37                                    </td><td>17720.3                                  </td><td> 2408901                                 </td><td>SFO                                      </td><td>0                                        </td><td>0                                        </td><td>0                                        </td><td>0                                        </td><td>0                                        </td><td>0                                        </td><td>1                                        </td><td>0                                        </td></tr>\n",
       "\t<tr><th scope=row>59</th><td>Respublika Komi                          </td><td>38.19                                    </td><td>26787.3                                  </td><td>  850554                                 </td><td>SZFO                                     </td><td>0                                        </td><td>0                                        </td><td>1                                        </td><td>0                                        </td><td>0                                        </td><td>0                                        </td><td>0                                        </td><td>0                                        </td></tr>\n",
       "\t<tr><th scope=row>70</th><td>Respublika Hakasiya                      </td><td>38.59                                    </td><td>15991.4                                  </td><td>  537668                                 </td><td>SFO                                      </td><td>0                                        </td><td>0                                        </td><td>0                                        </td><td>0                                        </td><td>0                                        </td><td>0                                        </td><td>1                                        </td><td>0                                        </td></tr>\n",
       "\t<tr><th scope=row>4</th><td>Sankt-Peterburg                          </td><td>38.98                                    </td><td>27794.6                                  </td><td> 5281579                                 </td><td>SZFO                                     </td><td>0                                        </td><td>0                                        </td><td>1                                        </td><td>0                                        </td><td>0                                        </td><td>0                                        </td><td>0                                        </td><td>0                                        </td></tr>\n",
       "\t<tr><th scope=row>43</th><td>Arhangelskaya oblast                     </td><td>39.51                                    </td><td>23635.8                                  </td><td> 1121813                                 </td><td>SZFO                                     </td><td>0                                        </td><td>0                                        </td><td>1                                        </td><td>0                                        </td><td>0                                        </td><td>0                                        </td><td>0                                        </td><td>0                                        </td></tr>\n",
       "\t<tr><th scope=row>62</th><td>Murmanskaya oblast                       </td><td>39.78                                    </td><td>28604.2                                  </td><td>  757621                                 </td><td>SZFO                                     </td><td>0                                        </td><td>0                                        </td><td>1                                        </td><td>0                                        </td><td>0                                        </td><td>0                                        </td><td>0                                        </td><td>0                                        </td></tr>\n",
       "\t<tr><th scope=row>54</th><td>Respublika Buryatiya                     </td><td>39.98                                    </td><td>17119.0                                  </td><td>  984134                                 </td><td>SFO                                      </td><td>0                                        </td><td>0                                        </td><td>0                                        </td><td>0                                        </td><td>0                                        </td><td>0                                        </td><td>1                                        </td><td>0                                        </td></tr>\n",
       "\t<tr><th scope=row>27</th><td>Leningradskaya oblast                    </td><td>40.62                                    </td><td>17925.0                                  </td><td> 1791916                                 </td><td>SZFO                                     </td><td>0                                        </td><td>0                                        </td><td>1                                        </td><td>0                                        </td><td>0                                        </td><td>0                                        </td><td>0                                        </td><td>0                                        </td></tr>\n",
       "\t<tr><th scope=row>47</th><td>Zabajkalskij kraj                        </td><td>40.94                                    </td><td>17335.6                                  </td><td> 1078983                                 </td><td>SFO                                      </td><td>0                                        </td><td>0                                        </td><td>0                                        </td><td>0                                        </td><td>0                                        </td><td>0                                        </td><td>1                                        </td><td>0                                        </td></tr>\n",
       "\t<tr><th scope=row>61</th><td>Amurskaya oblast                         </td><td>41.80                                    </td><td>21469.3                                  </td><td>  801752                                 </td><td>DVFO                                     </td><td>0                                        </td><td>0                                        </td><td>0                                        </td><td>0                                        </td><td>0                                        </td><td>0                                        </td><td>0                                        </td><td>1                                        </td></tr>\n",
       "\t<tr><th scope=row>1</th><td>Moskva                                   </td><td>42.87                                    </td><td>48621.6                                  </td><td>12380664                                 </td><td>CFO                                      </td><td>1                                        </td><td>0                                        </td><td>0                                        </td><td>0                                        </td><td>0                                        </td><td>0                                        </td><td>0                                        </td><td>0                                        </td></tr>\n",
       "\t<tr><th scope=row>9</th><td>Tyumenskaya oblast                       </td><td>44.91                                    </td><td>33280.7                                  </td><td> 1477903                                 </td><td>UFO                                      </td><td>0                                        </td><td>0                                        </td><td>0                                        </td><td>1                                        </td><td>0                                        </td><td>0                                        </td><td>0                                        </td><td>0                                        </td></tr>\n",
       "\t<tr><th scope=row>32</th><td>Chechenskaya Respublika                  </td><td>46.43                                    </td><td>15256.9                                  </td><td> 1414865                                 </td><td>SKFO                                     </td><td>0                                        </td><td>0                                        </td><td>0                                        </td><td>0                                        </td><td>0                                        </td><td>1                                        </td><td>0                                        </td><td>0                                        </td></tr>\n",
       "\t<tr><th scope=row>76</th><td>Respublika Tyva                          </td><td>46.97                                    </td><td>11932.6                                  </td><td>  318550                                 </td><td>SFO                                      </td><td>0                                        </td><td>0                                        </td><td>0                                        </td><td>0                                        </td><td>0                                        </td><td>0                                        </td><td>1                                        </td><td>0                                        </td></tr>\n",
       "\t<tr><th scope=row>35</th><td>Habarovskij kraj                         </td><td>49.57                                    </td><td>25649.3                                  </td><td> 1333294                                 </td><td>DVFO                                     </td><td>0                                        </td><td>0                                        </td><td>0                                        </td><td>0                                        </td><td>0                                        </td><td>0                                        </td><td>0                                        </td><td>1                                        </td></tr>\n",
       "\t<tr><th scope=row>28</th><td>Hanty-Mansijskij avtonomnyj okrug — Yugra</td><td>49.92                                    </td><td>36088.1                                  </td><td> 1646078                                 </td><td>UFO                                      </td><td>0                                        </td><td>0                                        </td><td>0                                        </td><td>1                                        </td><td>0                                        </td><td>0                                        </td><td>0                                        </td><td>0                                        </td></tr>\n",
       "\t<tr><th scope=row>72</th><td>Sahalinskaya oblast                      </td><td>50.34                                    </td><td>33459.5                                  </td><td>  487344                                 </td><td>DVFO                                     </td><td>0                                        </td><td>0                                        </td><td>0                                        </td><td>0                                        </td><td>0                                        </td><td>0                                        </td><td>0                                        </td><td>1                                        </td></tr>\n",
       "\t<tr><th scope=row>55</th><td>Respublika Saha (Yakutiya)               </td><td>50.79                                    </td><td>28457.3                                  </td><td>  962835                                 </td><td>DVFO                                     </td><td>0                                        </td><td>0                                        </td><td>0                                        </td><td>0                                        </td><td>0                                        </td><td>0                                        </td><td>0                                        </td><td>1                                        </td></tr>\n",
       "\t<tr><th scope=row>80</th><td>Evrejskaya avtonomnaya oblast            </td><td>51.25                                    </td><td>18151.4                                  </td><td>  164217                                 </td><td>DVFO                                     </td><td>0                                        </td><td>0                                        </td><td>0                                        </td><td>0                                        </td><td>0                                        </td><td>0                                        </td><td>0                                        </td><td>1                                        </td></tr>\n",
       "\t<tr><th scope=row>71</th><td>Yamalo-Neneckij avtonomnyj okrug         </td><td>56.80                                    </td><td>52342.3                                  </td><td>  536049                                 </td><td>UFO                                      </td><td>0                                        </td><td>0                                        </td><td>0                                        </td><td>1                                        </td><td>0                                        </td><td>0                                        </td><td>0                                        </td><td>0                                        </td></tr>\n",
       "\t<tr><th scope=row>26</th><td>Primorskij kraj                          </td><td>62.52                                    </td><td>21299.7                                  </td><td> 1923116                                 </td><td>DVFO                                     </td><td>0                                        </td><td>0                                        </td><td>0                                        </td><td>0                                        </td><td>0                                        </td><td>0                                        </td><td>0                                        </td><td>1                                        </td></tr>\n",
       "\t<tr><th scope=row>77</th><td>Kamchatskij kraj                         </td><td>70.75                                    </td><td>31481.6                                  </td><td>  314729                                 </td><td>DVFO                                     </td><td>0                                        </td><td>0                                        </td><td>0                                        </td><td>0                                        </td><td>0                                        </td><td>0                                        </td><td>0                                        </td><td>1                                        </td></tr>\n",
       "\t<tr><th scope=row>81</th><td>Magadanskaya oblast                      </td><td>78.65                                    </td><td>36575.6                                  </td><td>  145570                                 </td><td>DVFO                                     </td><td>0                                        </td><td>0                                        </td><td>0                                        </td><td>0                                        </td><td>0                                        </td><td>0                                        </td><td>0                                        </td><td>1                                        </td></tr>\n",
       "\t<tr><th scope=row>82</th><td>Neneckij avtonomnyj okrug                </td><td>81.26                                    </td><td>61936.9                                  </td><td>   43937                                 </td><td>SZFO                                     </td><td>0                                        </td><td>0                                        </td><td>1                                        </td><td>0                                        </td><td>0                                        </td><td>0                                        </td><td>0                                        </td><td>0                                        </td></tr>\n",
       "</tbody>\n",
       "</table>\n"
      ],
      "text/latex": [
       "\\begin{tabular}{r|lllllllllllll}\n",
       "  & SF & MilkPrice & Income & Population & FO & ZCFO & ZUFO & ZSZFO & ZUrFO & ZPFO & ZSKFO & ZSFO & ZDVFO\\\\\n",
       "\\hline\n",
       "\t20 & Saratovskaya oblast                    & 24.97                                  & 14243.3                                & 2479260                                & PFO                                    & 0                                      & 0                                      & 0                                      & 0                                      & 1                                      & 0                                      & 0                                      & 0                                     \\\\\n",
       "\t46 & Kurskaya oblast                        & 26.01                                  & 18807.8                                & 1122893                                & CFO                                    & 1                                      & 0                                      & 0                                      & 0                                      & 0                                      & 0                                      & 0                                      & 0                                     \\\\\n",
       "\t41 & Bryanskaya oblast                      & 26.11                                  & 17421.6                                & 1220530                                & CFO                                    & 1                                      & 0                                      & 0                                      & 0                                      & 0                                      & 0                                      & 0                                      & 0                                     \\\\\n",
       "\t37 & Kirovskaya oblast                      & 27.07                                  & 16529.9                                & 1291684                                & PFO                                    & 0                                      & 0                                      & 0                                      & 0                                      & 1                                      & 0                                      & 0                                      & 0                                     \\\\\n",
       "\t39 & Ulyanovskaya oblast                    & 27.59                                  & 16350.6                                & 1252887                                & PFO                                    & 0                                      & 0                                      & 0                                      & 0                                      & 1                                      & 0                                      & 0                                      & 0                                     \\\\\n",
       "\t8 & Respublika Tatarstan                   & 27.98                                  & 24009.8                                & 3885253                                & PFO                                    & 0                                      & 0                                      & 0                                      & 0                                      & 1                                      & 0                                      & 0                                      & 0                                     \\\\\n",
       "\t52 & Kaluzhskaya oblast                     & 28.23                                  & 20621.2                                & 1014570                                & CFO                                    & 1                                      & 0                                      & 0                                      & 0                                      & 0                                      & 0                                      & 0                                      & 0                                     \\\\\n",
       "\t75 & Respublika Adygeya                     & 28.28                                  & 17025.3                                &  453366                                & YuFO                                   & 0                                      & 1                                      & 0                                      & 0                                      & 0                                      & 0                                      & 0                                      & 0                                     \\\\\n",
       "\t45 & Ryazanskaya oblast                     & 28.37                                  & 17664.4                                & 1126739                                & CFO                                    & 1                                      & 0                                      & 0                                      & 0                                      & 0                                      & 0                                      & 0                                      & 0                                     \\\\\n",
       "\t29 & Belgorodskaya oblast                   & 28.39                                  & 21562.9                                & 1552865                                & CFO                                    & 1                                      & 0                                      & 0                                      & 0                                      & 0                                      & 0                                      & 0                                      & 0                                     \\\\\n",
       "\t30 & Udmurtskaya Respublika                 & 28.45                                  & 16411.0                                & 1516826                                & PFO                                    & 0                                      & 0                                      & 0                                      & 0                                      & 1                                      & 0                                      & 0                                      & 0                                     \\\\\n",
       "\t31 & Tulskaya oblast                        & 28.59                                  & 19291.1                                & 1499417                                & CFO                                    & 1                                      & 0                                      & 0                                      & 0                                      & 0                                      & 0                                      & 0                                      & 0                                     \\\\\n",
       "\t15 & Stavropolskij kraj                     & 28.63                                  & 16877.2                                & 2804383                                & SKFO                                   & 0                                      & 0                                      & 0                                      & 0                                      & 0                                      & 1                                      & 0                                      & 0                                     \\\\\n",
       "\t42 & Vologodskaya oblast                    & 28.69                                  & 18125.2                                & 1183860                                & SZFO                                   & 0                                      & 0                                      & 1                                      & 0                                      & 0                                      & 0                                      & 0                                      & 0                                     \\\\\n",
       "\t63 & Orlovskaya oblast                      & 28.89                                  & 16762.2                                &  754816                                & CFO                                    & 1                                      & 0                                      & 0                                      & 0                                      & 0                                      & 0                                      & 0                                      & 0                                     \\\\\n",
       "\t25 & Omskaya oblast                         & 28.95                                  & 19468.8                                & 1972682                                & SFO                                    & 0                                      & 0                                      & 0                                      & 0                                      & 0                                      & 0                                      & 1                                      & 0                                     \\\\\n",
       "\t60 & Respublika Mordoviya                   & 29.07                                  & 13062.7                                &  808541                                & PFO                                    & 0                                      & 0                                      & 0                                      & 0                                      & 1                                      & 0                                      & 0                                      & 0                                     \\\\\n",
       "\t49 & Tambovskaya oblast                     & 29.09                                  & 17469.8                                & 1040327                                & CFO                                    & 1                                      & 0                                      & 0                                      & 0                                      & 0                                      & 0                                      & 0                                      & 0                                     \\\\\n",
       "\t65 & Respublika Marij El                    & 29.52                                  & 12537.9                                &  684684                                & PFO                                    & 0                                      & 0                                      & 0                                      & 0                                      & 1                                      & 0                                      & 0                                      & 0                                     \\\\\n",
       "\t7 & Respublika Bashkortostan               & 29.73                                  & 21258.8                                & 4066972                                & PFO                                    & 0                                      & 0                                      & 0                                      & 0                                      & 1                                      & 0                                      & 0                                      & 0                                     \\\\\n",
       "\t24 & Orenburgskaya oblast                   & 29.92                                  & 16539.1                                & 1989589                                & PFO                                    & 0                                      & 0                                      & 0                                      & 0                                      & 1                                      & 0                                      & 0                                      & 0                                     \\\\\n",
       "\t34 & Penzenskaya oblast                     & 29.99                                  & 15765.3                                & 1341526                                & PFO                                    & 0                                      & 0                                      & 0                                      & 0                                      & 1                                      & 0                                      & 0                                      & 0                                     \\\\\n",
       "\t64 & Respublika Severnaya Osetiya - Alaniya & 30.13                                  & 16184.7                                &  703262                                & SKFO                                   & 0                                      & 0                                      & 0                                      & 0                                      & 0                                      & 1                                      & 0                                      & 0                                     \\\\\n",
       "\t19 & Volgogradskaya oblast                  & 30.37                                  & 16066.4                                & 2535202                                & YuFO                                   & 0                                      & 1                                      & 0                                      & 0                                      & 0                                      & 0                                      & 0                                      & 0                                     \\\\\n",
       "\t17 & Kemerovskaya oblast                    & 31.00                                  & 18385.5                                & 2708844                                & SFO                                    & 0                                      & 0                                      & 0                                      & 0                                      & 0                                      & 0                                      & 1                                      & 0                                     \\\\\n",
       "\t3 & Krasnodarskij kraj                     & 31.05                                  & 21077.2                                & 5570945                                & YuFO                                   & 0                                      & 1                                      & 0                                      & 0                                      & 0                                      & 0                                      & 0                                      & 0                                     \\\\\n",
       "\t23 & Voronezhskaya oblast                   & 31.15                                  & 18885.1                                & 2335408                                & CFO                                    & 1                                      & 0                                      & 0                                      & 0                                      & 0                                      & 0                                      & 0                                      & 0                                     \\\\\n",
       "\t22 & Altajskij kraj                         & 31.27                                  & 13628.9                                & 2365680                                & SFO                                    & 0                                      & 0                                      & 0                                      & 0                                      & 0                                      & 0                                      & 1                                      & 0                                     \\\\\n",
       "\t57 & Kabardino-Balkarskaya Respublika       & 31.76                                  & 13681.1                                &  864454                                & SKFO                                   & 0                                      & 0                                      & 0                                      & 0                                      & 0                                      & 1                                      & 0                                      & 0                                     \\\\\n",
       "\t12 & Samarskaya oblast                      & 31.84                                  & 24683.0                                & 3203679                                & PFO                                    & 0                                      & 0                                      & 0                                      & 0                                      & 1                                      & 0                                      & 0                                      & 0                                     \\\\\n",
       "\t... & ... & ... & ... & ... & ... & ... & ... & ... & ... & ... & ... & ... & ...\\\\\n",
       "\t2 & Moskovskaya oblast                        & 35.91                                     & 29699.1                                   &  7423470                                  & CFO                                       & 1                                         & 0                                         & 0                                         & 0                                         & 0                                         & 0                                         & 0                                         & 0                                        \\\\\n",
       "\t14 & Krasnoyarskij kraj                        & 36.15                                     & 22137.6                                   &  2875301                                  & SFO                                       & 0                                         & 0                                         & 0                                         & 0                                         & 0                                         & 0                                         & 1                                         & 0                                        \\\\\n",
       "\t13 & Respublika Dagestan                       & 36.22                                     & 20647.9                                   &  3041900                                  & SKFO                                      & 0                                         & 0                                         & 0                                         & 0                                         & 0                                         & 1                                         & 0                                         & 0                                        \\\\\n",
       "\t58 & Kurganskaya oblast                        & 36.23                                     & 16019.5                                   &   854109                                  & UFO                                       & 0                                         & 0                                         & 0                                         & 1                                         & 0                                         & 0                                         & 0                                         & 0                                        \\\\\n",
       "\t79 & Respublika Altaj                          & 36.90                                     & 14277.7                                   &   217007                                  & SFO                                       & 0                                         & 0                                         & 0                                         & 0                                         & 0                                         & 0                                         & 1                                         & 0                                        \\\\\n",
       "\t48 & Tomskaya oblast                           & 37.29                                     & 17875.6                                   &  1078891                                  & SFO                                       & 0                                         & 0                                         & 0                                         & 0                                         & 0                                         & 0                                         & 1                                         & 0                                        \\\\\n",
       "\t21 & Irkutskaya oblast                         & 37.37                                     & 17720.3                                   &  2408901                                  & SFO                                       & 0                                         & 0                                         & 0                                         & 0                                         & 0                                         & 0                                         & 1                                         & 0                                        \\\\\n",
       "\t59 & Respublika Komi                           & 38.19                                     & 26787.3                                   &   850554                                  & SZFO                                      & 0                                         & 0                                         & 1                                         & 0                                         & 0                                         & 0                                         & 0                                         & 0                                        \\\\\n",
       "\t70 & Respublika Hakasiya                       & 38.59                                     & 15991.4                                   &   537668                                  & SFO                                       & 0                                         & 0                                         & 0                                         & 0                                         & 0                                         & 0                                         & 1                                         & 0                                        \\\\\n",
       "\t4 & Sankt-Peterburg                           & 38.98                                     & 27794.6                                   &  5281579                                  & SZFO                                      & 0                                         & 0                                         & 1                                         & 0                                         & 0                                         & 0                                         & 0                                         & 0                                        \\\\\n",
       "\t43 & Arhangelskaya oblast                      & 39.51                                     & 23635.8                                   &  1121813                                  & SZFO                                      & 0                                         & 0                                         & 1                                         & 0                                         & 0                                         & 0                                         & 0                                         & 0                                        \\\\\n",
       "\t62 & Murmanskaya oblast                        & 39.78                                     & 28604.2                                   &   757621                                  & SZFO                                      & 0                                         & 0                                         & 1                                         & 0                                         & 0                                         & 0                                         & 0                                         & 0                                        \\\\\n",
       "\t54 & Respublika Buryatiya                      & 39.98                                     & 17119.0                                   &   984134                                  & SFO                                       & 0                                         & 0                                         & 0                                         & 0                                         & 0                                         & 0                                         & 1                                         & 0                                        \\\\\n",
       "\t27 & Leningradskaya oblast                     & 40.62                                     & 17925.0                                   &  1791916                                  & SZFO                                      & 0                                         & 0                                         & 1                                         & 0                                         & 0                                         & 0                                         & 0                                         & 0                                        \\\\\n",
       "\t47 & Zabajkalskij kraj                         & 40.94                                     & 17335.6                                   &  1078983                                  & SFO                                       & 0                                         & 0                                         & 0                                         & 0                                         & 0                                         & 0                                         & 1                                         & 0                                        \\\\\n",
       "\t61 & Amurskaya oblast                          & 41.80                                     & 21469.3                                   &   801752                                  & DVFO                                      & 0                                         & 0                                         & 0                                         & 0                                         & 0                                         & 0                                         & 0                                         & 1                                        \\\\\n",
       "\t1 & Moskva                                    & 42.87                                     & 48621.6                                   & 12380664                                  & CFO                                       & 1                                         & 0                                         & 0                                         & 0                                         & 0                                         & 0                                         & 0                                         & 0                                        \\\\\n",
       "\t9 & Tyumenskaya oblast                        & 44.91                                     & 33280.7                                   &  1477903                                  & UFO                                       & 0                                         & 0                                         & 0                                         & 1                                         & 0                                         & 0                                         & 0                                         & 0                                        \\\\\n",
       "\t32 & Chechenskaya Respublika                   & 46.43                                     & 15256.9                                   &  1414865                                  & SKFO                                      & 0                                         & 0                                         & 0                                         & 0                                         & 0                                         & 1                                         & 0                                         & 0                                        \\\\\n",
       "\t76 & Respublika Tyva                           & 46.97                                     & 11932.6                                   &   318550                                  & SFO                                       & 0                                         & 0                                         & 0                                         & 0                                         & 0                                         & 0                                         & 1                                         & 0                                        \\\\\n",
       "\t35 & Habarovskij kraj                          & 49.57                                     & 25649.3                                   &  1333294                                  & DVFO                                      & 0                                         & 0                                         & 0                                         & 0                                         & 0                                         & 0                                         & 0                                         & 1                                        \\\\\n",
       "\t28 & Hanty-Mansijskij avtonomnyj okrug — Yugra & 49.92                                     & 36088.1                                   &  1646078                                  & UFO                                       & 0                                         & 0                                         & 0                                         & 1                                         & 0                                         & 0                                         & 0                                         & 0                                        \\\\\n",
       "\t72 & Sahalinskaya oblast                       & 50.34                                     & 33459.5                                   &   487344                                  & DVFO                                      & 0                                         & 0                                         & 0                                         & 0                                         & 0                                         & 0                                         & 0                                         & 1                                        \\\\\n",
       "\t55 & Respublika Saha (Yakutiya)                & 50.79                                     & 28457.3                                   &   962835                                  & DVFO                                      & 0                                         & 0                                         & 0                                         & 0                                         & 0                                         & 0                                         & 0                                         & 1                                        \\\\\n",
       "\t80 & Evrejskaya avtonomnaya oblast             & 51.25                                     & 18151.4                                   &   164217                                  & DVFO                                      & 0                                         & 0                                         & 0                                         & 0                                         & 0                                         & 0                                         & 0                                         & 1                                        \\\\\n",
       "\t71 & Yamalo-Neneckij avtonomnyj okrug          & 56.80                                     & 52342.3                                   &   536049                                  & UFO                                       & 0                                         & 0                                         & 0                                         & 1                                         & 0                                         & 0                                         & 0                                         & 0                                        \\\\\n",
       "\t26 & Primorskij kraj                           & 62.52                                     & 21299.7                                   &  1923116                                  & DVFO                                      & 0                                         & 0                                         & 0                                         & 0                                         & 0                                         & 0                                         & 0                                         & 1                                        \\\\\n",
       "\t77 & Kamchatskij kraj                          & 70.75                                     & 31481.6                                   &   314729                                  & DVFO                                      & 0                                         & 0                                         & 0                                         & 0                                         & 0                                         & 0                                         & 0                                         & 1                                        \\\\\n",
       "\t81 & Magadanskaya oblast                       & 78.65                                     & 36575.6                                   &   145570                                  & DVFO                                      & 0                                         & 0                                         & 0                                         & 0                                         & 0                                         & 0                                         & 0                                         & 1                                        \\\\\n",
       "\t82 & Neneckij avtonomnyj okrug                 & 81.26                                     & 61936.9                                   &    43937                                  & SZFO                                      & 0                                         & 0                                         & 1                                         & 0                                         & 0                                         & 0                                         & 0                                         & 0                                        \\\\\n",
       "\\end{tabular}\n"
      ],
      "text/markdown": [
       "\n",
       "| <!--/--> | SF | MilkPrice | Income | Population | FO | ZCFO | ZUFO | ZSZFO | ZUrFO | ZPFO | ZSKFO | ZSFO | ZDVFO |\n",
       "|---|---|---|---|---|---|---|---|---|---|---|---|---|---|\n",
       "| 20 | Saratovskaya oblast                    | 24.97                                  | 14243.3                                | 2479260                                | PFO                                    | 0                                      | 0                                      | 0                                      | 0                                      | 1                                      | 0                                      | 0                                      | 0                                      |\n",
       "| 46 | Kurskaya oblast                        | 26.01                                  | 18807.8                                | 1122893                                | CFO                                    | 1                                      | 0                                      | 0                                      | 0                                      | 0                                      | 0                                      | 0                                      | 0                                      |\n",
       "| 41 | Bryanskaya oblast                      | 26.11                                  | 17421.6                                | 1220530                                | CFO                                    | 1                                      | 0                                      | 0                                      | 0                                      | 0                                      | 0                                      | 0                                      | 0                                      |\n",
       "| 37 | Kirovskaya oblast                      | 27.07                                  | 16529.9                                | 1291684                                | PFO                                    | 0                                      | 0                                      | 0                                      | 0                                      | 1                                      | 0                                      | 0                                      | 0                                      |\n",
       "| 39 | Ulyanovskaya oblast                    | 27.59                                  | 16350.6                                | 1252887                                | PFO                                    | 0                                      | 0                                      | 0                                      | 0                                      | 1                                      | 0                                      | 0                                      | 0                                      |\n",
       "| 8 | Respublika Tatarstan                   | 27.98                                  | 24009.8                                | 3885253                                | PFO                                    | 0                                      | 0                                      | 0                                      | 0                                      | 1                                      | 0                                      | 0                                      | 0                                      |\n",
       "| 52 | Kaluzhskaya oblast                     | 28.23                                  | 20621.2                                | 1014570                                | CFO                                    | 1                                      | 0                                      | 0                                      | 0                                      | 0                                      | 0                                      | 0                                      | 0                                      |\n",
       "| 75 | Respublika Adygeya                     | 28.28                                  | 17025.3                                |  453366                                | YuFO                                   | 0                                      | 1                                      | 0                                      | 0                                      | 0                                      | 0                                      | 0                                      | 0                                      |\n",
       "| 45 | Ryazanskaya oblast                     | 28.37                                  | 17664.4                                | 1126739                                | CFO                                    | 1                                      | 0                                      | 0                                      | 0                                      | 0                                      | 0                                      | 0                                      | 0                                      |\n",
       "| 29 | Belgorodskaya oblast                   | 28.39                                  | 21562.9                                | 1552865                                | CFO                                    | 1                                      | 0                                      | 0                                      | 0                                      | 0                                      | 0                                      | 0                                      | 0                                      |\n",
       "| 30 | Udmurtskaya Respublika                 | 28.45                                  | 16411.0                                | 1516826                                | PFO                                    | 0                                      | 0                                      | 0                                      | 0                                      | 1                                      | 0                                      | 0                                      | 0                                      |\n",
       "| 31 | Tulskaya oblast                        | 28.59                                  | 19291.1                                | 1499417                                | CFO                                    | 1                                      | 0                                      | 0                                      | 0                                      | 0                                      | 0                                      | 0                                      | 0                                      |\n",
       "| 15 | Stavropolskij kraj                     | 28.63                                  | 16877.2                                | 2804383                                | SKFO                                   | 0                                      | 0                                      | 0                                      | 0                                      | 0                                      | 1                                      | 0                                      | 0                                      |\n",
       "| 42 | Vologodskaya oblast                    | 28.69                                  | 18125.2                                | 1183860                                | SZFO                                   | 0                                      | 0                                      | 1                                      | 0                                      | 0                                      | 0                                      | 0                                      | 0                                      |\n",
       "| 63 | Orlovskaya oblast                      | 28.89                                  | 16762.2                                |  754816                                | CFO                                    | 1                                      | 0                                      | 0                                      | 0                                      | 0                                      | 0                                      | 0                                      | 0                                      |\n",
       "| 25 | Omskaya oblast                         | 28.95                                  | 19468.8                                | 1972682                                | SFO                                    | 0                                      | 0                                      | 0                                      | 0                                      | 0                                      | 0                                      | 1                                      | 0                                      |\n",
       "| 60 | Respublika Mordoviya                   | 29.07                                  | 13062.7                                |  808541                                | PFO                                    | 0                                      | 0                                      | 0                                      | 0                                      | 1                                      | 0                                      | 0                                      | 0                                      |\n",
       "| 49 | Tambovskaya oblast                     | 29.09                                  | 17469.8                                | 1040327                                | CFO                                    | 1                                      | 0                                      | 0                                      | 0                                      | 0                                      | 0                                      | 0                                      | 0                                      |\n",
       "| 65 | Respublika Marij El                    | 29.52                                  | 12537.9                                |  684684                                | PFO                                    | 0                                      | 0                                      | 0                                      | 0                                      | 1                                      | 0                                      | 0                                      | 0                                      |\n",
       "| 7 | Respublika Bashkortostan               | 29.73                                  | 21258.8                                | 4066972                                | PFO                                    | 0                                      | 0                                      | 0                                      | 0                                      | 1                                      | 0                                      | 0                                      | 0                                      |\n",
       "| 24 | Orenburgskaya oblast                   | 29.92                                  | 16539.1                                | 1989589                                | PFO                                    | 0                                      | 0                                      | 0                                      | 0                                      | 1                                      | 0                                      | 0                                      | 0                                      |\n",
       "| 34 | Penzenskaya oblast                     | 29.99                                  | 15765.3                                | 1341526                                | PFO                                    | 0                                      | 0                                      | 0                                      | 0                                      | 1                                      | 0                                      | 0                                      | 0                                      |\n",
       "| 64 | Respublika Severnaya Osetiya - Alaniya | 30.13                                  | 16184.7                                |  703262                                | SKFO                                   | 0                                      | 0                                      | 0                                      | 0                                      | 0                                      | 1                                      | 0                                      | 0                                      |\n",
       "| 19 | Volgogradskaya oblast                  | 30.37                                  | 16066.4                                | 2535202                                | YuFO                                   | 0                                      | 1                                      | 0                                      | 0                                      | 0                                      | 0                                      | 0                                      | 0                                      |\n",
       "| 17 | Kemerovskaya oblast                    | 31.00                                  | 18385.5                                | 2708844                                | SFO                                    | 0                                      | 0                                      | 0                                      | 0                                      | 0                                      | 0                                      | 1                                      | 0                                      |\n",
       "| 3 | Krasnodarskij kraj                     | 31.05                                  | 21077.2                                | 5570945                                | YuFO                                   | 0                                      | 1                                      | 0                                      | 0                                      | 0                                      | 0                                      | 0                                      | 0                                      |\n",
       "| 23 | Voronezhskaya oblast                   | 31.15                                  | 18885.1                                | 2335408                                | CFO                                    | 1                                      | 0                                      | 0                                      | 0                                      | 0                                      | 0                                      | 0                                      | 0                                      |\n",
       "| 22 | Altajskij kraj                         | 31.27                                  | 13628.9                                | 2365680                                | SFO                                    | 0                                      | 0                                      | 0                                      | 0                                      | 0                                      | 0                                      | 1                                      | 0                                      |\n",
       "| 57 | Kabardino-Balkarskaya Respublika       | 31.76                                  | 13681.1                                |  864454                                | SKFO                                   | 0                                      | 0                                      | 0                                      | 0                                      | 0                                      | 1                                      | 0                                      | 0                                      |\n",
       "| 12 | Samarskaya oblast                      | 31.84                                  | 24683.0                                | 3203679                                | PFO                                    | 0                                      | 0                                      | 0                                      | 0                                      | 1                                      | 0                                      | 0                                      | 0                                      |\n",
       "| ... | ... | ... | ... | ... | ... | ... | ... | ... | ... | ... | ... | ... | ... |\n",
       "| 2 | Moskovskaya oblast                        | 35.91                                     | 29699.1                                   |  7423470                                  | CFO                                       | 1                                         | 0                                         | 0                                         | 0                                         | 0                                         | 0                                         | 0                                         | 0                                         |\n",
       "| 14 | Krasnoyarskij kraj                        | 36.15                                     | 22137.6                                   |  2875301                                  | SFO                                       | 0                                         | 0                                         | 0                                         | 0                                         | 0                                         | 0                                         | 1                                         | 0                                         |\n",
       "| 13 | Respublika Dagestan                       | 36.22                                     | 20647.9                                   |  3041900                                  | SKFO                                      | 0                                         | 0                                         | 0                                         | 0                                         | 0                                         | 1                                         | 0                                         | 0                                         |\n",
       "| 58 | Kurganskaya oblast                        | 36.23                                     | 16019.5                                   |   854109                                  | UFO                                       | 0                                         | 0                                         | 0                                         | 1                                         | 0                                         | 0                                         | 0                                         | 0                                         |\n",
       "| 79 | Respublika Altaj                          | 36.90                                     | 14277.7                                   |   217007                                  | SFO                                       | 0                                         | 0                                         | 0                                         | 0                                         | 0                                         | 0                                         | 1                                         | 0                                         |\n",
       "| 48 | Tomskaya oblast                           | 37.29                                     | 17875.6                                   |  1078891                                  | SFO                                       | 0                                         | 0                                         | 0                                         | 0                                         | 0                                         | 0                                         | 1                                         | 0                                         |\n",
       "| 21 | Irkutskaya oblast                         | 37.37                                     | 17720.3                                   |  2408901                                  | SFO                                       | 0                                         | 0                                         | 0                                         | 0                                         | 0                                         | 0                                         | 1                                         | 0                                         |\n",
       "| 59 | Respublika Komi                           | 38.19                                     | 26787.3                                   |   850554                                  | SZFO                                      | 0                                         | 0                                         | 1                                         | 0                                         | 0                                         | 0                                         | 0                                         | 0                                         |\n",
       "| 70 | Respublika Hakasiya                       | 38.59                                     | 15991.4                                   |   537668                                  | SFO                                       | 0                                         | 0                                         | 0                                         | 0                                         | 0                                         | 0                                         | 1                                         | 0                                         |\n",
       "| 4 | Sankt-Peterburg                           | 38.98                                     | 27794.6                                   |  5281579                                  | SZFO                                      | 0                                         | 0                                         | 1                                         | 0                                         | 0                                         | 0                                         | 0                                         | 0                                         |\n",
       "| 43 | Arhangelskaya oblast                      | 39.51                                     | 23635.8                                   |  1121813                                  | SZFO                                      | 0                                         | 0                                         | 1                                         | 0                                         | 0                                         | 0                                         | 0                                         | 0                                         |\n",
       "| 62 | Murmanskaya oblast                        | 39.78                                     | 28604.2                                   |   757621                                  | SZFO                                      | 0                                         | 0                                         | 1                                         | 0                                         | 0                                         | 0                                         | 0                                         | 0                                         |\n",
       "| 54 | Respublika Buryatiya                      | 39.98                                     | 17119.0                                   |   984134                                  | SFO                                       | 0                                         | 0                                         | 0                                         | 0                                         | 0                                         | 0                                         | 1                                         | 0                                         |\n",
       "| 27 | Leningradskaya oblast                     | 40.62                                     | 17925.0                                   |  1791916                                  | SZFO                                      | 0                                         | 0                                         | 1                                         | 0                                         | 0                                         | 0                                         | 0                                         | 0                                         |\n",
       "| 47 | Zabajkalskij kraj                         | 40.94                                     | 17335.6                                   |  1078983                                  | SFO                                       | 0                                         | 0                                         | 0                                         | 0                                         | 0                                         | 0                                         | 1                                         | 0                                         |\n",
       "| 61 | Amurskaya oblast                          | 41.80                                     | 21469.3                                   |   801752                                  | DVFO                                      | 0                                         | 0                                         | 0                                         | 0                                         | 0                                         | 0                                         | 0                                         | 1                                         |\n",
       "| 1 | Moskva                                    | 42.87                                     | 48621.6                                   | 12380664                                  | CFO                                       | 1                                         | 0                                         | 0                                         | 0                                         | 0                                         | 0                                         | 0                                         | 0                                         |\n",
       "| 9 | Tyumenskaya oblast                        | 44.91                                     | 33280.7                                   |  1477903                                  | UFO                                       | 0                                         | 0                                         | 0                                         | 1                                         | 0                                         | 0                                         | 0                                         | 0                                         |\n",
       "| 32 | Chechenskaya Respublika                   | 46.43                                     | 15256.9                                   |  1414865                                  | SKFO                                      | 0                                         | 0                                         | 0                                         | 0                                         | 0                                         | 1                                         | 0                                         | 0                                         |\n",
       "| 76 | Respublika Tyva                           | 46.97                                     | 11932.6                                   |   318550                                  | SFO                                       | 0                                         | 0                                         | 0                                         | 0                                         | 0                                         | 0                                         | 1                                         | 0                                         |\n",
       "| 35 | Habarovskij kraj                          | 49.57                                     | 25649.3                                   |  1333294                                  | DVFO                                      | 0                                         | 0                                         | 0                                         | 0                                         | 0                                         | 0                                         | 0                                         | 1                                         |\n",
       "| 28 | Hanty-Mansijskij avtonomnyj okrug — Yugra | 49.92                                     | 36088.1                                   |  1646078                                  | UFO                                       | 0                                         | 0                                         | 0                                         | 1                                         | 0                                         | 0                                         | 0                                         | 0                                         |\n",
       "| 72 | Sahalinskaya oblast                       | 50.34                                     | 33459.5                                   |   487344                                  | DVFO                                      | 0                                         | 0                                         | 0                                         | 0                                         | 0                                         | 0                                         | 0                                         | 1                                         |\n",
       "| 55 | Respublika Saha (Yakutiya)                | 50.79                                     | 28457.3                                   |   962835                                  | DVFO                                      | 0                                         | 0                                         | 0                                         | 0                                         | 0                                         | 0                                         | 0                                         | 1                                         |\n",
       "| 80 | Evrejskaya avtonomnaya oblast             | 51.25                                     | 18151.4                                   |   164217                                  | DVFO                                      | 0                                         | 0                                         | 0                                         | 0                                         | 0                                         | 0                                         | 0                                         | 1                                         |\n",
       "| 71 | Yamalo-Neneckij avtonomnyj okrug          | 56.80                                     | 52342.3                                   |   536049                                  | UFO                                       | 0                                         | 0                                         | 0                                         | 1                                         | 0                                         | 0                                         | 0                                         | 0                                         |\n",
       "| 26 | Primorskij kraj                           | 62.52                                     | 21299.7                                   |  1923116                                  | DVFO                                      | 0                                         | 0                                         | 0                                         | 0                                         | 0                                         | 0                                         | 0                                         | 1                                         |\n",
       "| 77 | Kamchatskij kraj                          | 70.75                                     | 31481.6                                   |   314729                                  | DVFO                                      | 0                                         | 0                                         | 0                                         | 0                                         | 0                                         | 0                                         | 0                                         | 1                                         |\n",
       "| 81 | Magadanskaya oblast                       | 78.65                                     | 36575.6                                   |   145570                                  | DVFO                                      | 0                                         | 0                                         | 0                                         | 0                                         | 0                                         | 0                                         | 0                                         | 1                                         |\n",
       "| 82 | Neneckij avtonomnyj okrug                 | 81.26                                     | 61936.9                                   |    43937                                  | SZFO                                      | 0                                         | 0                                         | 1                                         | 0                                         | 0                                         | 0                                         | 0                                         | 0                                         |\n",
       "\n"
      ],
      "text/plain": [
       "    SF                                        MilkPrice Income  Population FO  \n",
       "20  Saratovskaya oblast                       24.97     14243.3 2479260    PFO \n",
       "46  Kurskaya oblast                           26.01     18807.8 1122893    CFO \n",
       "41  Bryanskaya oblast                         26.11     17421.6 1220530    CFO \n",
       "37  Kirovskaya oblast                         27.07     16529.9 1291684    PFO \n",
       "39  Ulyanovskaya oblast                       27.59     16350.6 1252887    PFO \n",
       "8   Respublika Tatarstan                      27.98     24009.8 3885253    PFO \n",
       "52  Kaluzhskaya oblast                        28.23     20621.2 1014570    CFO \n",
       "75  Respublika Adygeya                        28.28     17025.3  453366    YuFO\n",
       "45  Ryazanskaya oblast                        28.37     17664.4 1126739    CFO \n",
       "29  Belgorodskaya oblast                      28.39     21562.9 1552865    CFO \n",
       "30  Udmurtskaya Respublika                    28.45     16411.0 1516826    PFO \n",
       "31  Tulskaya oblast                           28.59     19291.1 1499417    CFO \n",
       "15  Stavropolskij kraj                        28.63     16877.2 2804383    SKFO\n",
       "42  Vologodskaya oblast                       28.69     18125.2 1183860    SZFO\n",
       "63  Orlovskaya oblast                         28.89     16762.2  754816    CFO \n",
       "25  Omskaya oblast                            28.95     19468.8 1972682    SFO \n",
       "60  Respublika Mordoviya                      29.07     13062.7  808541    PFO \n",
       "49  Tambovskaya oblast                        29.09     17469.8 1040327    CFO \n",
       "65  Respublika Marij El                       29.52     12537.9  684684    PFO \n",
       "7   Respublika Bashkortostan                  29.73     21258.8 4066972    PFO \n",
       "24  Orenburgskaya oblast                      29.92     16539.1 1989589    PFO \n",
       "34  Penzenskaya oblast                        29.99     15765.3 1341526    PFO \n",
       "64  Respublika Severnaya Osetiya - Alaniya    30.13     16184.7  703262    SKFO\n",
       "19  Volgogradskaya oblast                     30.37     16066.4 2535202    YuFO\n",
       "17  Kemerovskaya oblast                       31.00     18385.5 2708844    SFO \n",
       "3   Krasnodarskij kraj                        31.05     21077.2 5570945    YuFO\n",
       "23  Voronezhskaya oblast                      31.15     18885.1 2335408    CFO \n",
       "22  Altajskij kraj                            31.27     13628.9 2365680    SFO \n",
       "57  Kabardino-Balkarskaya Respublika          31.76     13681.1  864454    SKFO\n",
       "12  Samarskaya oblast                         31.84     24683.0 3203679    PFO \n",
       "... ...                                       ...       ...     ...        ... \n",
       "2   Moskovskaya oblast                        35.91     29699.1  7423470   CFO \n",
       "14  Krasnoyarskij kraj                        36.15     22137.6  2875301   SFO \n",
       "13  Respublika Dagestan                       36.22     20647.9  3041900   SKFO\n",
       "58  Kurganskaya oblast                        36.23     16019.5   854109   UFO \n",
       "79  Respublika Altaj                          36.90     14277.7   217007   SFO \n",
       "48  Tomskaya oblast                           37.29     17875.6  1078891   SFO \n",
       "21  Irkutskaya oblast                         37.37     17720.3  2408901   SFO \n",
       "59  Respublika Komi                           38.19     26787.3   850554   SZFO\n",
       "70  Respublika Hakasiya                       38.59     15991.4   537668   SFO \n",
       "4   Sankt-Peterburg                           38.98     27794.6  5281579   SZFO\n",
       "43  Arhangelskaya oblast                      39.51     23635.8  1121813   SZFO\n",
       "62  Murmanskaya oblast                        39.78     28604.2   757621   SZFO\n",
       "54  Respublika Buryatiya                      39.98     17119.0   984134   SFO \n",
       "27  Leningradskaya oblast                     40.62     17925.0  1791916   SZFO\n",
       "47  Zabajkalskij kraj                         40.94     17335.6  1078983   SFO \n",
       "61  Amurskaya oblast                          41.80     21469.3   801752   DVFO\n",
       "1   Moskva                                    42.87     48621.6 12380664   CFO \n",
       "9   Tyumenskaya oblast                        44.91     33280.7  1477903   UFO \n",
       "32  Chechenskaya Respublika                   46.43     15256.9  1414865   SKFO\n",
       "76  Respublika Tyva                           46.97     11932.6   318550   SFO \n",
       "35  Habarovskij kraj                          49.57     25649.3  1333294   DVFO\n",
       "28  Hanty-Mansijskij avtonomnyj okrug — Yugra 49.92     36088.1  1646078   UFO \n",
       "72  Sahalinskaya oblast                       50.34     33459.5   487344   DVFO\n",
       "55  Respublika Saha (Yakutiya)                50.79     28457.3   962835   DVFO\n",
       "80  Evrejskaya avtonomnaya oblast             51.25     18151.4   164217   DVFO\n",
       "71  Yamalo-Neneckij avtonomnyj okrug          56.80     52342.3   536049   UFO \n",
       "26  Primorskij kraj                           62.52     21299.7  1923116   DVFO\n",
       "77  Kamchatskij kraj                          70.75     31481.6   314729   DVFO\n",
       "81  Magadanskaya oblast                       78.65     36575.6   145570   DVFO\n",
       "82  Neneckij avtonomnyj okrug                 81.26     61936.9    43937   SZFO\n",
       "    ZCFO ZUFO ZSZFO ZUrFO ZPFO ZSKFO ZSFO ZDVFO\n",
       "20  0    0    0     0     1    0     0    0    \n",
       "46  1    0    0     0     0    0     0    0    \n",
       "41  1    0    0     0     0    0     0    0    \n",
       "37  0    0    0     0     1    0     0    0    \n",
       "39  0    0    0     0     1    0     0    0    \n",
       "8   0    0    0     0     1    0     0    0    \n",
       "52  1    0    0     0     0    0     0    0    \n",
       "75  0    1    0     0     0    0     0    0    \n",
       "45  1    0    0     0     0    0     0    0    \n",
       "29  1    0    0     0     0    0     0    0    \n",
       "30  0    0    0     0     1    0     0    0    \n",
       "31  1    0    0     0     0    0     0    0    \n",
       "15  0    0    0     0     0    1     0    0    \n",
       "42  0    0    1     0     0    0     0    0    \n",
       "63  1    0    0     0     0    0     0    0    \n",
       "25  0    0    0     0     0    0     1    0    \n",
       "60  0    0    0     0     1    0     0    0    \n",
       "49  1    0    0     0     0    0     0    0    \n",
       "65  0    0    0     0     1    0     0    0    \n",
       "7   0    0    0     0     1    0     0    0    \n",
       "24  0    0    0     0     1    0     0    0    \n",
       "34  0    0    0     0     1    0     0    0    \n",
       "64  0    0    0     0     0    1     0    0    \n",
       "19  0    1    0     0     0    0     0    0    \n",
       "17  0    0    0     0     0    0     1    0    \n",
       "3   0    1    0     0     0    0     0    0    \n",
       "23  1    0    0     0     0    0     0    0    \n",
       "22  0    0    0     0     0    0     1    0    \n",
       "57  0    0    0     0     0    1     0    0    \n",
       "12  0    0    0     0     1    0     0    0    \n",
       "... ...  ...  ...   ...   ...  ...   ...  ...  \n",
       "2   1    0    0     0     0    0     0    0    \n",
       "14  0    0    0     0     0    0     1    0    \n",
       "13  0    0    0     0     0    1     0    0    \n",
       "58  0    0    0     1     0    0     0    0    \n",
       "79  0    0    0     0     0    0     1    0    \n",
       "48  0    0    0     0     0    0     1    0    \n",
       "21  0    0    0     0     0    0     1    0    \n",
       "59  0    0    1     0     0    0     0    0    \n",
       "70  0    0    0     0     0    0     1    0    \n",
       "4   0    0    1     0     0    0     0    0    \n",
       "43  0    0    1     0     0    0     0    0    \n",
       "62  0    0    1     0     0    0     0    0    \n",
       "54  0    0    0     0     0    0     1    0    \n",
       "27  0    0    1     0     0    0     0    0    \n",
       "47  0    0    0     0     0    0     1    0    \n",
       "61  0    0    0     0     0    0     0    1    \n",
       "1   1    0    0     0     0    0     0    0    \n",
       "9   0    0    0     1     0    0     0    0    \n",
       "32  0    0    0     0     0    1     0    0    \n",
       "76  0    0    0     0     0    0     1    0    \n",
       "35  0    0    0     0     0    0     0    1    \n",
       "28  0    0    0     1     0    0     0    0    \n",
       "72  0    0    0     0     0    0     0    1    \n",
       "55  0    0    0     0     0    0     0    1    \n",
       "80  0    0    0     0     0    0     0    1    \n",
       "71  0    0    0     1     0    0     0    0    \n",
       "26  0    0    0     0     0    0     0    1    \n",
       "77  0    0    0     0     0    0     0    1    \n",
       "81  0    0    0     0     0    0     0    1    \n",
       "82  0    0    1     0     0    0     0    0    "
      ]
     },
     "metadata": {},
     "output_type": "display_data"
    }
   ],
   "source": [
    "ZCFO<-rep(0, times=length(M$FO))\n",
    "ZUFO<-rep(0, times=length(M$FO))\n",
    "ZSZFO<-rep(0, times=length(M$FO))\n",
    "ZUrFO<-rep(0, times=length(M$FO))\n",
    "ZPFO<-rep(0, times=length(M$FO))\n",
    "ZSKFO<-rep(0, times=length(M$FO))\n",
    "ZSFO<-rep(0, times=length(M$FO))\n",
    "ZDVFO<-rep(0, times=length(M$FO))\n",
    "ZCFO[M$FO==\"CFO\"]<-1\n",
    "ZUFO[M$FO==\"YuFO\"]<-1\n",
    "ZSZFO[M$FO==\"SZFO\"]<-1\n",
    "ZUrFO[M$FO==\"UFO\"]<-1\n",
    "ZPFO[M$FO==\"PFO\"]<-1\n",
    "ZSKFO[M$FO==\"SKFO\"]<-1\n",
    "ZSFO[M$FO==\"SFO\"]<-1\n",
    "ZDVFO[M$FO==\"DVFO\"]<-1\n",
    "M1<-data.frame(M,ZCFO,ZUFO,ZSZFO,ZUrFO,ZPFO,ZSKFO,ZSFO,ZDVFO)\n",
    "rm(ZCFO,ZUFO,ZSZFO,ZUrFO,ZPFO,ZSKFO,ZSFO,ZDVFO)\n",
    "M1<-M1[order(M1$MilkPrice),]\n",
    "M1"
   ]
  },
  {
   "cell_type": "markdown",
   "metadata": {
    "id": "pWvs6x0ZRNhn"
   },
   "source": [
    "Построим множественную нелинейную регрессию для Цен на молоко, \n",
    "Среднедушевых доходов и Численности населения с учетом фиктивных \n",
    "переменных. "
   ]
  },
  {
   "cell_type": "code",
   "execution_count": 12,
   "metadata": {
    "colab": {
     "base_uri": "https://localhost:8080/",
     "height": 602
    },
    "id": "jcHl6x4uQlLy",
    "outputId": "a3857e1f-1433-4d41-8b70-35140968771f"
   },
   "outputs": [
    {
     "data": {
      "text/plain": [
       "\n",
       "Call:\n",
       "lm(formula = M1$MilkPrice ~ M1$Income + M1$Population + M1$ZCFO + \n",
       "    M1$ZUFO + M1$ZSZFO + M1$ZUrFO + M1$ZPFO + M1$ZSKFO + M1$ZSFO + \n",
       "    M1$ZDVFO)\n",
       "\n",
       "Residuals:\n",
       "     Min       1Q   Median       3Q      Max \n",
       "-12.2754  -3.2329  -0.4525   2.3432  13.0067 \n",
       "\n",
       "Coefficients: (1 not defined because of singularities)\n",
       "                Estimate Std. Error t value Pr(>|t|)    \n",
       "(Intercept)    3.556e+01  2.913e+00  12.210  < 2e-16 ***\n",
       "M1$Income      8.276e-04  8.736e-05   9.474 2.76e-14 ***\n",
       "M1$Population -1.314e-06  3.659e-07  -3.591 0.000598 ***\n",
       "M1$ZCFO       -1.831e+01  2.386e+00  -7.674 6.21e-11 ***\n",
       "M1$ZUFO       -1.434e+01  3.070e+00  -4.670 1.36e-05 ***\n",
       "M1$ZSZFO      -1.453e+01  2.424e+00  -5.993 7.46e-08 ***\n",
       "M1$ZUrFO      -1.565e+01  2.836e+00  -5.518 5.10e-07 ***\n",
       "M1$ZPFO       -1.793e+01  2.549e+00  -7.034 9.55e-10 ***\n",
       "M1$ZSKFO      -1.265e+01  2.910e+00  -4.348 4.44e-05 ***\n",
       "M1$ZSFO       -1.104e+01  2.579e+00  -4.281 5.66e-05 ***\n",
       "M1$ZDVFO              NA         NA      NA       NA    \n",
       "---\n",
       "Signif. codes:  0 '***' 0.001 '**' 0.01 '*' 0.05 '.' 0.1 ' ' 1\n",
       "\n",
       "Residual standard error: 5.184 on 72 degrees of freedom\n",
       "Multiple R-squared:  0.7946,\tAdjusted R-squared:  0.7689 \n",
       "F-statistic: 30.95 on 9 and 72 DF,  p-value: < 2.2e-16\n"
      ]
     },
     "metadata": {},
     "output_type": "display_data"
    },
    {
     "data": {
      "text/html": [
       "<table>\n",
       "<thead><tr><th></th><th scope=col>ME</th><th scope=col>RMSE</th><th scope=col>MAE</th><th scope=col>MPE</th><th scope=col>MAPE</th><th scope=col>MASE</th></tr></thead>\n",
       "<tbody>\n",
       "\t<tr><th scope=row>Training set</th><td>8.707466e-17</td><td>4.857306    </td><td>3.637565    </td><td>-1.248484   </td><td>9.573791    </td><td>0.4967495   </td></tr>\n",
       "</tbody>\n",
       "</table>\n"
      ],
      "text/latex": [
       "\\begin{tabular}{r|llllll}\n",
       "  & ME & RMSE & MAE & MPE & MAPE & MASE\\\\\n",
       "\\hline\n",
       "\tTraining set & 8.707466e-17 & 4.857306     & 3.637565     & -1.248484    & 9.573791     & 0.4967495   \\\\\n",
       "\\end{tabular}\n"
      ],
      "text/markdown": [
       "\n",
       "| <!--/--> | ME | RMSE | MAE | MPE | MAPE | MASE |\n",
       "|---|---|---|---|---|---|---|\n",
       "| Training set | 8.707466e-17 | 4.857306     | 3.637565     | -1.248484    | 9.573791     | 0.4967495    |\n",
       "\n"
      ],
      "text/plain": [
       "             ME           RMSE     MAE      MPE       MAPE     MASE     \n",
       "Training set 8.707466e-17 4.857306 3.637565 -1.248484 9.573791 0.4967495"
      ]
     },
     "metadata": {},
     "output_type": "display_data"
    }
   ],
   "source": [
    "reg4<-lm(M1$MilkPrice ~ M1$Income +M1$Population + M1$ZCFO + M1$ZUFO + M1$ZSZFO + M1$ZUrFO + M1$ZPFO + M1$ZSKFO + M1$ZSFO + M1$ZDVFO)\n",
    "summary(reg4)\n",
    "accuracy(reg4)"
   ]
  },
  {
   "cell_type": "markdown",
   "metadata": {
    "id": "y2g0IWUKrfPo"
   },
   "source": [
    "Ответьте на вопросы (***TASK***):\n",
    "\n",
    "1.   Оказывает ли фактор Федеральный округ влияние на Цены на молоко?\n",
    "\n",
    "Статистическое среднее по коэффициентам округов в модели множественной регресии = -14.9209346350535. Существуют округа, где цена на молоко ниже, чем в других округах на 18-11 рублей. Значит, фактор округа оказывает влияние на цену на молоко.\n",
    "\n",
    "2.   В каком федеральном округе самые высокие цены на молоко?\n",
    "\n",
    "Северо-Западный ФО.\n",
    "\n",
    "3.   В каком федеральном округе самые низкие цены на молоко?\n",
    "\n",
    "Приволжский ФО\n",
    "\n",
    "4.   Можно ли использовать построенную модель для прогнозирования?\n",
    "\n",
    "MAPE = 9.57%, но остатки распределены неравномерно. Модель не стоит использовать для прогнозирования.\n"
   ]
  },
  {
   "cell_type": "markdown",
   "metadata": {
    "id": "9HpnN2Kup9RU"
   },
   "source": [
    "M1$ZDVFO должен быть равен примерно -0.1001, но не считается. Общее уравнение множественной регрессии: \n",
    "\n",
    "$M1_{MP} = 35.56 + 0.0008276M1_{Inc} - 0.000001314M1_{P} - 18.31M1_{ZCFO} - 14.34M1_{ZUFO} - 14.53M1_{ZSZFO} - 15.65M1_{ZUrFO} - 17.93M1_{ZPFO} - 12.65M1_{ZSKFO} - 11.04M1_{ZSFO} - 0.1001M1_{ZDVFO} + ϵ$"
   ]
  },
  {
   "cell_type": "code",
   "execution_count": 13,
   "metadata": {
    "colab": {
     "base_uri": "https://localhost:8080/",
     "height": 34
    },
    "id": "Qh0FPGhcqF-o",
    "outputId": "629b8aeb-b7fc-4f0f-a152-6a87055dba00"
   },
   "outputs": [
    {
     "data": {
      "text/html": [
       "-14.9209346350535"
      ],
      "text/latex": [
       "-14.9209346350535"
      ],
      "text/markdown": [
       "-14.9209346350535"
      ],
      "text/plain": [
       "[1] -14.92093"
      ]
     },
     "metadata": {},
     "output_type": "display_data"
    }
   ],
   "source": [
    "mean(coefficients(reg4)[4:10], -0.1001)"
   ]
  },
  {
   "cell_type": "code",
   "execution_count": 14,
   "metadata": {
    "colab": {
     "base_uri": "https://localhost:8080/",
     "height": 242
    },
    "id": "oQkJusv-tYF7",
    "outputId": "04979234-b80a-4ac8-92b1-ae2c2c2474f0"
   },
   "outputs": [
    {
     "data": {
      "text/html": [
       "<table>\n",
       "<thead><tr><th></th><th scope=col>FO</th><th scope=col>ZCFO</th><th scope=col>ZUFO</th><th scope=col>ZSZFO</th><th scope=col>ZUrFO</th><th scope=col>ZPFO</th><th scope=col>ZSKFO</th><th scope=col>ZSFO</th><th scope=col>ZDVFO</th></tr></thead>\n",
       "<tbody>\n",
       "\t<tr><th scope=row>82</th><td>SZFO</td><td>0   </td><td>0   </td><td>1   </td><td>0   </td><td>0   </td><td>0   </td><td>0   </td><td>0   </td></tr>\n",
       "</tbody>\n",
       "</table>\n"
      ],
      "text/latex": [
       "\\begin{tabular}{r|lllllllll}\n",
       "  & FO & ZCFO & ZUFO & ZSZFO & ZUrFO & ZPFO & ZSKFO & ZSFO & ZDVFO\\\\\n",
       "\\hline\n",
       "\t82 & SZFO & 0    & 0    & 1    & 0    & 0    & 0    & 0    & 0   \\\\\n",
       "\\end{tabular}\n"
      ],
      "text/markdown": [
       "\n",
       "| <!--/--> | FO | ZCFO | ZUFO | ZSZFO | ZUrFO | ZPFO | ZSKFO | ZSFO | ZDVFO |\n",
       "|---|---|---|---|---|---|---|---|---|---|\n",
       "| 82 | SZFO | 0    | 0    | 1    | 0    | 0    | 0    | 0    | 0    |\n",
       "\n"
      ],
      "text/plain": [
       "   FO   ZCFO ZUFO ZSZFO ZUrFO ZPFO ZSKFO ZSFO ZDVFO\n",
       "82 SZFO 0    0    1     0     0    0     0    0    "
      ]
     },
     "metadata": {},
     "output_type": "display_data"
    },
    {
     "data": {
      "text/html": [
       "<table>\n",
       "<thead><tr><th></th><th scope=col>FO</th><th scope=col>ZCFO</th><th scope=col>ZUFO</th><th scope=col>ZSZFO</th><th scope=col>ZUrFO</th><th scope=col>ZPFO</th><th scope=col>ZSKFO</th><th scope=col>ZSFO</th><th scope=col>ZDVFO</th></tr></thead>\n",
       "<tbody>\n",
       "\t<tr><th scope=row>20</th><td>PFO</td><td>0  </td><td>0  </td><td>0  </td><td>0  </td><td>1  </td><td>0  </td><td>0  </td><td>0  </td></tr>\n",
       "</tbody>\n",
       "</table>\n"
      ],
      "text/latex": [
       "\\begin{tabular}{r|lllllllll}\n",
       "  & FO & ZCFO & ZUFO & ZSZFO & ZUrFO & ZPFO & ZSKFO & ZSFO & ZDVFO\\\\\n",
       "\\hline\n",
       "\t20 & PFO & 0   & 0   & 0   & 0   & 1   & 0   & 0   & 0  \\\\\n",
       "\\end{tabular}\n"
      ],
      "text/markdown": [
       "\n",
       "| <!--/--> | FO | ZCFO | ZUFO | ZSZFO | ZUrFO | ZPFO | ZSKFO | ZSFO | ZDVFO |\n",
       "|---|---|---|---|---|---|---|---|---|---|\n",
       "| 20 | PFO | 0   | 0   | 0   | 0   | 1   | 0   | 0   | 0   |\n",
       "\n"
      ],
      "text/plain": [
       "   FO  ZCFO ZUFO ZSZFO ZUrFO ZPFO ZSKFO ZSFO ZDVFO\n",
       "20 PFO 0    0    0     0     1    0     0    0    "
      ]
     },
     "metadata": {},
     "output_type": "display_data"
    }
   ],
   "source": [
    "M1[82, 5:13] # ZSZFO -> SZFO (Северо-Западный ФО) max(price)\n",
    "M1[1, 5:13] # ZPFO -> PFO (Приволжский ФО) min(price)"
   ]
  },
  {
   "cell_type": "code",
   "execution_count": 15,
   "metadata": {
    "colab": {
     "base_uri": "https://localhost:8080/",
     "height": 437
    },
    "id": "Z7CZptYRqEo2",
    "outputId": "75b8faa6-c9d8-4ab8-bfd1-573765764be9"
   },
   "outputs": [
    {
     "data": {
      "image/png": "[encoded data removed]",
      "text/plain": [
       "Plot with title \"Resudals\""
      ]
     },
     "metadata": {},
     "output_type": "display_data"
    }
   ],
   "source": [
    "plot(residuals(reg4), main = \"Resudals\")\n",
    "abline(h=0, col = 'red')"
   ]
  },
  {
   "cell_type": "markdown",
   "metadata": {
    "id": "a3lNwl8g1Kdb"
   },
   "source": [
    "Запишем для каждого федерального округа соответствующее уравнение регрессии (***TASK***):\n"
   ]
  },
  {
   "cell_type": "code",
   "execution_count": 24,
   "metadata": {
    "colab": {
     "base_uri": "https://localhost:8080/",
     "height": 86
    },
    "id": "EsgprbBy1KO2",
    "outputId": "5f49f420-e011-4cbb-a2e0-32b0c276eeb4"
   },
   "outputs": [
    {
     "data": {
      "text/html": [
       "<ol class=list-inline>\n",
       "\t<li>17.2462817603078</li>\n",
       "\t<li>21.2232275755121</li>\n",
       "\t<li>21.0348904096823</li>\n",
       "\t<li>19.9118056504784</li>\n",
       "\t<li>17.6301890912966</li>\n",
       "\t<li>22.9086025311906</li>\n",
       "\t<li>24.5184605361579</li>\n",
       "\t<li>35.4599</li>\n",
       "</ol>\n"
      ],
      "text/latex": [
       "\\begin{enumerate*}\n",
       "\\item 17.2462817603078\n",
       "\\item 21.2232275755121\n",
       "\\item 21.0348904096823\n",
       "\\item 19.9118056504784\n",
       "\\item 17.6301890912966\n",
       "\\item 22.9086025311906\n",
       "\\item 24.5184605361579\n",
       "\\item 35.4599\n",
       "\\end{enumerate*}\n"
      ],
      "text/markdown": [
       "1. 17.2462817603078\n",
       "2. 21.2232275755121\n",
       "3. 21.0348904096823\n",
       "4. 19.9118056504784\n",
       "5. 17.6301890912966\n",
       "6. 22.9086025311906\n",
       "7. 24.5184605361579\n",
       "8. 35.4599\n",
       "\n",
       "\n"
      ],
      "text/plain": [
       "[1] 17.24628 21.22323 21.03489 19.91181 17.63019 22.90860 24.51846 35.45990"
      ]
     },
     "metadata": {},
     "output_type": "display_data"
    }
   ],
   "source": [
    "library(foreach)\n",
    "unlist(foreach(i = c(coefficients(reg4)[4:10], -0.1001)) %do% (35.56 + i))"
   ]
  },
  {
   "cell_type": "markdown",
   "metadata": {
    "id": "q0sFo63918hV"
   },
   "source": [
    "\n",
    "\n",
    "*   Центральный федеральный округ:\n",
    "\n",
    "  $Mp = 17.246281 + 0.0008276M1_{Inc} - 0.000001314M1_{P} + \\epsilon$\n",
    "*   Южный федеральный округ:\n",
    "\n",
    "  $Mp = 21.223227 + 0.0008276M1_{Inc} - 0.000001314M1_{P} + \\epsilon$\n",
    "*   Северо-Западный федеральный округ:\n",
    "\n",
    "  $Mp = 21.03489 + 0.0008276M1_{Inc} - 0.000001314M1_{P} + \\epsilon$\n",
    "*   Уральский федеральный округ:\n",
    "\n",
    "  $Mp = 19.9118 + 0.0008276M1_{Inc} - 0.000001314M1_{P} + \\epsilon$\n",
    "*   Приволжский федеральный округ:\n",
    "\n",
    "  $Mp = 17.63018 + 0.0008276M1_{Inc} - 0.000001314M1_{P} + \\epsilon$\n",
    "*   Северо-Кавказский федеральный округ:\n",
    "\n",
    "  $Mp = 22.9086 + 0.0008276M1_{Inc} - 0.000001314M1_{P} + \\epsilon$\n",
    "*   Сибирский федеральный округ\n",
    "\n",
    "  $Mp = 24.51846 + 0.0008276M1_{Inc} - 0.000001314M1_{P} + \\epsilon$\n",
    "*   Дальневосточный федеральный округ\n",
    "\n",
    "  $Mp = 35.4599 + 0.0008276M1_{Inc} - 0.000001314M1_{P} + \\epsilon$"
   ]
  },
  {
   "cell_type": "markdown",
   "metadata": {
    "id": "4PitRF-8CqP-"
   },
   "source": [
    "Проверьте по критерию Чоу наличие неоднородности в данных (***TASK***):\n",
    "\n",
    "Проверим гипотезу $H_{0}: M1_{ZFO} = \\overline{0}$\n",
    "\n",
    "$Q_{res}^{UR}$ - сумма квадратов остатков длинной модели (с фиктивными переменными)\n",
    "\n",
    "$Q_{res}^{R}$ - сумма квадратов остатков короткой модели (без фиктивных переменных)\n",
    "\n",
    "Если $F_{набл} > F_{кр}(v_{1} = q, v_{2} = n - k - q - 1) → H_{0}$отвергается\n",
    "\n",
    "$F_{набл} = \\frac{(Q_{res}^{R} - Q_{res}^{UR}) / q}{Q_{res}^{UR}/(n-k-q-1)}$"
   ]
  },
  {
   "cell_type": "code",
   "execution_count": 17,
   "metadata": {
    "colab": {
     "base_uri": "https://localhost:8080/",
     "height": 34
    },
    "id": "8yS6CM_G8qWS",
    "outputId": "887930f3-e650-44a7-ed90-1d39aa88a8ab"
   },
   "outputs": [
    {
     "data": {
      "text/html": [
       "9.25857832112611"
      ],
      "text/latex": [
       "9.25857832112611"
      ],
      "text/markdown": [
       "9.25857832112611"
      ],
      "text/plain": [
       "[1] 9.258578"
      ]
     },
     "metadata": {},
     "output_type": "display_data"
    }
   ],
   "source": [
    "Q_s <- sum(residuals(reg3.2)^2) \n",
    "k <- 2\n",
    "q <- 8\n",
    "n <- length(M[,1])\n",
    "Q_l <- sum(residuals(reg4)^2)\n",
    "F_Chow <- ((Q_s - Q_l)/q)/(Q_l/(n - k - q - 1))\n",
    "F_crit <- 2.07 # F_cr(8, 71)\n",
    "F_Chow"
   ]
  },
  {
   "cell_type": "markdown",
   "metadata": {
    "id": "LV2rxpIIBjqR"
   },
   "source": [
    "$F_{набл} > F_{кр} → H_{0} отвергается (при α = 0.05)$\n",
    "\n",
    "Модель с фиктивными переменными имеет смысл."
   ]
  },
  {
   "cell_type": "markdown",
   "metadata": {
    "id": "Fn2lWVY5F5p7"
   },
   "source": [
    "Построим для каждого федерального округа график линейной зависимости Цен на \n",
    "молоко от Среднедушевых доходов при зафиксированной средней численности \n",
    "населения в федеральном округе:"
   ]
  },
  {
   "cell_type": "code",
   "execution_count": 18,
   "metadata": {
    "colab": {
     "base_uri": "https://localhost:8080/",
     "height": 437
    },
    "id": "eQtWaLbnF5ac",
    "outputId": "f36f2ed1-5497-42db-e3f6-5c75fc97d769"
   },
   "outputs": [
    {
     "data": {
      "image/png": "[encoded data removed]",
      "text/plain": [
       "Plot with title \"Dependence of price on population \""
      ]
     },
     "metadata": {},
     "output_type": "display_data"
    }
   ],
   "source": [
    "plot(x=M$Income, y=M$MilkPrice, main=\"Dependence of price on population \" , \n",
    "xlab = \"Per capita income \", ylab = \"Milk price \")\n",
    "points(x=M$Income[M$FO==\"CFO\"], y=M$MilkPrice[M$FO==\"CFO\"], col=1)\n",
    "abline(a=coef(reg4)[3]*mean(M$Population[M$FO==\"CFO\"])+coef(reg4)[1]+coef(reg4)[4], b=coef(reg4)[2], col=1)\n",
    "points(x=M$Income[M$FO==\"UFO\"], y=M$MilkPrice[M$FO==\"UFO\"], col=2)\n",
    "abline(a=coef(reg4)[3]*mean(M$Population[M$FO==\"UFO\"])+coef(reg4)[1]+coef(reg4)[5], b=coef(reg4)[2], col=2)\n",
    "points(x=M$Income[M$FO==\"SZFO\"], y=M$MilkPrice[M$FO==\"SZFO\"], col=3)\n",
    "abline(a=coef(reg4)[3]*mean(M$Population[M$FO==\"SZFO\"])+coef(reg4)[1]+coef(reg4)[6], b=coef(reg4)[2], col=3)\n",
    "points(x=M$Income[M$FO==\"YuFO\"], y=M$MilkPrice[M$FO==\"YuFO\"], col=4)\n",
    "abline(a=coef(reg4)[3]*mean(M$Population[M$FO==\"YuFO\"])+coef(reg4)[1]+coef(reg4)[7], b=coef(reg4)[2], col=4)\n",
    "points(x=M$Income[M$FO==\"PFO\"], y=M$MilkPrice[M$FO==\"PFO\"], col=5)\n",
    "abline(a=coef(reg4)[3]*mean(M$Population[M$FO==\"PFO\"])+coef(reg4)[1]+coef(reg4)[8], b=coef(reg4)[2], col=5)\n",
    "points(x=M$Income[M$FO==\"SKFO\"], y=M$MilkPrice[M$FO==\"SKFO\"], col=6)\n",
    "abline(a=coef(reg4)[3]*mean(M$Population[M$FO==\"SKFO\"])+coef(reg4)[1]+coef(reg4)[9], b=coef(reg4)[2], col=6)\n",
    "points(x=M$Income[M$FO==\"SFO\"], y=M$MilkPrice[M$FO==\"SFO\"], col=7)\n",
    "abline(a=coef(reg4)[3]*mean(M$Population[M$FO==\"SFO\"])+coef(reg4)[1]+coef(reg4)[10], b=coef(reg4)[2], col=7)\n",
    "points(x=M$Income[M$FO==\"DVFO\"], y=M$MilkPrice[M$FO==\"DVFO\"], col=8)\n",
    "abline(a=coef(reg4)[3]*mean(M$Population[M$FO==\"DVFO\"])+coef(reg4)[1], b=coef(reg4)[2], col=8)\n",
    "legend(10000,83,legend = c(\"CFO\",\"UFO\",\"SZFO\",\"YuFO\",\"PFO\",\"SKFO\",\"SFO\",\"DVFO\"), \n",
    " col = c(1,2,3,4,5,6,7,8), lwd=1, pch = c(1, 1, 1,1,1,1,1,1))"
   ]
  },
  {
   "cell_type": "markdown",
   "metadata": {
    "id": "_-g6HU45GO3w"
   },
   "source": [
    "Проведите эксперимент: Введите в регрессию фиктивную переменную для\n",
    "Дальневосточного федерального округа вместо фиктивной переменной для\n",
    "центрального федерального округа."
   ]
  },
  {
   "cell_type": "code",
   "execution_count": 19,
   "metadata": {
    "colab": {
     "base_uri": "https://localhost:8080/",
     "height": 566
    },
    "id": "epL9ixplGQ33",
    "outputId": "65e65670-a472-42b6-a39f-f14ca8eb6240"
   },
   "outputs": [
    {
     "data": {
      "text/plain": [
       "\n",
       "Call:\n",
       "lm(formula = M1$MilkPrice ~ M1$Income + M1$Population + M1$ZUFO + \n",
       "    M1$ZSZFO + M1$ZUrFO + M1$ZPFO + M1$ZSKFO + M1$ZSFO + M1$ZDVFO)\n",
       "\n",
       "Residuals:\n",
       "     Min       1Q   Median       3Q      Max \n",
       "-12.2754  -3.2329  -0.4525   2.3432  13.0067 \n",
       "\n",
       "Coefficients:\n",
       "                Estimate Std. Error t value Pr(>|t|)    \n",
       "(Intercept)    1.725e+01  2.039e+00   8.462 2.10e-12 ***\n",
       "M1$Income      8.276e-04  8.736e-05   9.474 2.76e-14 ***\n",
       "M1$Population -1.314e-06  3.659e-07  -3.591 0.000598 ***\n",
       "M1$ZUFO        3.977e+00  2.470e+00   1.610 0.111761    \n",
       "M1$ZSZFO       3.789e+00  2.088e+00   1.815 0.073758 .  \n",
       "M1$ZUrFO       2.666e+00  2.614e+00   1.020 0.311208    \n",
       "M1$ZPFO        3.839e-01  1.860e+00   0.206 0.837085    \n",
       "M1$ZSKFO       5.662e+00  2.345e+00   2.414 0.018311 *  \n",
       "M1$ZSFO        7.272e+00  1.951e+00   3.727 0.000383 ***\n",
       "M1$ZDVFO       1.831e+01  2.386e+00   7.674 6.21e-11 ***\n",
       "---\n",
       "Signif. codes:  0 '***' 0.001 '**' 0.01 '*' 0.05 '.' 0.1 ' ' 1\n",
       "\n",
       "Residual standard error: 5.184 on 72 degrees of freedom\n",
       "Multiple R-squared:  0.7946,\tAdjusted R-squared:  0.7689 \n",
       "F-statistic: 30.95 on 9 and 72 DF,  p-value: < 2.2e-16\n"
      ]
     },
     "metadata": {},
     "output_type": "display_data"
    },
    {
     "data": {
      "text/html": [
       "<table>\n",
       "<thead><tr><th></th><th scope=col>ME</th><th scope=col>RMSE</th><th scope=col>MAE</th><th scope=col>MPE</th><th scope=col>MAPE</th><th scope=col>MASE</th></tr></thead>\n",
       "<tbody>\n",
       "\t<tr><th scope=row>Training set</th><td>2.17729e-16</td><td>4.857306   </td><td>3.637565   </td><td>-1.248484  </td><td>9.573791   </td><td>0.4967495  </td></tr>\n",
       "</tbody>\n",
       "</table>\n"
      ],
      "text/latex": [
       "\\begin{tabular}{r|llllll}\n",
       "  & ME & RMSE & MAE & MPE & MAPE & MASE\\\\\n",
       "\\hline\n",
       "\tTraining set & 2.17729e-16 & 4.857306    & 3.637565    & -1.248484   & 9.573791    & 0.4967495  \\\\\n",
       "\\end{tabular}\n"
      ],
      "text/markdown": [
       "\n",
       "| <!--/--> | ME | RMSE | MAE | MPE | MAPE | MASE |\n",
       "|---|---|---|---|---|---|---|\n",
       "| Training set | 2.17729e-16 | 4.857306    | 3.637565    | -1.248484   | 9.573791    | 0.4967495   |\n",
       "\n"
      ],
      "text/plain": [
       "             ME          RMSE     MAE      MPE       MAPE     MASE     \n",
       "Training set 2.17729e-16 4.857306 3.637565 -1.248484 9.573791 0.4967495"
      ]
     },
     "metadata": {},
     "output_type": "display_data"
    }
   ],
   "source": [
    "reg4.1<-lm(M1$MilkPrice ~ M1$Income +M1$Population+ M1$ZUFO + M1$ZSZFO + M1$ZUrFO + M1$ZPFO + M1$ZSKFO + M1$ZSFO + M1$ZDVFO)\n",
    "summary(reg4.1)\n",
    "accuracy(reg4.1)"
   ]
  },
  {
   "cell_type": "markdown",
   "metadata": {
    "id": "cVJmxWpTk6D-"
   },
   "source": [
    "$M1_{MP} = 17.25 + 0.0008276M1_{Inc} - 0.0000013144M1_{P} + 3.977M1_{ZUFO} + 3.789M1_{ZSZFO} + 2.666M1_{ZUrFO} + 0.3839M1_{ZPFO} + 5.662M1_{ZSKFO} + 7.272M1_{ZSFO} + 18.31M1_{ZDVFO} + ϵ$"
   ]
  },
  {
   "cell_type": "markdown",
   "metadata": {
    "id": "buzet04KlxuJ"
   },
   "source": [
    "Проведите эксперимент: Введите в регрессию фиктивную переменную для \n",
    "Дальневосточного федерального округа вместо фиктивной переменной для южного федерального округа."
   ]
  },
  {
   "cell_type": "code",
   "execution_count": 20,
   "metadata": {
    "colab": {
     "base_uri": "https://localhost:8080/",
     "height": 566
    },
    "id": "R2wcWg1dG_tD",
    "outputId": "c4db19f9-5320-48c3-f3a7-b6fd1bda7973"
   },
   "outputs": [
    {
     "data": {
      "text/plain": [
       "\n",
       "Call:\n",
       "lm(formula = M1$MilkPrice ~ M1$Income + M1$ZCFO + M1$Population + \n",
       "    M1$ZUFO + M1$ZSZFO + M1$ZUrFO + M1$ZPFO + M1$ZSKFO + M1$ZSFO)\n",
       "\n",
       "Residuals:\n",
       "     Min       1Q   Median       3Q      Max \n",
       "-12.2754  -3.2329  -0.4525   2.3432  13.0067 \n",
       "\n",
       "Coefficients:\n",
       "                Estimate Std. Error t value Pr(>|t|)    \n",
       "(Intercept)    3.556e+01  2.913e+00  12.210  < 2e-16 ***\n",
       "M1$Income      8.276e-04  8.736e-05   9.474 2.76e-14 ***\n",
       "M1$ZCFO       -1.831e+01  2.386e+00  -7.674 6.21e-11 ***\n",
       "M1$Population -1.314e-06  3.659e-07  -3.591 0.000598 ***\n",
       "M1$ZUFO       -1.434e+01  3.070e+00  -4.670 1.36e-05 ***\n",
       "M1$ZSZFO      -1.453e+01  2.424e+00  -5.993 7.46e-08 ***\n",
       "M1$ZUrFO      -1.565e+01  2.836e+00  -5.518 5.10e-07 ***\n",
       "M1$ZPFO       -1.793e+01  2.549e+00  -7.034 9.55e-10 ***\n",
       "M1$ZSKFO      -1.265e+01  2.910e+00  -4.348 4.44e-05 ***\n",
       "M1$ZSFO       -1.104e+01  2.579e+00  -4.281 5.66e-05 ***\n",
       "---\n",
       "Signif. codes:  0 '***' 0.001 '**' 0.01 '*' 0.05 '.' 0.1 ' ' 1\n",
       "\n",
       "Residual standard error: 5.184 on 72 degrees of freedom\n",
       "Multiple R-squared:  0.7946,\tAdjusted R-squared:  0.7689 \n",
       "F-statistic: 30.95 on 9 and 72 DF,  p-value: < 2.2e-16\n"
      ]
     },
     "metadata": {},
     "output_type": "display_data"
    },
    {
     "data": {
      "text/html": [
       "<table>\n",
       "<thead><tr><th></th><th scope=col>ME</th><th scope=col>RMSE</th><th scope=col>MAE</th><th scope=col>MPE</th><th scope=col>MAPE</th><th scope=col>MASE</th></tr></thead>\n",
       "<tbody>\n",
       "\t<tr><th scope=row>Training set</th><td>-3.038305e-16</td><td>4.857306     </td><td>3.637565     </td><td>-1.248484    </td><td>9.573791     </td><td>0.4967495    </td></tr>\n",
       "</tbody>\n",
       "</table>\n"
      ],
      "text/latex": [
       "\\begin{tabular}{r|llllll}\n",
       "  & ME & RMSE & MAE & MPE & MAPE & MASE\\\\\n",
       "\\hline\n",
       "\tTraining set & -3.038305e-16 & 4.857306      & 3.637565      & -1.248484     & 9.573791      & 0.4967495    \\\\\n",
       "\\end{tabular}\n"
      ],
      "text/markdown": [
       "\n",
       "| <!--/--> | ME | RMSE | MAE | MPE | MAPE | MASE |\n",
       "|---|---|---|---|---|---|---|\n",
       "| Training set | -3.038305e-16 | 4.857306      | 3.637565      | -1.248484     | 9.573791      | 0.4967495     |\n",
       "\n"
      ],
      "text/plain": [
       "             ME            RMSE     MAE      MPE       MAPE     MASE     \n",
       "Training set -3.038305e-16 4.857306 3.637565 -1.248484 9.573791 0.4967495"
      ]
     },
     "metadata": {},
     "output_type": "display_data"
    }
   ],
   "source": [
    "reg4.2<-lm(M1$MilkPrice ~ M1$Income + M1$ZCFO + M1$Population + M1$ZUFO + M1$ZSZFO + M1$ZUrFO + M1$ZPFO + M1$ZSKFO + M1$ZSFO)\n",
    "summary(reg4.2)\n",
    "accuracy(reg4.2)"
   ]
  },
  {
   "cell_type": "markdown",
   "metadata": {
    "id": "T8w4WAUaniNG"
   },
   "source": [
    "$M1_{MP} = 35.56 + 0.0008276M1_{Inc} - 0.000001314M1_{P} - 18.31M1_{ZCFO} - 14.34M1_{ZUFO} - 14.53M1_{ZSZFO} - 15.65M1_{ZUrFO} - 17.93M1_{ZPFO} - 12.65M1_{ZSKFO} - 11.04M1_{ZSFO} + ϵ$"
   ]
  },
  {
   "cell_type": "markdown",
   "metadata": {
    "id": "I2dZbUhxo0gO"
   },
   "source": [
    "Постройте множественную регрессию для Цен на молоко, Среднедушевых\n",
    "доходов, Численности населения и Федерального округа. При этом, фактор \n",
    "Федеральный округ влияет на коэффициент при факторе Среднедушевые доходы. ???\n"
   ]
  },
  {
   "cell_type": "code",
   "execution_count": 21,
   "metadata": {
    "colab": {
     "base_uri": "https://localhost:8080/",
     "height": 670
    },
    "id": "76h5YvnGozAZ",
    "outputId": "951d23e3-cdf6-4173-c7d3-7cb14577d0d7"
   },
   "outputs": [
    {
     "data": {
      "text/plain": [
       "\n",
       "Call:\n",
       "lm(formula = M$MilkPrice ~ M$Income * M$FO + M$Population)\n",
       "\n",
       "Residuals:\n",
       "     Min       1Q   Median       3Q      Max \n",
       "-13.7050  -2.5657   0.5047   2.3303  12.6620 \n",
       "\n",
       "Coefficients:\n",
       "                    Estimate Std. Error t value Pr(>|t|)    \n",
       "(Intercept)        2.006e+01  4.781e+00   4.197 8.38e-05 ***\n",
       "M$Income           6.191e-04  2.780e-04   2.227  0.02942 *  \n",
       "M$FODVFO           8.143e+00  9.719e+00   0.838  0.40518    \n",
       "M$FOPFO            4.371e+00  7.162e+00   0.610  0.54374    \n",
       "M$FOSFO            2.813e+01  9.683e+00   2.905  0.00501 ** \n",
       "M$FOSKFO           7.066e+00  1.188e+01   0.595  0.55410    \n",
       "M$FOSZFO          -5.177e+00  6.532e+00  -0.793  0.43087    \n",
       "M$FOUFO            4.897e+00  8.601e+00   0.569  0.57109    \n",
       "M$FOYuFO           1.284e+01  1.096e+01   1.172  0.24564    \n",
       "M$Population      -6.457e-07  6.175e-07  -1.046  0.29958    \n",
       "M$Income:M$FODVFO  4.614e-04  4.129e-04   1.118  0.26786    \n",
       "M$Income:M$FOPFO  -2.516e-04  3.701e-04  -0.680  0.49896    \n",
       "M$Income:M$FOSFO  -1.230e-03  5.391e-04  -2.281  0.02582 *  \n",
       "M$Income:M$FOSKFO -1.241e-04  7.395e-04  -0.168  0.86727    \n",
       "M$Income:M$FOSZFO  4.169e-04  3.109e-04   1.341  0.18461    \n",
       "M$Income:M$FOUFO   5.594e-07  3.476e-04   0.002  0.99872    \n",
       "M$Income:M$FOYuFO -5.851e-04  6.326e-04  -0.925  0.35844    \n",
       "---\n",
       "Signif. codes:  0 '***' 0.001 '**' 0.01 '*' 0.05 '.' 0.1 ' ' 1\n",
       "\n",
       "Residual standard error: 4.933 on 65 degrees of freedom\n",
       "Multiple R-squared:  0.832,\tAdjusted R-squared:  0.7907 \n",
       "F-statistic: 20.12 on 16 and 65 DF,  p-value: < 2.2e-16\n"
      ]
     },
     "metadata": {},
     "output_type": "display_data"
    },
    {
     "data": {
      "text/html": [
       "<table>\n",
       "<thead><tr><th></th><th scope=col>ME</th><th scope=col>RMSE</th><th scope=col>MAE</th><th scope=col>MPE</th><th scope=col>MAPE</th><th scope=col>MASE</th></tr></thead>\n",
       "<tbody>\n",
       "\t<tr><th scope=row>Training set</th><td>1.298768e-16</td><td>4.392195    </td><td>3.238901    </td><td>-1.089497   </td><td>8.631434    </td><td>0.4423075   </td></tr>\n",
       "</tbody>\n",
       "</table>\n"
      ],
      "text/latex": [
       "\\begin{tabular}{r|llllll}\n",
       "  & ME & RMSE & MAE & MPE & MAPE & MASE\\\\\n",
       "\\hline\n",
       "\tTraining set & 1.298768e-16 & 4.392195     & 3.238901     & -1.089497    & 8.631434     & 0.4423075   \\\\\n",
       "\\end{tabular}\n"
      ],
      "text/markdown": [
       "\n",
       "| <!--/--> | ME | RMSE | MAE | MPE | MAPE | MASE |\n",
       "|---|---|---|---|---|---|---|\n",
       "| Training set | 1.298768e-16 | 4.392195     | 3.238901     | -1.089497    | 8.631434     | 0.4423075    |\n",
       "\n"
      ],
      "text/plain": [
       "             ME           RMSE     MAE      MPE       MAPE     MASE     \n",
       "Training set 1.298768e-16 4.392195 3.238901 -1.089497 8.631434 0.4423075"
      ]
     },
     "metadata": {},
     "output_type": "display_data"
    }
   ],
   "source": [
    "reg4.3<-lm(M$MilkPrice ~ M$Income * M$FO + M$Population)\n",
    "summary(reg4.3)\n",
    "accuracy(reg4.3)"
   ]
  },
  {
   "cell_type": "markdown",
   "metadata": {
    "id": "vEwJTKkIqAGd"
   },
   "source": [
    "$M1_{MP} = 20.06 + 0.0006191M_{Inc} - 0.0000006457M_{P} + 8.143M_{FODVFO} + 4.371M_{FOPFO} + 28.13M_{FOSFO} + 7.066M_{FOSKFO} - 5.177M_{FOSZFO} + 4.897M_{FOUFO} + 12.84M_{FOYuFO} + 0.0004614M_{Inc, FODVFO} - 0.0002516M_{Inc, FOPFO} - 0.00123M_{Inc, FOSFO} - 0.0001241M_{Inc, FOSKFO} + 0.0004169M_{Inc, FOSZFO} + 0.0000005594M_{Inc, FOUFO} - 0.0005851M_{FOYuFO}$"
   ]
  },
  {
   "cell_type": "markdown",
   "metadata": {
    "id": "J0hOIqqtvCC-"
   },
   "source": [
    "Постройте множественную регрессию для Цен на молоко, Среднедушевых\n",
    "доходов, Численности населения и Федерального округа. При этом, фактор \n",
    "Федеральный округ влияет на коэффициент при факторе Численность населения."
   ]
  },
  {
   "cell_type": "code",
   "execution_count": 22,
   "metadata": {
    "colab": {
     "base_uri": "https://localhost:8080/",
     "height": 670
    },
    "id": "hg3ue9Oopgmo",
    "outputId": "22681860-8d50-4024-d540-3ca1f651b03f"
   },
   "outputs": [
    {
     "data": {
      "text/plain": [
       "\n",
       "Call:\n",
       "lm(formula = M$MilkPrice ~ M$Income + M$Population * M$FO)\n",
       "\n",
       "Residuals:\n",
       "     Min       1Q   Median       3Q      Max \n",
       "-12.3789  -2.7604  -0.5997   2.3891  12.8112 \n",
       "\n",
       "Coefficients:\n",
       "                        Estimate Std. Error t value Pr(>|t|)    \n",
       "(Intercept)            1.655e+01  2.136e+00   7.747 8.23e-11 ***\n",
       "M$Income               8.350e-04  9.886e-05   8.446 4.71e-12 ***\n",
       "M$Population          -1.060e-06  4.945e-07  -2.143 0.035866 *  \n",
       "M$FODVFO               1.897e+01  3.730e+00   5.087 3.32e-06 ***\n",
       "M$FOPFO                3.061e+00  3.422e+00   0.894 0.374375    \n",
       "M$FOSFO                1.355e+01  3.301e+00   4.105 0.000115 ***\n",
       "M$FOSKFO               6.240e+00  3.700e+00   1.686 0.096555 .  \n",
       "M$FOSZFO               3.839e+00  2.913e+00   1.318 0.192146    \n",
       "M$FOUFO                3.149e+00  4.708e+00   0.669 0.505969    \n",
       "M$FOYuFO               3.688e+00  3.637e+00   1.014 0.314363    \n",
       "M$Population:M$FODVFO -4.554e-07  3.251e-06  -0.140 0.889032    \n",
       "M$Population:M$FOPFO  -1.248e-06  1.344e-06  -0.929 0.356543    \n",
       "M$Population:M$FOSFO  -3.795e-06  1.612e-06  -2.354 0.021604 *  \n",
       "M$Population:M$FOSKFO -2.446e-07  1.993e-06  -0.123 0.902698    \n",
       "M$Population:M$FOSZFO  1.149e-07  1.306e-06   0.088 0.930167    \n",
       "M$Population:M$FOUFO  -2.576e-07  1.704e-06  -0.151 0.880295    \n",
       "M$Population:M$FOYuFO  1.167e-07  1.161e-06   0.101 0.920216    \n",
       "---\n",
       "Signif. codes:  0 '***' 0.001 '**' 0.01 '*' 0.05 '.' 0.1 ' ' 1\n",
       "\n",
       "Residual standard error: 5.206 on 65 degrees of freedom\n",
       "Multiple R-squared:  0.8129,\tAdjusted R-squared:  0.7669 \n",
       "F-statistic: 17.65 on 16 and 65 DF,  p-value: < 2.2e-16\n"
      ]
     },
     "metadata": {},
     "output_type": "display_data"
    },
    {
     "data": {
      "text/html": [
       "<table>\n",
       "<thead><tr><th></th><th scope=col>ME</th><th scope=col>RMSE</th><th scope=col>MAE</th><th scope=col>MPE</th><th scope=col>MAPE</th><th scope=col>MASE</th></tr></thead>\n",
       "<tbody>\n",
       "\t<tr><th scope=row>Training set</th><td>1.731339e-16</td><td>4.635375    </td><td>3.443664    </td><td>-1.091472   </td><td>9.009739    </td><td>0.4702701   </td></tr>\n",
       "</tbody>\n",
       "</table>\n"
      ],
      "text/latex": [
       "\\begin{tabular}{r|llllll}\n",
       "  & ME & RMSE & MAE & MPE & MAPE & MASE\\\\\n",
       "\\hline\n",
       "\tTraining set & 1.731339e-16 & 4.635375     & 3.443664     & -1.091472    & 9.009739     & 0.4702701   \\\\\n",
       "\\end{tabular}\n"
      ],
      "text/markdown": [
       "\n",
       "| <!--/--> | ME | RMSE | MAE | MPE | MAPE | MASE |\n",
       "|---|---|---|---|---|---|---|\n",
       "| Training set | 1.731339e-16 | 4.635375     | 3.443664     | -1.091472    | 9.009739     | 0.4702701    |\n",
       "\n"
      ],
      "text/plain": [
       "             ME           RMSE     MAE      MPE       MAPE     MASE     \n",
       "Training set 1.731339e-16 4.635375 3.443664 -1.091472 9.009739 0.4702701"
      ]
     },
     "metadata": {},
     "output_type": "display_data"
    }
   ],
   "source": [
    "reg4.4<-lm(M$MilkPrice ~ M$Income + M$Population * M$FO)\n",
    "summary(reg4.4)\n",
    "accuracy(reg4.4)"
   ]
  },
  {
   "cell_type": "markdown",
   "metadata": {
    "id": "QglZDtbKxX9Y"
   },
   "source": [
    "Выберите наилучшую модель для описания изменений Цен на молоко (***TASK***)"
   ]
  },
  {
   "cell_type": "code",
   "execution_count": 23,
   "metadata": {
    "colab": {
     "base_uri": "https://localhost:8080/",
     "height": 104
    },
    "id": "VrTGq9nRvlkY",
    "outputId": "88ef2420-b5e1-43a0-d910-4f384eb75131"
   },
   "outputs": [
    {
     "data": {
      "text/html": [
       "9.57379060979189"
      ],
      "text/latex": [
       "9.57379060979189"
      ],
      "text/markdown": [
       "9.57379060979189"
      ],
      "text/plain": [
       "[1] 9.573791"
      ]
     },
     "metadata": {},
     "output_type": "display_data"
    },
    {
     "data": {
      "text/html": [
       "9.57379060979189"
      ],
      "text/latex": [
       "9.57379060979189"
      ],
      "text/markdown": [
       "9.57379060979189"
      ],
      "text/plain": [
       "[1] 9.573791"
      ]
     },
     "metadata": {},
     "output_type": "display_data"
    },
    {
     "data": {
      "text/html": [
       "9.57379060979189"
      ],
      "text/latex": [
       "9.57379060979189"
      ],
      "text/markdown": [
       "9.57379060979189"
      ],
      "text/plain": [
       "[1] 9.573791"
      ]
     },
     "metadata": {},
     "output_type": "display_data"
    },
    {
     "data": {
      "text/html": [
       "8.63143361508859"
      ],
      "text/latex": [
       "8.63143361508859"
      ],
      "text/markdown": [
       "8.63143361508859"
      ],
      "text/plain": [
       "[1] 8.631434"
      ]
     },
     "metadata": {},
     "output_type": "display_data"
    },
    {
     "data": {
      "text/html": [
       "9.00973933597707"
      ],
      "text/latex": [
       "9.00973933597707"
      ],
      "text/markdown": [
       "9.00973933597707"
      ],
      "text/plain": [
       "[1] 9.009739"
      ]
     },
     "metadata": {},
     "output_type": "display_data"
    }
   ],
   "source": [
    "accuracy(reg4)[5] # Сравниваем MAPE различных моделей\n",
    "accuracy(reg4.1)[5]\n",
    "accuracy(reg4.2)[5]\n",
    "accuracy(reg4.3)[5]\n",
    "accuracy(reg4.4)[5]"
   ]
  },
  {
   "cell_type": "markdown",
   "metadata": {
    "id": "V5tq4CANx3mH"
   },
   "source": [
    "Наименьший показатель MAPE (при количестве наблюдений = 82) среди моделей с фиктивными переменными у модели, в которой фактор ФО влияет на коэффициент среднедушевого дохода."
   ]
  }
 ],
 "metadata": {
  "colab": {
   "collapsed_sections": [],
   "name": "lab5.ipynb",
   "provenance": []
  },
  "kernelspec": {
   "display_name": "R",
   "language": "R",
   "name": "ir"
  },
  "language_info": {
   "codemirror_mode": "r",
   "file_extension": ".r",
   "mimetype": "text/x-r-source",
   "name": "R",
   "pygments_lexer": "r",
   "version": "3.6.1"
  },
  "widgets": {
   "application/vnd.jupyter.widget-state+json": {
    "state": {},
    "version_major": 2,
    "version_minor": 0
   }
  }
 },
 "nbformat": 4,
 "nbformat_minor": 4
}
