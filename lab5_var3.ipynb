{
 "cells": [
  {
   "cell_type": "code",
   "execution_count": 1,
   "id": "1f378db1-ad27-4460-a6f6-5f49a7a87111",
   "metadata": {},
   "outputs": [],
   "source": [
    "M<-read.csv2(\"5data_var3-1.csv\", header=TRUE, sep=\",\" , dec = \".\", na.strings = \"N\");"
   ]
  },
  {
   "cell_type": "code",
   "execution_count": 2,
   "id": "df0bcb54-3a91-41c6-981f-2df50b7b10dc",
   "metadata": {
    "tags": []
   },
   "outputs": [
    {
     "data": {
      "text/html": [
       "<table>\n",
       "<thead><tr><th scope=col>City</th><th scope=col>Year</th><th scope=col>Zp</th><th scope=col>Price</th><th scope=col>Population</th><th scope=col>FO</th><th scope=col>Latitude</th><th scope=col>D_to_Moscow</th></tr></thead>\n",
       "<tbody>\n",
       "\t<tr><td>Belg obl    </td><td>2003        </td><td> 4468.6     </td><td> 76.09      </td><td>1511        </td><td>CFO         </td><td>50.610      </td><td> 578        </td></tr>\n",
       "\t<tr><td>Resp Karelia</td><td>2003        </td><td> 5692.0     </td><td> 74.30      </td><td> 715        </td><td>SZFO        </td><td>61.784      </td><td> 959        </td></tr>\n",
       "\t<tr><td>Rost Krai   </td><td>2003        </td><td> 3806.1     </td><td> 74.20      </td><td>4396        </td><td>UFO         </td><td>47.231      </td><td> 954        </td></tr>\n",
       "\t<tr><td>Dagestan    </td><td>2003        </td><td> 2409.2     </td><td> 71.23      </td><td>2581        </td><td>SKFO        </td><td>42.976      </td><td>1587        </td></tr>\n",
       "\t<tr><td>Tatarstan   </td><td>2003        </td><td> 4530.0     </td><td> 81.20      </td><td>3777        </td><td>PFO         </td><td>55.788      </td><td> 842        </td></tr>\n",
       "\t<tr><td>Kugran      </td><td>2003        </td><td> 3664.6     </td><td> 84.92      </td><td>1016        </td><td>YrFO        </td><td>55.450      </td><td>1729        </td></tr>\n",
       "\t<tr><td>Altai       </td><td>2003        </td><td> 3147.5     </td><td> 87.31      </td><td> 203        </td><td>SFO         </td><td>48.302      </td><td>2925        </td></tr>\n",
       "\t<tr><td>Jakutia     </td><td>2003        </td><td> 9697.4     </td><td> 93.76      </td><td> 948        </td><td>DVFO        </td><td>62.033      </td><td>4883        </td></tr>\n",
       "\t<tr><td>Belg obl    </td><td>2004        </td><td> 5284.4     </td><td> 80.82      </td><td>1513        </td><td>CFO         </td><td>50.610      </td><td> 578        </td></tr>\n",
       "\t<tr><td>Resp Karelia</td><td>2004        </td><td> 6935.1     </td><td> 80.55      </td><td> 708        </td><td>SZFO        </td><td>61.784      </td><td> 959        </td></tr>\n",
       "\t<tr><td>Rost Krai   </td><td>2004        </td><td> 4797.5     </td><td> 74.23      </td><td>4365        </td><td>UFO         </td><td>47.231      </td><td> 954        </td></tr>\n",
       "\t<tr><td>Dagestan    </td><td>2004        </td><td> 3000.1     </td><td> 73.21      </td><td>2581        </td><td>SKFO        </td><td>42.976      </td><td>1587        </td></tr>\n",
       "\t<tr><td>Tatarstan   </td><td>2004        </td><td> 5452.8     </td><td> 83.20      </td><td>3772        </td><td>PFO         </td><td>55.788      </td><td> 842        </td></tr>\n",
       "\t<tr><td>Kugran      </td><td>2004        </td><td> 4538.4     </td><td> 90.87      </td><td>1003        </td><td>YrFO        </td><td>55.450      </td><td>1729        </td></tr>\n",
       "\t<tr><td>Altai       </td><td>2004        </td><td> 4549.9     </td><td> 90.07      </td><td> 203        </td><td>SFO         </td><td>48.302      </td><td>2925        </td></tr>\n",
       "\t<tr><td>Jakutia     </td><td>2004        </td><td>11315.3     </td><td>101.12      </td><td> 948        </td><td>DVFO        </td><td>62.033      </td><td>4883        </td></tr>\n",
       "\t<tr><td>Belg obl    </td><td>2005        </td><td> 6775.4     </td><td> 99.32      </td><td>1511        </td><td>CFO         </td><td>50.610      </td><td> 578        </td></tr>\n",
       "\t<tr><td>Resp Karelia</td><td>2005        </td><td> 8730.3     </td><td>104.91      </td><td> 703        </td><td>SZFO        </td><td>61.784      </td><td> 959        </td></tr>\n",
       "\t<tr><td>Rost Krai   </td><td>2005        </td><td> 5944.7     </td><td> 98.82      </td><td>4334        </td><td>UFO         </td><td>47.231      </td><td> 954        </td></tr>\n",
       "\t<tr><td>Dagestan    </td><td>2005        </td><td> 3659.8     </td><td> 97.22      </td><td>2621        </td><td>SKFO        </td><td>42.976      </td><td>1587        </td></tr>\n",
       "\t<tr><td>Tatarstan   </td><td>2005        </td><td> 7067.8     </td><td>107.20      </td><td>3768        </td><td>PFO         </td><td>55.788      </td><td> 842        </td></tr>\n",
       "\t<tr><td>Kugran      </td><td>2005        </td><td> 5691.5     </td><td>110.58      </td><td> 992        </td><td>YrFO        </td><td>55.450      </td><td>1729        </td></tr>\n",
       "\t<tr><td>Altai       </td><td>2005        </td><td> 5736.1     </td><td>111.65      </td><td> 203        </td><td>SFO         </td><td>48.302      </td><td>2925        </td></tr>\n",
       "\t<tr><td>Jakutia     </td><td>2005        </td><td>13436.9     </td><td>122.30      </td><td> 950        </td><td>DVFO        </td><td>62.033      </td><td>4883        </td></tr>\n",
       "\t<tr><td>Belg obl    </td><td>2006        </td><td> 8336.9     </td><td>113.80      </td><td>1511        </td><td>CFO         </td><td>50.610      </td><td> 578        </td></tr>\n",
       "\t<tr><td>Resp Karelia</td><td>2006        </td><td>10697.4     </td><td>120.09      </td><td> 697        </td><td>SZFO        </td><td>61.784      </td><td> 959        </td></tr>\n",
       "\t<tr><td>Rost Krai   </td><td>2006        </td><td> 7568.9     </td><td>119.17      </td><td>4303        </td><td>UFO         </td><td>47.231      </td><td> 954        </td></tr>\n",
       "\t<tr><td>Dagestan    </td><td>2006        </td><td> 4540.0     </td><td>118.11      </td><td>2640        </td><td>SKFO        </td><td>42.976      </td><td>1587        </td></tr>\n",
       "\t<tr><td>Tatarstan   </td><td>2006        </td><td> 8849.9     </td><td>124.24      </td><td>3761        </td><td>PFO         </td><td>55.788      </td><td> 842        </td></tr>\n",
       "\t<tr><td>Kugran      </td><td>2006        </td><td> 7295.6     </td><td>129.50      </td><td> 979        </td><td>YrFO        </td><td>55.450      </td><td>1729        </td></tr>\n",
       "\t<tr><td>...</td><td>...</td><td>...</td><td>...</td><td>...</td><td>...</td><td>...</td><td>...</td></tr>\n",
       "\t<tr><td>Rost Krai   </td><td>2009        </td><td>13882.5     </td><td>164.15      </td><td>4241        </td><td>UFO         </td><td>47.231      </td><td> 954        </td></tr>\n",
       "\t<tr><td>Dagestan    </td><td>2009        </td><td> 9125.3     </td><td>163.43      </td><td>2711        </td><td>SKFO        </td><td>42.976      </td><td>1587        </td></tr>\n",
       "\t<tr><td>Tatarstan   </td><td>2009        </td><td>15206.9     </td><td>172.79      </td><td>3768        </td><td>PFO         </td><td>55.788      </td><td> 842        </td></tr>\n",
       "\t<tr><td>Kugran      </td><td>2009        </td><td>11942.0     </td><td>183.74      </td><td> 952        </td><td>YrFO        </td><td>55.450      </td><td>1729        </td></tr>\n",
       "\t<tr><td>Altai       </td><td>2009        </td><td>13075.4     </td><td>182.90      </td><td> 209        </td><td>SFO         </td><td>48.302      </td><td>2925        </td></tr>\n",
       "\t<tr><td>Jakutia     </td><td>2009        </td><td>26532.6     </td><td>230.56      </td><td> 949        </td><td>DVFO        </td><td>62.033      </td><td>4883        </td></tr>\n",
       "\t<tr><td>Belg obl    </td><td>2010        </td><td>15938.4     </td><td>182.86      </td><td>1532        </td><td>CFO         </td><td>50.610      </td><td> 578        </td></tr>\n",
       "\t<tr><td>Resp Karelia</td><td>2010        </td><td>20056.0     </td><td>186.95      </td><td> 643        </td><td>SZFO        </td><td>61.784      </td><td> 959        </td></tr>\n",
       "\t<tr><td>Rost Krai   </td><td>2010        </td><td>15243.9     </td><td>174.50      </td><td>4277        </td><td>UFO         </td><td>47.231      </td><td> 954        </td></tr>\n",
       "\t<tr><td>Dagestan    </td><td>2010        </td><td>10243.5     </td><td>168.99      </td><td>2910        </td><td>SKFO        </td><td>42.976      </td><td>1587        </td></tr>\n",
       "\t<tr><td>Tatarstan   </td><td>2010        </td><td>17350.1     </td><td>182.83      </td><td>3786        </td><td>PFO         </td><td>55.788      </td><td> 842        </td></tr>\n",
       "\t<tr><td>Kugran      </td><td>2010        </td><td>13227.9     </td><td>206.11      </td><td> 910        </td><td>YrFO        </td><td>55.450      </td><td>1729        </td></tr>\n",
       "\t<tr><td>Altai       </td><td>2010        </td><td>14235.8     </td><td>192.65      </td><td> 206        </td><td>SFO         </td><td>48.302      </td><td>2925        </td></tr>\n",
       "\t<tr><td>Jakutia     </td><td>2010        </td><td>28708.0     </td><td>248.86      </td><td> 958        </td><td>DVFO        </td><td>62.033      </td><td>4883        </td></tr>\n",
       "\t<tr><td>Belg obl    </td><td>2011        </td><td>17667.6     </td><td>197.23      </td><td>1532        </td><td>CFO         </td><td>50.610      </td><td> 578        </td></tr>\n",
       "\t<tr><td>Resp Karelia</td><td>2011        </td><td>22173.9     </td><td>208.89      </td><td> 642        </td><td>SZFO        </td><td>61.784      </td><td> 959        </td></tr>\n",
       "\t<tr><td>Rost Krai   </td><td>2011        </td><td>16949.5     </td><td>189.20      </td><td>4275        </td><td>UFO         </td><td>47.231      </td><td> 954        </td></tr>\n",
       "\t<tr><td>Dagestan    </td><td>2011        </td><td>11235.8     </td><td>182.85      </td><td>2914        </td><td>SKFO        </td><td>42.976      </td><td>1587        </td></tr>\n",
       "\t<tr><td>Tatarstan   </td><td>2011        </td><td>20009.4     </td><td>199.08      </td><td>3787        </td><td>PFO         </td><td>55.788      </td><td> 842        </td></tr>\n",
       "\t<tr><td>Kugran      </td><td>2011        </td><td>14833.1     </td><td>222.13      </td><td> 908        </td><td>YrFO        </td><td>55.450      </td><td>1729        </td></tr>\n",
       "\t<tr><td>Altai       </td><td>2011        </td><td>15632.4     </td><td>205.62      </td><td> 206        </td><td>SFO         </td><td>48.302      </td><td>2925        </td></tr>\n",
       "\t<tr><td>Jakutia     </td><td>2011        </td><td>34051.5     </td><td>270.09      </td><td> 958        </td><td>DVFO        </td><td>62.033      </td><td>4883        </td></tr>\n",
       "\t<tr><td>Belg obl    </td><td>2012        </td><td>20002.1     </td><td>223.17      </td><td>1536        </td><td>CFO         </td><td>50.610      </td><td> 578        </td></tr>\n",
       "\t<tr><td>Resp Karelia</td><td>2012        </td><td>24795.8     </td><td>228.02      </td><td> 639        </td><td>SZFO        </td><td>61.784      </td><td> 959        </td></tr>\n",
       "\t<tr><td>Rost Krai   </td><td>2012        </td><td>19189.4     </td><td>214.30      </td><td>4260        </td><td>UFO         </td><td>47.231      </td><td> 954        </td></tr>\n",
       "\t<tr><td>Dagestan    </td><td>2012        </td><td>13659.6     </td><td>229.72      </td><td>2930        </td><td>SKFO        </td><td>42.976      </td><td>1587        </td></tr>\n",
       "\t<tr><td>Tatarstan   </td><td>2012        </td><td>23233.7     </td><td>226.26      </td><td>3803        </td><td>PFO         </td><td>55.788      </td><td> 842        </td></tr>\n",
       "\t<tr><td>Kugran      </td><td>2012        </td><td>17180.3     </td><td>246.06      </td><td> 896        </td><td>YrFO        </td><td>55.450      </td><td>1729        </td></tr>\n",
       "\t<tr><td>Altai       </td><td>2012        </td><td>18264.6     </td><td>222.40      </td><td> 208        </td><td>SFO         </td><td>48.302      </td><td>2925        </td></tr>\n",
       "\t<tr><td>Jakutia     </td><td>2012        </td><td>39915.6     </td><td>291.18      </td><td> 955        </td><td>DVFO        </td><td>62.033      </td><td>4883        </td></tr>\n",
       "</tbody>\n",
       "</table>\n"
      ],
      "text/latex": [
       "\\begin{tabular}{r|llllllll}\n",
       " City & Year & Zp & Price & Population & FO & Latitude & D\\_to\\_Moscow\\\\\n",
       "\\hline\n",
       "\t Belg obl     & 2003         &  4468.6      &  76.09       & 1511         & CFO          & 50.610       &  578        \\\\\n",
       "\t Resp Karelia & 2003         &  5692.0      &  74.30       &  715         & SZFO         & 61.784       &  959        \\\\\n",
       "\t Rost Krai    & 2003         &  3806.1      &  74.20       & 4396         & UFO          & 47.231       &  954        \\\\\n",
       "\t Dagestan     & 2003         &  2409.2      &  71.23       & 2581         & SKFO         & 42.976       & 1587        \\\\\n",
       "\t Tatarstan    & 2003         &  4530.0      &  81.20       & 3777         & PFO          & 55.788       &  842        \\\\\n",
       "\t Kugran       & 2003         &  3664.6      &  84.92       & 1016         & YrFO         & 55.450       & 1729        \\\\\n",
       "\t Altai        & 2003         &  3147.5      &  87.31       &  203         & SFO          & 48.302       & 2925        \\\\\n",
       "\t Jakutia      & 2003         &  9697.4      &  93.76       &  948         & DVFO         & 62.033       & 4883        \\\\\n",
       "\t Belg obl     & 2004         &  5284.4      &  80.82       & 1513         & CFO          & 50.610       &  578        \\\\\n",
       "\t Resp Karelia & 2004         &  6935.1      &  80.55       &  708         & SZFO         & 61.784       &  959        \\\\\n",
       "\t Rost Krai    & 2004         &  4797.5      &  74.23       & 4365         & UFO          & 47.231       &  954        \\\\\n",
       "\t Dagestan     & 2004         &  3000.1      &  73.21       & 2581         & SKFO         & 42.976       & 1587        \\\\\n",
       "\t Tatarstan    & 2004         &  5452.8      &  83.20       & 3772         & PFO          & 55.788       &  842        \\\\\n",
       "\t Kugran       & 2004         &  4538.4      &  90.87       & 1003         & YrFO         & 55.450       & 1729        \\\\\n",
       "\t Altai        & 2004         &  4549.9      &  90.07       &  203         & SFO          & 48.302       & 2925        \\\\\n",
       "\t Jakutia      & 2004         & 11315.3      & 101.12       &  948         & DVFO         & 62.033       & 4883        \\\\\n",
       "\t Belg obl     & 2005         &  6775.4      &  99.32       & 1511         & CFO          & 50.610       &  578        \\\\\n",
       "\t Resp Karelia & 2005         &  8730.3      & 104.91       &  703         & SZFO         & 61.784       &  959        \\\\\n",
       "\t Rost Krai    & 2005         &  5944.7      &  98.82       & 4334         & UFO          & 47.231       &  954        \\\\\n",
       "\t Dagestan     & 2005         &  3659.8      &  97.22       & 2621         & SKFO         & 42.976       & 1587        \\\\\n",
       "\t Tatarstan    & 2005         &  7067.8      & 107.20       & 3768         & PFO          & 55.788       &  842        \\\\\n",
       "\t Kugran       & 2005         &  5691.5      & 110.58       &  992         & YrFO         & 55.450       & 1729        \\\\\n",
       "\t Altai        & 2005         &  5736.1      & 111.65       &  203         & SFO          & 48.302       & 2925        \\\\\n",
       "\t Jakutia      & 2005         & 13436.9      & 122.30       &  950         & DVFO         & 62.033       & 4883        \\\\\n",
       "\t Belg obl     & 2006         &  8336.9      & 113.80       & 1511         & CFO          & 50.610       &  578        \\\\\n",
       "\t Resp Karelia & 2006         & 10697.4      & 120.09       &  697         & SZFO         & 61.784       &  959        \\\\\n",
       "\t Rost Krai    & 2006         &  7568.9      & 119.17       & 4303         & UFO          & 47.231       &  954        \\\\\n",
       "\t Dagestan     & 2006         &  4540.0      & 118.11       & 2640         & SKFO         & 42.976       & 1587        \\\\\n",
       "\t Tatarstan    & 2006         &  8849.9      & 124.24       & 3761         & PFO          & 55.788       &  842        \\\\\n",
       "\t Kugran       & 2006         &  7295.6      & 129.50       &  979         & YrFO         & 55.450       & 1729        \\\\\n",
       "\t ... & ... & ... & ... & ... & ... & ... & ...\\\\\n",
       "\t Rost Krai    & 2009         & 13882.5      & 164.15       & 4241         & UFO          & 47.231       &  954        \\\\\n",
       "\t Dagestan     & 2009         &  9125.3      & 163.43       & 2711         & SKFO         & 42.976       & 1587        \\\\\n",
       "\t Tatarstan    & 2009         & 15206.9      & 172.79       & 3768         & PFO          & 55.788       &  842        \\\\\n",
       "\t Kugran       & 2009         & 11942.0      & 183.74       &  952         & YrFO         & 55.450       & 1729        \\\\\n",
       "\t Altai        & 2009         & 13075.4      & 182.90       &  209         & SFO          & 48.302       & 2925        \\\\\n",
       "\t Jakutia      & 2009         & 26532.6      & 230.56       &  949         & DVFO         & 62.033       & 4883        \\\\\n",
       "\t Belg obl     & 2010         & 15938.4      & 182.86       & 1532         & CFO          & 50.610       &  578        \\\\\n",
       "\t Resp Karelia & 2010         & 20056.0      & 186.95       &  643         & SZFO         & 61.784       &  959        \\\\\n",
       "\t Rost Krai    & 2010         & 15243.9      & 174.50       & 4277         & UFO          & 47.231       &  954        \\\\\n",
       "\t Dagestan     & 2010         & 10243.5      & 168.99       & 2910         & SKFO         & 42.976       & 1587        \\\\\n",
       "\t Tatarstan    & 2010         & 17350.1      & 182.83       & 3786         & PFO          & 55.788       &  842        \\\\\n",
       "\t Kugran       & 2010         & 13227.9      & 206.11       &  910         & YrFO         & 55.450       & 1729        \\\\\n",
       "\t Altai        & 2010         & 14235.8      & 192.65       &  206         & SFO          & 48.302       & 2925        \\\\\n",
       "\t Jakutia      & 2010         & 28708.0      & 248.86       &  958         & DVFO         & 62.033       & 4883        \\\\\n",
       "\t Belg obl     & 2011         & 17667.6      & 197.23       & 1532         & CFO          & 50.610       &  578        \\\\\n",
       "\t Resp Karelia & 2011         & 22173.9      & 208.89       &  642         & SZFO         & 61.784       &  959        \\\\\n",
       "\t Rost Krai    & 2011         & 16949.5      & 189.20       & 4275         & UFO          & 47.231       &  954        \\\\\n",
       "\t Dagestan     & 2011         & 11235.8      & 182.85       & 2914         & SKFO         & 42.976       & 1587        \\\\\n",
       "\t Tatarstan    & 2011         & 20009.4      & 199.08       & 3787         & PFO          & 55.788       &  842        \\\\\n",
       "\t Kugran       & 2011         & 14833.1      & 222.13       &  908         & YrFO         & 55.450       & 1729        \\\\\n",
       "\t Altai        & 2011         & 15632.4      & 205.62       &  206         & SFO          & 48.302       & 2925        \\\\\n",
       "\t Jakutia      & 2011         & 34051.5      & 270.09       &  958         & DVFO         & 62.033       & 4883        \\\\\n",
       "\t Belg obl     & 2012         & 20002.1      & 223.17       & 1536         & CFO          & 50.610       &  578        \\\\\n",
       "\t Resp Karelia & 2012         & 24795.8      & 228.02       &  639         & SZFO         & 61.784       &  959        \\\\\n",
       "\t Rost Krai    & 2012         & 19189.4      & 214.30       & 4260         & UFO          & 47.231       &  954        \\\\\n",
       "\t Dagestan     & 2012         & 13659.6      & 229.72       & 2930         & SKFO         & 42.976       & 1587        \\\\\n",
       "\t Tatarstan    & 2012         & 23233.7      & 226.26       & 3803         & PFO          & 55.788       &  842        \\\\\n",
       "\t Kugran       & 2012         & 17180.3      & 246.06       &  896         & YrFO         & 55.450       & 1729        \\\\\n",
       "\t Altai        & 2012         & 18264.6      & 222.40       &  208         & SFO          & 48.302       & 2925        \\\\\n",
       "\t Jakutia      & 2012         & 39915.6      & 291.18       &  955         & DVFO         & 62.033       & 4883        \\\\\n",
       "\\end{tabular}\n"
      ],
      "text/markdown": [
       "\n",
       "| City | Year | Zp | Price | Population | FO | Latitude | D_to_Moscow |\n",
       "|---|---|---|---|---|---|---|---|\n",
       "| Belg obl     | 2003         |  4468.6      |  76.09       | 1511         | CFO          | 50.610       |  578         |\n",
       "| Resp Karelia | 2003         |  5692.0      |  74.30       |  715         | SZFO         | 61.784       |  959         |\n",
       "| Rost Krai    | 2003         |  3806.1      |  74.20       | 4396         | UFO          | 47.231       |  954         |\n",
       "| Dagestan     | 2003         |  2409.2      |  71.23       | 2581         | SKFO         | 42.976       | 1587         |\n",
       "| Tatarstan    | 2003         |  4530.0      |  81.20       | 3777         | PFO          | 55.788       |  842         |\n",
       "| Kugran       | 2003         |  3664.6      |  84.92       | 1016         | YrFO         | 55.450       | 1729         |\n",
       "| Altai        | 2003         |  3147.5      |  87.31       |  203         | SFO          | 48.302       | 2925         |\n",
       "| Jakutia      | 2003         |  9697.4      |  93.76       |  948         | DVFO         | 62.033       | 4883         |\n",
       "| Belg obl     | 2004         |  5284.4      |  80.82       | 1513         | CFO          | 50.610       |  578         |\n",
       "| Resp Karelia | 2004         |  6935.1      |  80.55       |  708         | SZFO         | 61.784       |  959         |\n",
       "| Rost Krai    | 2004         |  4797.5      |  74.23       | 4365         | UFO          | 47.231       |  954         |\n",
       "| Dagestan     | 2004         |  3000.1      |  73.21       | 2581         | SKFO         | 42.976       | 1587         |\n",
       "| Tatarstan    | 2004         |  5452.8      |  83.20       | 3772         | PFO          | 55.788       |  842         |\n",
       "| Kugran       | 2004         |  4538.4      |  90.87       | 1003         | YrFO         | 55.450       | 1729         |\n",
       "| Altai        | 2004         |  4549.9      |  90.07       |  203         | SFO          | 48.302       | 2925         |\n",
       "| Jakutia      | 2004         | 11315.3      | 101.12       |  948         | DVFO         | 62.033       | 4883         |\n",
       "| Belg obl     | 2005         |  6775.4      |  99.32       | 1511         | CFO          | 50.610       |  578         |\n",
       "| Resp Karelia | 2005         |  8730.3      | 104.91       |  703         | SZFO         | 61.784       |  959         |\n",
       "| Rost Krai    | 2005         |  5944.7      |  98.82       | 4334         | UFO          | 47.231       |  954         |\n",
       "| Dagestan     | 2005         |  3659.8      |  97.22       | 2621         | SKFO         | 42.976       | 1587         |\n",
       "| Tatarstan    | 2005         |  7067.8      | 107.20       | 3768         | PFO          | 55.788       |  842         |\n",
       "| Kugran       | 2005         |  5691.5      | 110.58       |  992         | YrFO         | 55.450       | 1729         |\n",
       "| Altai        | 2005         |  5736.1      | 111.65       |  203         | SFO          | 48.302       | 2925         |\n",
       "| Jakutia      | 2005         | 13436.9      | 122.30       |  950         | DVFO         | 62.033       | 4883         |\n",
       "| Belg obl     | 2006         |  8336.9      | 113.80       | 1511         | CFO          | 50.610       |  578         |\n",
       "| Resp Karelia | 2006         | 10697.4      | 120.09       |  697         | SZFO         | 61.784       |  959         |\n",
       "| Rost Krai    | 2006         |  7568.9      | 119.17       | 4303         | UFO          | 47.231       |  954         |\n",
       "| Dagestan     | 2006         |  4540.0      | 118.11       | 2640         | SKFO         | 42.976       | 1587         |\n",
       "| Tatarstan    | 2006         |  8849.9      | 124.24       | 3761         | PFO          | 55.788       |  842         |\n",
       "| Kugran       | 2006         |  7295.6      | 129.50       |  979         | YrFO         | 55.450       | 1729         |\n",
       "| ... | ... | ... | ... | ... | ... | ... | ... |\n",
       "| Rost Krai    | 2009         | 13882.5      | 164.15       | 4241         | UFO          | 47.231       |  954         |\n",
       "| Dagestan     | 2009         |  9125.3      | 163.43       | 2711         | SKFO         | 42.976       | 1587         |\n",
       "| Tatarstan    | 2009         | 15206.9      | 172.79       | 3768         | PFO          | 55.788       |  842         |\n",
       "| Kugran       | 2009         | 11942.0      | 183.74       |  952         | YrFO         | 55.450       | 1729         |\n",
       "| Altai        | 2009         | 13075.4      | 182.90       |  209         | SFO          | 48.302       | 2925         |\n",
       "| Jakutia      | 2009         | 26532.6      | 230.56       |  949         | DVFO         | 62.033       | 4883         |\n",
       "| Belg obl     | 2010         | 15938.4      | 182.86       | 1532         | CFO          | 50.610       |  578         |\n",
       "| Resp Karelia | 2010         | 20056.0      | 186.95       |  643         | SZFO         | 61.784       |  959         |\n",
       "| Rost Krai    | 2010         | 15243.9      | 174.50       | 4277         | UFO          | 47.231       |  954         |\n",
       "| Dagestan     | 2010         | 10243.5      | 168.99       | 2910         | SKFO         | 42.976       | 1587         |\n",
       "| Tatarstan    | 2010         | 17350.1      | 182.83       | 3786         | PFO          | 55.788       |  842         |\n",
       "| Kugran       | 2010         | 13227.9      | 206.11       |  910         | YrFO         | 55.450       | 1729         |\n",
       "| Altai        | 2010         | 14235.8      | 192.65       |  206         | SFO          | 48.302       | 2925         |\n",
       "| Jakutia      | 2010         | 28708.0      | 248.86       |  958         | DVFO         | 62.033       | 4883         |\n",
       "| Belg obl     | 2011         | 17667.6      | 197.23       | 1532         | CFO          | 50.610       |  578         |\n",
       "| Resp Karelia | 2011         | 22173.9      | 208.89       |  642         | SZFO         | 61.784       |  959         |\n",
       "| Rost Krai    | 2011         | 16949.5      | 189.20       | 4275         | UFO          | 47.231       |  954         |\n",
       "| Dagestan     | 2011         | 11235.8      | 182.85       | 2914         | SKFO         | 42.976       | 1587         |\n",
       "| Tatarstan    | 2011         | 20009.4      | 199.08       | 3787         | PFO          | 55.788       |  842         |\n",
       "| Kugran       | 2011         | 14833.1      | 222.13       |  908         | YrFO         | 55.450       | 1729         |\n",
       "| Altai        | 2011         | 15632.4      | 205.62       |  206         | SFO          | 48.302       | 2925         |\n",
       "| Jakutia      | 2011         | 34051.5      | 270.09       |  958         | DVFO         | 62.033       | 4883         |\n",
       "| Belg obl     | 2012         | 20002.1      | 223.17       | 1536         | CFO          | 50.610       |  578         |\n",
       "| Resp Karelia | 2012         | 24795.8      | 228.02       |  639         | SZFO         | 61.784       |  959         |\n",
       "| Rost Krai    | 2012         | 19189.4      | 214.30       | 4260         | UFO          | 47.231       |  954         |\n",
       "| Dagestan     | 2012         | 13659.6      | 229.72       | 2930         | SKFO         | 42.976       | 1587         |\n",
       "| Tatarstan    | 2012         | 23233.7      | 226.26       | 3803         | PFO          | 55.788       |  842         |\n",
       "| Kugran       | 2012         | 17180.3      | 246.06       |  896         | YrFO         | 55.450       | 1729         |\n",
       "| Altai        | 2012         | 18264.6      | 222.40       |  208         | SFO          | 48.302       | 2925         |\n",
       "| Jakutia      | 2012         | 39915.6      | 291.18       |  955         | DVFO         | 62.033       | 4883         |\n",
       "\n"
      ],
      "text/plain": [
       "    City         Year Zp      Price  Population FO   Latitude D_to_Moscow\n",
       "1   Belg obl     2003  4468.6  76.09 1511       CFO  50.610    578       \n",
       "2   Resp Karelia 2003  5692.0  74.30  715       SZFO 61.784    959       \n",
       "3   Rost Krai    2003  3806.1  74.20 4396       UFO  47.231    954       \n",
       "4   Dagestan     2003  2409.2  71.23 2581       SKFO 42.976   1587       \n",
       "5   Tatarstan    2003  4530.0  81.20 3777       PFO  55.788    842       \n",
       "6   Kugran       2003  3664.6  84.92 1016       YrFO 55.450   1729       \n",
       "7   Altai        2003  3147.5  87.31  203       SFO  48.302   2925       \n",
       "8   Jakutia      2003  9697.4  93.76  948       DVFO 62.033   4883       \n",
       "9   Belg obl     2004  5284.4  80.82 1513       CFO  50.610    578       \n",
       "10  Resp Karelia 2004  6935.1  80.55  708       SZFO 61.784    959       \n",
       "11  Rost Krai    2004  4797.5  74.23 4365       UFO  47.231    954       \n",
       "12  Dagestan     2004  3000.1  73.21 2581       SKFO 42.976   1587       \n",
       "13  Tatarstan    2004  5452.8  83.20 3772       PFO  55.788    842       \n",
       "14  Kugran       2004  4538.4  90.87 1003       YrFO 55.450   1729       \n",
       "15  Altai        2004  4549.9  90.07  203       SFO  48.302   2925       \n",
       "16  Jakutia      2004 11315.3 101.12  948       DVFO 62.033   4883       \n",
       "17  Belg obl     2005  6775.4  99.32 1511       CFO  50.610    578       \n",
       "18  Resp Karelia 2005  8730.3 104.91  703       SZFO 61.784    959       \n",
       "19  Rost Krai    2005  5944.7  98.82 4334       UFO  47.231    954       \n",
       "20  Dagestan     2005  3659.8  97.22 2621       SKFO 42.976   1587       \n",
       "21  Tatarstan    2005  7067.8 107.20 3768       PFO  55.788    842       \n",
       "22  Kugran       2005  5691.5 110.58  992       YrFO 55.450   1729       \n",
       "23  Altai        2005  5736.1 111.65  203       SFO  48.302   2925       \n",
       "24  Jakutia      2005 13436.9 122.30  950       DVFO 62.033   4883       \n",
       "25  Belg obl     2006  8336.9 113.80 1511       CFO  50.610    578       \n",
       "26  Resp Karelia 2006 10697.4 120.09  697       SZFO 61.784    959       \n",
       "27  Rost Krai    2006  7568.9 119.17 4303       UFO  47.231    954       \n",
       "28  Dagestan     2006  4540.0 118.11 2640       SKFO 42.976   1587       \n",
       "29  Tatarstan    2006  8849.9 124.24 3761       PFO  55.788    842       \n",
       "30  Kugran       2006  7295.6 129.50  979       YrFO 55.450   1729       \n",
       "... ...          ...  ...     ...    ...        ...  ...      ...        \n",
       "51  Rost Krai    2009 13882.5 164.15 4241       UFO  47.231    954       \n",
       "52  Dagestan     2009  9125.3 163.43 2711       SKFO 42.976   1587       \n",
       "53  Tatarstan    2009 15206.9 172.79 3768       PFO  55.788    842       \n",
       "54  Kugran       2009 11942.0 183.74  952       YrFO 55.450   1729       \n",
       "55  Altai        2009 13075.4 182.90  209       SFO  48.302   2925       \n",
       "56  Jakutia      2009 26532.6 230.56  949       DVFO 62.033   4883       \n",
       "57  Belg obl     2010 15938.4 182.86 1532       CFO  50.610    578       \n",
       "58  Resp Karelia 2010 20056.0 186.95  643       SZFO 61.784    959       \n",
       "59  Rost Krai    2010 15243.9 174.50 4277       UFO  47.231    954       \n",
       "60  Dagestan     2010 10243.5 168.99 2910       SKFO 42.976   1587       \n",
       "61  Tatarstan    2010 17350.1 182.83 3786       PFO  55.788    842       \n",
       "62  Kugran       2010 13227.9 206.11  910       YrFO 55.450   1729       \n",
       "63  Altai        2010 14235.8 192.65  206       SFO  48.302   2925       \n",
       "64  Jakutia      2010 28708.0 248.86  958       DVFO 62.033   4883       \n",
       "65  Belg obl     2011 17667.6 197.23 1532       CFO  50.610    578       \n",
       "66  Resp Karelia 2011 22173.9 208.89  642       SZFO 61.784    959       \n",
       "67  Rost Krai    2011 16949.5 189.20 4275       UFO  47.231    954       \n",
       "68  Dagestan     2011 11235.8 182.85 2914       SKFO 42.976   1587       \n",
       "69  Tatarstan    2011 20009.4 199.08 3787       PFO  55.788    842       \n",
       "70  Kugran       2011 14833.1 222.13  908       YrFO 55.450   1729       \n",
       "71  Altai        2011 15632.4 205.62  206       SFO  48.302   2925       \n",
       "72  Jakutia      2011 34051.5 270.09  958       DVFO 62.033   4883       \n",
       "73  Belg obl     2012 20002.1 223.17 1536       CFO  50.610    578       \n",
       "74  Resp Karelia 2012 24795.8 228.02  639       SZFO 61.784    959       \n",
       "75  Rost Krai    2012 19189.4 214.30 4260       UFO  47.231    954       \n",
       "76  Dagestan     2012 13659.6 229.72 2930       SKFO 42.976   1587       \n",
       "77  Tatarstan    2012 23233.7 226.26 3803       PFO  55.788    842       \n",
       "78  Kugran       2012 17180.3 246.06  896       YrFO 55.450   1729       \n",
       "79  Altai        2012 18264.6 222.40  208       SFO  48.302   2925       \n",
       "80  Jakutia      2012 39915.6 291.18  955       DVFO 62.033   4883       "
      ]
     },
     "metadata": {},
     "output_type": "display_data"
    }
   ],
   "source": [
    "M"
   ]
  },
  {
   "cell_type": "markdown",
   "id": "e828d219-b28c-46d5-802d-9f4fc16250b6",
   "metadata": {},
   "source": [
    "Проведем корелляционный анализ числовых переменных таблицы M:"
   ]
  },
  {
   "cell_type": "code",
   "execution_count": 3,
   "id": "dfd794a0-c7e6-4a48-9317-8249113a9f85",
   "metadata": {
    "tags": []
   },
   "outputs": [
    {
     "data": {
      "text/html": [
       "<table>\n",
       "<thead><tr><th></th><th scope=col>M.Zp</th><th scope=col>M.Price</th><th scope=col>M.Population</th><th scope=col>M.Latitude</th><th scope=col>M.D_to_Moscow</th><th scope=col>M.Year</th></tr></thead>\n",
       "<tbody>\n",
       "\t<tr><th scope=row>M.Zp</th><td> 1.0000000  </td><td> 0.8833677  </td><td>-0.156743550</td><td> 0.4753417  </td><td> 0.3718151  </td><td>0.769416398 </td></tr>\n",
       "\t<tr><th scope=row>M.Price</th><td> 0.8833677  </td><td> 1.0000000  </td><td>-0.141138590</td><td> 0.1832079  </td><td> 0.2463823  </td><td>0.943050809 </td></tr>\n",
       "\t<tr><th scope=row>M.Population</th><td>-0.1567436  </td><td>-0.1411386  </td><td> 1.000000000</td><td>-0.4012902  </td><td>-0.4713969  </td><td>0.003549769 </td></tr>\n",
       "\t<tr><th scope=row>M.Latitude</th><td> 0.4753417  </td><td> 0.1832079  </td><td>-0.401290239</td><td> 1.0000000  </td><td> 0.3182312  </td><td>0.000000000 </td></tr>\n",
       "\t<tr><th scope=row>M.D_to_Moscow</th><td> 0.3718151  </td><td> 0.2463823  </td><td>-0.471396888</td><td> 0.3182312  </td><td> 1.0000000  </td><td>0.000000000 </td></tr>\n",
       "\t<tr><th scope=row>M.Year</th><td> 0.7694164  </td><td> 0.9430508  </td><td> 0.003549769</td><td> 0.0000000  </td><td> 0.0000000  </td><td>1.000000000 </td></tr>\n",
       "</tbody>\n",
       "</table>\n"
      ],
      "text/latex": [
       "\\begin{tabular}{r|llllll}\n",
       "  & M.Zp & M.Price & M.Population & M.Latitude & M.D\\_to\\_Moscow & M.Year\\\\\n",
       "\\hline\n",
       "\tM.Zp &  1.0000000   &  0.8833677   & -0.156743550 &  0.4753417   &  0.3718151   & 0.769416398 \\\\\n",
       "\tM.Price &  0.8833677   &  1.0000000   & -0.141138590 &  0.1832079   &  0.2463823   & 0.943050809 \\\\\n",
       "\tM.Population & -0.1567436   & -0.1411386   &  1.000000000 & -0.4012902   & -0.4713969   & 0.003549769 \\\\\n",
       "\tM.Latitude &  0.4753417   &  0.1832079   & -0.401290239 &  1.0000000   &  0.3182312   & 0.000000000 \\\\\n",
       "\tM.D\\_to\\_Moscow &  0.3718151   &  0.2463823   & -0.471396888 &  0.3182312   &  1.0000000   & 0.000000000 \\\\\n",
       "\tM.Year &  0.7694164   &  0.9430508   &  0.003549769 &  0.0000000   &  0.0000000   & 1.000000000 \\\\\n",
       "\\end{tabular}\n"
      ],
      "text/markdown": [
       "\n",
       "| <!--/--> | M.Zp | M.Price | M.Population | M.Latitude | M.D_to_Moscow | M.Year |\n",
       "|---|---|---|---|---|---|---|\n",
       "| M.Zp |  1.0000000   |  0.8833677   | -0.156743550 |  0.4753417   |  0.3718151   | 0.769416398  |\n",
       "| M.Price |  0.8833677   |  1.0000000   | -0.141138590 |  0.1832079   |  0.2463823   | 0.943050809  |\n",
       "| M.Population | -0.1567436   | -0.1411386   |  1.000000000 | -0.4012902   | -0.4713969   | 0.003549769  |\n",
       "| M.Latitude |  0.4753417   |  0.1832079   | -0.401290239 |  1.0000000   |  0.3182312   | 0.000000000  |\n",
       "| M.D_to_Moscow |  0.3718151   |  0.2463823   | -0.471396888 |  0.3182312   |  1.0000000   | 0.000000000  |\n",
       "| M.Year |  0.7694164   |  0.9430508   |  0.003549769 |  0.0000000   |  0.0000000   | 1.000000000  |\n",
       "\n"
      ],
      "text/plain": [
       "              M.Zp       M.Price    M.Population M.Latitude M.D_to_Moscow\n",
       "M.Zp           1.0000000  0.8833677 -0.156743550  0.4753417  0.3718151   \n",
       "M.Price        0.8833677  1.0000000 -0.141138590  0.1832079  0.2463823   \n",
       "M.Population  -0.1567436 -0.1411386  1.000000000 -0.4012902 -0.4713969   \n",
       "M.Latitude     0.4753417  0.1832079 -0.401290239  1.0000000  0.3182312   \n",
       "M.D_to_Moscow  0.3718151  0.2463823 -0.471396888  0.3182312  1.0000000   \n",
       "M.Year         0.7694164  0.9430508  0.003549769  0.0000000  0.0000000   \n",
       "              M.Year     \n",
       "M.Zp          0.769416398\n",
       "M.Price       0.943050809\n",
       "M.Population  0.003549769\n",
       "M.Latitude    0.000000000\n",
       "M.D_to_Moscow 0.000000000\n",
       "M.Year        1.000000000"
      ]
     },
     "metadata": {},
     "output_type": "display_data"
    }
   ],
   "source": [
    "cor(data.frame(M$Zp, M$Price, M$Population, M$Latitude, M$D_to_Moscow, M$Year))"
   ]
  },
  {
   "cell_type": "markdown",
   "id": "ff4cc7a4-4f92-4975-b0fc-7f71ee6f064e",
   "metadata": {},
   "source": [
    "Наблюдается сильная корелляция между ценой на фарш и заработной платой, остальные факторы слабо связаны с ценой. Построим диаграмму рассеяния для цен на фарш и среднедушевых доходов."
   ]
  },
  {
   "cell_type": "code",
   "execution_count": 4,
   "id": "17469f4b-310b-4baa-80ed-0b57d3f05a8e",
   "metadata": {
    "tags": []
   },
   "outputs": [
    {
     "data": {
      "text/plain": [
       "\n",
       "Call:\n",
       "lm(formula = M$Price ~ M$Zp)\n",
       "\n",
       "Residuals:\n",
       "    Min      1Q  Median      3Q     Max \n",
       "-44.702 -18.587  -3.012  13.250  72.147 \n",
       "\n",
       "Coefficients:\n",
       "             Estimate Std. Error t value Pr(>|t|)    \n",
       "(Intercept) 6.923e+01  5.604e+00   12.35   <2e-16 ***\n",
       "M$Zp        6.468e-03  3.885e-04   16.65   <2e-16 ***\n",
       "---\n",
       "Signif. codes:  0 '***' 0.001 '**' 0.01 '*' 0.05 '.' 0.1 ' ' 1\n",
       "\n",
       "Residual standard error: 25.2 on 78 degrees of freedom\n",
       "Multiple R-squared:  0.7803,\tAdjusted R-squared:  0.7775 \n",
       "F-statistic: 277.1 on 1 and 78 DF,  p-value: < 2.2e-16\n"
      ]
     },
     "metadata": {},
     "output_type": "display_data"
    },
    {
     "data": {
      "image/png": "[encoded data removed]",
      "text/plain": [
       "Plot with title \"Диаграмма рассеяния\""
      ]
     },
     "metadata": {},
     "output_type": "display_data"
    },
    {
     "name": "stderr",
     "output_type": "stream",
     "text": [
      "Warning message:\n",
      "\"package 'forecast' was built under R version 3.6.3\"Registered S3 method overwritten by 'quantmod':\n",
      "  method            from\n",
      "  as.zoo.data.frame zoo \n"
     ]
    },
    {
     "data": {
      "text/html": [
       "<table>\n",
       "<thead><tr><th></th><th scope=col>ME</th><th scope=col>RMSE</th><th scope=col>MAE</th><th scope=col>MPE</th><th scope=col>MAPE</th><th scope=col>MASE</th></tr></thead>\n",
       "<tbody>\n",
       "\t<tr><th scope=row>Training set</th><td>-3.537101e-16</td><td>24.88017     </td><td>19.83502     </td><td>-3.532064    </td><td>14.368       </td><td>0.4410913    </td></tr>\n",
       "</tbody>\n",
       "</table>\n"
      ],
      "text/latex": [
       "\\begin{tabular}{r|llllll}\n",
       "  & ME & RMSE & MAE & MPE & MAPE & MASE\\\\\n",
       "\\hline\n",
       "\tTraining set & -3.537101e-16 & 24.88017      & 19.83502      & -3.532064     & 14.368        & 0.4410913    \\\\\n",
       "\\end{tabular}\n"
      ],
      "text/markdown": [
       "\n",
       "| <!--/--> | ME | RMSE | MAE | MPE | MAPE | MASE |\n",
       "|---|---|---|---|---|---|---|\n",
       "| Training set | -3.537101e-16 | 24.88017      | 19.83502      | -3.532064     | 14.368        | 0.4410913     |\n",
       "\n"
      ],
      "text/plain": [
       "             ME            RMSE     MAE      MPE       MAPE   MASE     \n",
       "Training set -3.537101e-16 24.88017 19.83502 -3.532064 14.368 0.4410913"
      ]
     },
     "metadata": {},
     "output_type": "display_data"
    },
    {
     "data": {
      "image/png": "[encoded data removed]",
      "text/plain": [
       "Plot with title \"Остатки\""
      ]
     },
     "metadata": {},
     "output_type": "display_data"
    }
   ],
   "source": [
    "plot(x = M$Zp, y = M$Price, main = 'Диаграмма рассеяния',\n",
    "    ylab = 'Цена на фарш', xlab = 'Заработная плата')\n",
    "M <- M[order(M$Zp), ]\n",
    "reg1 <- lm(M$Price ~ M$Zp)\n",
    "summary(reg1)\n",
    "abline(reg1)\n",
    "plot(residuals(reg1), main = 'Остатки')\n",
    "abline(h = 0, col = 'red')\n",
    "library('forecast')\n",
    "accuracy(reg1)"
   ]
  },
  {
   "cell_type": "markdown",
   "id": "eba87985-81ce-4e09-b1e3-ed5b6a19e0cc",
   "metadata": {},
   "source": [
    "Построим регрессию для цен на фарш и географическую широту. А также расстояния до Москвы, численность населения и год."
   ]
  },
  {
   "cell_type": "code",
   "execution_count": 5,
   "id": "45fc1855-c0a0-4143-b67a-3adf60bbd5ab",
   "metadata": {
    "tags": []
   },
   "outputs": [
    {
     "data": {
      "text/plain": [
       "\n",
       "Call:\n",
       "lm(formula = M$Price ~ M$D_to_Moscow)\n",
       "\n",
       "Residuals:\n",
       "    Min      1Q  Median      3Q     Max \n",
       "-85.840 -39.711  -8.019  42.927 111.580 \n",
       "\n",
       "Coefficients:\n",
       "               Estimate Std. Error t value Pr(>|t|)    \n",
       "(Intercept)   1.324e+02  9.718e+00  13.626   <2e-16 ***\n",
       "M$D_to_Moscow 9.664e-03  4.304e-03   2.245   0.0276 *  \n",
       "---\n",
       "Signif. codes:  0 '***' 0.001 '**' 0.01 '*' 0.05 '.' 0.1 ' ' 1\n",
       "\n",
       "Residual standard error: 52.1 on 78 degrees of freedom\n",
       "Multiple R-squared:  0.0607,\tAdjusted R-squared:  0.04866 \n",
       "F-statistic: 5.041 on 1 and 78 DF,  p-value: 0.02759\n"
      ]
     },
     "metadata": {},
     "output_type": "display_data"
    },
    {
     "data": {
      "image/png": "[encoded data removed]",
      "text/plain": [
       "Plot with title \"Диаграмма рассеяния\""
      ]
     },
     "metadata": {},
     "output_type": "display_data"
    },
    {
     "data": {
      "text/html": [
       "<table>\n",
       "<thead><tr><th></th><th scope=col>ME</th><th scope=col>RMSE</th><th scope=col>MAE</th><th scope=col>MPE</th><th scope=col>MAPE</th><th scope=col>MASE</th></tr></thead>\n",
       "<tbody>\n",
       "\t<tr><th scope=row>Training set</th><td>0        </td><td>51.44908 </td><td>43.95416 </td><td>-13.43771</td><td>34.14022 </td><td>0.9774531</td></tr>\n",
       "</tbody>\n",
       "</table>\n"
      ],
      "text/latex": [
       "\\begin{tabular}{r|llllll}\n",
       "  & ME & RMSE & MAE & MPE & MAPE & MASE\\\\\n",
       "\\hline\n",
       "\tTraining set & 0         & 51.44908  & 43.95416  & -13.43771 & 34.14022  & 0.9774531\\\\\n",
       "\\end{tabular}\n"
      ],
      "text/markdown": [
       "\n",
       "| <!--/--> | ME | RMSE | MAE | MPE | MAPE | MASE |\n",
       "|---|---|---|---|---|---|---|\n",
       "| Training set | 0         | 51.44908  | 43.95416  | -13.43771 | 34.14022  | 0.9774531 |\n",
       "\n"
      ],
      "text/plain": [
       "             ME RMSE     MAE      MPE       MAPE     MASE     \n",
       "Training set 0  51.44908 43.95416 -13.43771 34.14022 0.9774531"
      ]
     },
     "metadata": {},
     "output_type": "display_data"
    },
    {
     "data": {
      "image/png": "[encoded data removed]",
      "text/plain": [
       "Plot with title \"Остатки\""
      ]
     },
     "metadata": {},
     "output_type": "display_data"
    }
   ],
   "source": [
    "plot(x = M$D_to_Moscow, y = M$Price, main = 'Диаграмма рассеяния',\n",
    "    ylab = 'Цена на фарш', xlab = 'Расстояние до Москвы')\n",
    "M <- M[order(M$D_to_Moscow), ]\n",
    "reg1 <- lm(M$Price ~ M$D_to_Moscow)\n",
    "summary(reg1)\n",
    "abline(reg1)\n",
    "plot(residuals(reg1), main = 'Остатки')\n",
    "abline(h = 0, col = 'red')\n",
    "library('forecast')\n",
    "accuracy(reg1)"
   ]
  },
  {
   "cell_type": "code",
   "execution_count": 6,
   "id": "86fb9b75-0bd3-4394-b6a5-e968a0e254cb",
   "metadata": {
    "tags": []
   },
   "outputs": [
    {
     "data": {
      "text/plain": [
       "\n",
       "Call:\n",
       "lm(formula = M$Price ~ M$Year)\n",
       "\n",
       "Residuals:\n",
       "    Min      1Q  Median      3Q     Max \n",
       "-29.960 -10.597  -3.025   5.453  62.872 \n",
       "\n",
       "Coefficients:\n",
       "              Estimate Std. Error t value Pr(>|t|)    \n",
       "(Intercept) -3.484e+04  1.397e+03  -24.93   <2e-16 ***\n",
       "M$Year       1.743e+01  6.961e-01   25.04   <2e-16 ***\n",
       "---\n",
       "Signif. codes:  0 '***' 0.001 '**' 0.01 '*' 0.05 '.' 0.1 ' ' 1\n",
       "\n",
       "Residual standard error: 17.88 on 78 degrees of freedom\n",
       "Multiple R-squared:  0.8893,\tAdjusted R-squared:  0.8879 \n",
       "F-statistic: 626.9 on 1 and 78 DF,  p-value: < 2.2e-16\n"
      ]
     },
     "metadata": {},
     "output_type": "display_data"
    },
    {
     "data": {
      "image/png": "[encoded data removed]",
      "text/plain": [
       "Plot with title \"Диаграмма рассеяния\""
      ]
     },
     "metadata": {},
     "output_type": "display_data"
    },
    {
     "data": {
      "text/html": [
       "<table>\n",
       "<thead><tr><th></th><th scope=col>ME</th><th scope=col>RMSE</th><th scope=col>MAE</th><th scope=col>MPE</th><th scope=col>MAPE</th><th scope=col>MASE</th></tr></thead>\n",
       "<tbody>\n",
       "\t<tr><th scope=row>Training set</th><td>-1.774188e-16</td><td>17.65884     </td><td>12.27123     </td><td>-0.8265229   </td><td>8.198957     </td><td>0.2728878    </td></tr>\n",
       "</tbody>\n",
       "</table>\n"
      ],
      "text/latex": [
       "\\begin{tabular}{r|llllll}\n",
       "  & ME & RMSE & MAE & MPE & MAPE & MASE\\\\\n",
       "\\hline\n",
       "\tTraining set & -1.774188e-16 & 17.65884      & 12.27123      & -0.8265229    & 8.198957      & 0.2728878    \\\\\n",
       "\\end{tabular}\n"
      ],
      "text/markdown": [
       "\n",
       "| <!--/--> | ME | RMSE | MAE | MPE | MAPE | MASE |\n",
       "|---|---|---|---|---|---|---|\n",
       "| Training set | -1.774188e-16 | 17.65884      | 12.27123      | -0.8265229    | 8.198957      | 0.2728878     |\n",
       "\n"
      ],
      "text/plain": [
       "             ME            RMSE     MAE      MPE        MAPE     MASE     \n",
       "Training set -1.774188e-16 17.65884 12.27123 -0.8265229 8.198957 0.2728878"
      ]
     },
     "metadata": {},
     "output_type": "display_data"
    },
    {
     "data": {
      "image/png": "[encoded data removed]",
      "text/plain": [
       "Plot with title \"Остатки\""
      ]
     },
     "metadata": {},
     "output_type": "display_data"
    }
   ],
   "source": [
    "plot(x = M$Year, y = M$Price, main = 'Диаграмма рассеяния',\n",
    "    ylab = 'Цена на фарш', xlab = 'Год')\n",
    "M <- M[order(M$Year), ]\n",
    "reg1 <- lm(M$Price ~ M$Year)\n",
    "summary(reg1)\n",
    "abline(reg1)\n",
    "plot(residuals(reg1), main = 'Остатки')\n",
    "abline(h = 0, col = 'red')\n",
    "library('forecast')\n",
    "accuracy(reg1)"
   ]
  },
  {
   "cell_type": "code",
   "execution_count": 7,
   "id": "d7826a3a-0ba7-4567-840a-bab7815007ad",
   "metadata": {
    "tags": []
   },
   "outputs": [
    {
     "data": {
      "text/plain": [
       "\n",
       "Call:\n",
       "lm(formula = M$Price ~ M$Latitude)\n",
       "\n",
       "Residuals:\n",
       "    Min      1Q  Median      3Q     Max \n",
       "-88.763 -42.956  -7.513  41.356 127.742 \n",
       "\n",
       "Coefficients:\n",
       "            Estimate Std. Error t value Pr(>|t|)\n",
       "(Intercept)  70.0759    48.8424   1.435    0.155\n",
       "M$Latitude    1.5050     0.9144   1.646    0.104\n",
       "\n",
       "Residual standard error: 52.85 on 78 degrees of freedom\n",
       "Multiple R-squared:  0.03357,\tAdjusted R-squared:  0.02117 \n",
       "F-statistic: 2.709 on 1 and 78 DF,  p-value: 0.1038\n"
      ]
     },
     "metadata": {},
     "output_type": "display_data"
    },
    {
     "data": {
      "image/png": "[encoded data removed]",
      "text/plain": [
       "Plot with title \"Диаграмма рассеяния\""
      ]
     },
     "metadata": {},
     "output_type": "display_data"
    },
    {
     "data": {
      "text/html": [
       "<table>\n",
       "<thead><tr><th></th><th scope=col>ME</th><th scope=col>RMSE</th><th scope=col>MAE</th><th scope=col>MPE</th><th scope=col>MAPE</th><th scope=col>MASE</th></tr></thead>\n",
       "<tbody>\n",
       "\t<tr><th scope=row>Training set</th><td>-7.110632e-16</td><td>52.18705     </td><td>44.43985     </td><td>-13.75287    </td><td>34.5789      </td><td>0.988254     </td></tr>\n",
       "</tbody>\n",
       "</table>\n"
      ],
      "text/latex": [
       "\\begin{tabular}{r|llllll}\n",
       "  & ME & RMSE & MAE & MPE & MAPE & MASE\\\\\n",
       "\\hline\n",
       "\tTraining set & -7.110632e-16 & 52.18705      & 44.43985      & -13.75287     & 34.5789       & 0.988254     \\\\\n",
       "\\end{tabular}\n"
      ],
      "text/markdown": [
       "\n",
       "| <!--/--> | ME | RMSE | MAE | MPE | MAPE | MASE |\n",
       "|---|---|---|---|---|---|---|\n",
       "| Training set | -7.110632e-16 | 52.18705      | 44.43985      | -13.75287     | 34.5789       | 0.988254      |\n",
       "\n"
      ],
      "text/plain": [
       "             ME            RMSE     MAE      MPE       MAPE    MASE    \n",
       "Training set -7.110632e-16 52.18705 44.43985 -13.75287 34.5789 0.988254"
      ]
     },
     "metadata": {},
     "output_type": "display_data"
    },
    {
     "data": {
      "image/png": "[encoded data removed]",
      "text/plain": [
       "Plot with title \"Остатки\""
      ]
     },
     "metadata": {},
     "output_type": "display_data"
    }
   ],
   "source": [
    "plot(x = M$Latitude, y = M$Price, main = 'Диаграмма рассеяния',\n",
    "    ylab = 'Цена на фарш', xlab = 'Географическая широта')\n",
    "M <- M[order(M$Latitude), ]\n",
    "reg1 <- lm(M$Price ~ M$Latitude)\n",
    "summary(reg1)\n",
    "abline(reg1)\n",
    "plot(residuals(reg1), main = 'Остатки')\n",
    "abline(h = 0, col = 'red')\n",
    "library('forecast')\n",
    "accuracy(reg1)"
   ]
  },
  {
   "cell_type": "code",
   "execution_count": 8,
   "id": "a0f0c9d4-fdb4-43b1-9f26-eddc14acfa15",
   "metadata": {
    "tags": []
   },
   "outputs": [
    {
     "data": {
      "text/plain": [
       "\n",
       "Call:\n",
       "lm(formula = M$Price ~ M$Population)\n",
       "\n",
       "Residuals:\n",
       "    Min      1Q  Median      3Q     Max \n",
       "-81.748 -44.781  -8.523  37.474 136.394 \n",
       "\n",
       "Coefficients:\n",
       "               Estimate Std. Error t value Pr(>|t|)    \n",
       "(Intercept)  159.806887   9.880511  16.174   <2e-16 ***\n",
       "M$Population  -0.005257   0.004175  -1.259    0.212    \n",
       "---\n",
       "Signif. codes:  0 '***' 0.001 '**' 0.01 '*' 0.05 '.' 0.1 ' ' 1\n",
       "\n",
       "Residual standard error: 53.22 on 78 degrees of freedom\n",
       "Multiple R-squared:  0.01992,\tAdjusted R-squared:  0.007355 \n",
       "F-statistic: 1.585 on 1 and 78 DF,  p-value: 0.2117\n"
      ]
     },
     "metadata": {},
     "output_type": "display_data"
    },
    {
     "data": {
      "image/png": "[encoded data removed]",
      "text/plain": [
       "Plot with title \"Диаграмма рассеяния\""
      ]
     },
     "metadata": {},
     "output_type": "display_data"
    },
    {
     "data": {
      "text/html": [
       "<table>\n",
       "<thead><tr><th></th><th scope=col>ME</th><th scope=col>RMSE</th><th scope=col>MAE</th><th scope=col>MPE</th><th scope=col>MAPE</th><th scope=col>MASE</th></tr></thead>\n",
       "<tbody>\n",
       "\t<tr><th scope=row>Training set</th><td>3.197876e-15</td><td>52.55417    </td><td>44.64397    </td><td>-13.88839   </td><td>34.70485    </td><td>0.9927931   </td></tr>\n",
       "</tbody>\n",
       "</table>\n"
      ],
      "text/latex": [
       "\\begin{tabular}{r|llllll}\n",
       "  & ME & RMSE & MAE & MPE & MAPE & MASE\\\\\n",
       "\\hline\n",
       "\tTraining set & 3.197876e-15 & 52.55417     & 44.64397     & -13.88839    & 34.70485     & 0.9927931   \\\\\n",
       "\\end{tabular}\n"
      ],
      "text/markdown": [
       "\n",
       "| <!--/--> | ME | RMSE | MAE | MPE | MAPE | MASE |\n",
       "|---|---|---|---|---|---|---|\n",
       "| Training set | 3.197876e-15 | 52.55417     | 44.64397     | -13.88839    | 34.70485     | 0.9927931    |\n",
       "\n"
      ],
      "text/plain": [
       "             ME           RMSE     MAE      MPE       MAPE     MASE     \n",
       "Training set 3.197876e-15 52.55417 44.64397 -13.88839 34.70485 0.9927931"
      ]
     },
     "metadata": {},
     "output_type": "display_data"
    },
    {
     "data": {
      "image/png": "[encoded data removed]",
      "text/plain": [
       "Plot with title \"Остатки\""
      ]
     },
     "metadata": {},
     "output_type": "display_data"
    }
   ],
   "source": [
    "plot(x = M$Population, y = M$Price, main = 'Диаграмма рассеяния',\n",
    "    ylab = 'Цена на фарш', xlab = 'Численность населения')\n",
    "M <- M[order(M$Population), ]\n",
    "reg1 <- lm(M$Price ~ M$Population)\n",
    "summary(reg1)\n",
    "abline(reg1)\n",
    "plot(residuals(reg1), main = 'Остатки')\n",
    "abline(h = 0, col = 'red')\n",
    "library('forecast')\n",
    "accuracy(reg1)"
   ]
  },
  {
   "cell_type": "markdown",
   "id": "3e6f6681-ff89-445f-bd05-7bf79b66fdb6",
   "metadata": {},
   "source": [
    "Претендентами на основные влияющие факторы на ценообразование фарша - заработная плата и год. Построим множественную регрессию для цен на фарш через заработную плату, численность населения, год, расстояние до Москвы, географическую широту. "
   ]
  },
  {
   "cell_type": "code",
   "execution_count": 9,
   "id": "47fe5ba2-ecba-4668-9434-1d622e0df251",
   "metadata": {
    "tags": []
   },
   "outputs": [
    {
     "data": {
      "text/plain": [
       "\n",
       "Call:\n",
       "lm(formula = M$Price ~ M$Zp + M$Year + M$Population + M$Latitude + \n",
       "    M$D_to_Moscow)\n",
       "\n",
       "Residuals:\n",
       "    Min      1Q  Median      3Q     Max \n",
       "-20.147  -7.007  -1.226   6.289  23.108 \n",
       "\n",
       "Coefficients:\n",
       "                Estimate Std. Error t value Pr(>|t|)    \n",
       "(Intercept)   -2.850e+04  1.972e+03 -14.455  < 2e-16 ***\n",
       "M$Zp           1.637e-03  4.631e-04   3.534  0.00071 ***\n",
       "M$Year         1.425e+01  9.782e-01  14.571  < 2e-16 ***\n",
       "M$Population  -1.310e-03  1.002e-03  -1.308  0.19505    \n",
       "M$Latitude     1.477e-01  2.983e-01   0.495  0.62188    \n",
       "M$D_to_Moscow  5.529e-03  1.212e-03   4.562 1.97e-05 ***\n",
       "---\n",
       "Signif. codes:  0 '***' 0.001 '**' 0.01 '*' 0.05 '.' 0.1 ' ' 1\n",
       "\n",
       "Residual standard error: 9.917 on 74 degrees of freedom\n",
       "Multiple R-squared:  0.9677,\tAdjusted R-squared:  0.9655 \n",
       "F-statistic: 443.7 on 5 and 74 DF,  p-value: < 2.2e-16\n"
      ]
     },
     "metadata": {},
     "output_type": "display_data"
    },
    {
     "data": {
      "text/html": [
       "<table>\n",
       "<thead><tr><th></th><th scope=col>ME</th><th scope=col>RMSE</th><th scope=col>MAE</th><th scope=col>MPE</th><th scope=col>MAPE</th><th scope=col>MASE</th></tr></thead>\n",
       "<tbody>\n",
       "\t<tr><th scope=row>Training set</th><td>-3.553689e-16</td><td>9.537859     </td><td>7.751479     </td><td>-0.04668916  </td><td>5.579188     </td><td>0.1723775    </td></tr>\n",
       "</tbody>\n",
       "</table>\n"
      ],
      "text/latex": [
       "\\begin{tabular}{r|llllll}\n",
       "  & ME & RMSE & MAE & MPE & MAPE & MASE\\\\\n",
       "\\hline\n",
       "\tTraining set & -3.553689e-16 & 9.537859      & 7.751479      & -0.04668916   & 5.579188      & 0.1723775    \\\\\n",
       "\\end{tabular}\n"
      ],
      "text/markdown": [
       "\n",
       "| <!--/--> | ME | RMSE | MAE | MPE | MAPE | MASE |\n",
       "|---|---|---|---|---|---|---|\n",
       "| Training set | -3.553689e-16 | 9.537859      | 7.751479      | -0.04668916   | 5.579188      | 0.1723775     |\n",
       "\n"
      ],
      "text/plain": [
       "             ME            RMSE     MAE      MPE         MAPE     MASE     \n",
       "Training set -3.553689e-16 9.537859 7.751479 -0.04668916 5.579188 0.1723775"
      ]
     },
     "metadata": {},
     "output_type": "display_data"
    },
    {
     "data": {
      "image/png": "[encoded data removed]",
      "text/plain": [
       "Plot with title \"Остатки\""
      ]
     },
     "metadata": {},
     "output_type": "display_data"
    }
   ],
   "source": [
    "reg2 <- lm(M$Price ~ M$Zp + M$Year + M$Population\n",
    "           + M$Latitude + M$D_to_Moscow)\n",
    "summary(reg2)\n",
    "accuracy(reg2)\n",
    "plot(residuals(reg2), main = 'Остатки')\n",
    "abline(h = 0, col = 'red')"
   ]
  },
  {
   "cell_type": "markdown",
   "id": "20ca401a-745c-493b-a9d9-43745bccfe97",
   "metadata": {},
   "source": [
    "* Общее уравнение регрессии:  \n",
    "$$Y_P = -28500 + 0.001637Y_{Zp} + 14.25Y_Y - 0.00131Y_{Pop} + 0.1477Y_{Lat} + 0.005529Y_M$$\n",
    "\n",
    "* Частные уравнения регрессии:\n",
    "\n",
    "$$Y_{i, j} = b_{0} + b_{j}\\overline{Y_{j}} + \\sum_{k \\neq i, j}b_{k}Y_k + \\epsilon$$\n",
    "\n",
    "\n",
    "$$Y_{P, Zp} = -28479.5875 + 14.25Y_Y - 0.00131Y_{Pop} + 0.1477Y_{Lat} + 0.005529Y_M + \\epsilon$$\n",
    "\n",
    "$$Y_{P, Y} = 106.875 + 0.001637Y_{Zp} - 0.00131Y_{Pop} + 0.1477Y_{Lat} + 0.005529Y_M + \\epsilon$$\n",
    "\n",
    "$$Y_{P, Pop}= -28502.4748 + 0.001637Y_{Zp} + 14.25Y_Y + 0.1477Y_{Lat} + 0.005529Y_M + \\epsilon$$\n",
    "\n",
    "$$Y_{P, Lat}= -28492.1687 + 0.001637Y_{Zp} + 14.25Y_Y - 0.00131Y_{Pop} + 0.005529Y_M + \\epsilon$$\n",
    "\n",
    "$$Y_{P, M} = -28400.0841 + 0.001637Y_{Zp} + 14.25Y_Y - 0.00131Y_{Pop} + 0.1477Y_{Lat} + \\epsilon$$"
   ]
  },
  {
   "cell_type": "markdown",
   "id": "9711a06d-7652-442b-8d41-11d109703e10",
   "metadata": {},
   "source": [
    "Графики частных коэффициентов эластичности:"
   ]
  },
  {
   "cell_type": "code",
   "execution_count": 10,
   "id": "86084a6d-05f2-416b-873b-bb3cf97349e7",
   "metadata": {},
   "outputs": [
    {
     "data": {
      "text/html": [
       "25792.6356690962"
      ],
      "text/latex": [
       "25792.6356690962"
      ],
      "text/markdown": [
       "25792.6356690962"
      ],
      "text/plain": [
       "[1] 25792.64"
      ]
     },
     "metadata": {},
     "output_type": "display_data"
    }
   ],
   "source": [
    "Y <- -2850 + 0.001637 * mean(M$Zp) + 14.25 * mean(M$Year) - 0.00131 * mean(M$Population) + 0.1477 * mean(M$Latitude) + 0.005529 * mean(M$D_to_Moscow)\n",
    "Y"
   ]
  },
  {
   "cell_type": "code",
   "execution_count": 11,
   "id": "73b2ab2e-9aa1-4def-b874-766075c3ca44",
   "metadata": {
    "tags": []
   },
   "outputs": [
    {
     "data": {
      "image/png": "[encoded data removed]",
      "text/plain": [
       "plot without title"
      ]
     },
     "metadata": {},
     "output_type": "display_data"
    }
   ],
   "source": [
    "plot(seq(1, 80), 0.001637 * M$Zp / Y,\n",
    "     xlab = 'Observation', ylab = 'Value for elasticity for Zp', type = 'l')"
   ]
  },
  {
   "cell_type": "code",
   "execution_count": 12,
   "id": "984a3c02-14de-4c79-82c2-6a9f38c3ff4e",
   "metadata": {
    "tags": []
   },
   "outputs": [
    {
     "data": {
      "image/png": "[encoded data removed]",
      "text/plain": [
       "plot without title"
      ]
     },
     "metadata": {},
     "output_type": "display_data"
    }
   ],
   "source": [
    "plot(seq(1, 80), 14.24 * M$Year / Y,\n",
    "     xlab = 'Observation', ylab = 'Value for elasticity for year', type = 'l')"
   ]
  },
  {
   "cell_type": "code",
   "execution_count": 13,
   "id": "2c89ea61-cd73-4349-afb9-2e9ccfa6af13",
   "metadata": {
    "tags": []
   },
   "outputs": [
    {
     "data": {
      "image/png": "[encoded data removed]",
      "text/plain": [
       "plot without title"
      ]
     },
     "metadata": {},
     "output_type": "display_data"
    }
   ],
   "source": [
    "plot(seq(1, 80), - 0.00131 * M$Population/Y,\n",
    "     xlab = 'Observation', ylab = 'Value for elasticity for population',\n",
    "     type = 'l')"
   ]
  },
  {
   "cell_type": "code",
   "execution_count": 14,
   "id": "56c02824-f07b-453c-a4ac-dcd00a0e4915",
   "metadata": {
    "tags": []
   },
   "outputs": [
    {
     "data": {
      "image/png": "[encoded data removed]",
      "text/plain": [
       "plot without title"
      ]
     },
     "metadata": {},
     "output_type": "display_data"
    }
   ],
   "source": [
    "plot(seq(1, 80), 0.1477 * M$Latitude/Y,\n",
    "     xlab = 'Observation', ylab = 'Value for elasticity for latitude', type = 'l')"
   ]
  },
  {
   "cell_type": "code",
   "execution_count": 15,
   "id": "931e0f63-efda-433e-8edb-cdcc456e5eca",
   "metadata": {
    "tags": []
   },
   "outputs": [
    {
     "data": {
      "image/png": "[encoded data removed]",
      "text/plain": [
       "plot without title"
      ]
     },
     "metadata": {},
     "output_type": "display_data"
    }
   ],
   "source": [
    "plot(seq(1, 80), 0.005529 * M$D_to_Moscow/Y,\n",
    "     xlab = 'Observation', ylab = 'Value for elasticity for distance to MSK',\n",
    "     type = 'l')"
   ]
  },
  {
   "cell_type": "markdown",
   "id": "929bbd4f-a71a-4c92-b9fd-fca4bab8a0a7",
   "metadata": {},
   "source": [
    "Построим множественную нелинейную регрессию для цен на фарш, заработную плату, численность населения, федерального округа, географической широты и расстояния до москвы. Будем \n",
    "считать, что фактор Федеральный округ влияет на свободный член. Создадим 8 фиктивных переменных и заполним их данными."
   ]
  },
  {
   "cell_type": "markdown",
   "id": "b1af0172-4a01-4602-bbda-3b80b19a3386",
   "metadata": {},
   "source": [
    "Построим множественную регрессию с учетом всех параметров."
   ]
  },
  {
   "cell_type": "markdown",
   "id": "aaf481e5-b2f9-4444-8a69-e8babc320d9a",
   "metadata": {},
   "source": [
    "Фактор ФО оказывает влияние на цену фаршу, но несущественно, как минимум потому, что MAPE показатель модели с ФО уменьшился на ~ 1%."
   ]
  },
  {
   "cell_type": "code",
   "execution_count": 16,
   "id": "ffee9332-0ae5-4e73-8463-c2f9ed3c7284",
   "metadata": {
    "tags": []
   },
   "outputs": [
    {
     "data": {
      "text/plain": [
       "\n",
       "Call:\n",
       "lm(formula = M1$Price ~ M1$Zp + M1$Population + M1$Latitude + \n",
       "    M1$D_to_Moscow + M1$Year + M1$ZUFO + M1$ZSZFO + M1$ZYrFO + \n",
       "    M1$ZPFO + M1$ZSKFO + M1$ZSFO + M1$ZDVFO)\n",
       "\n",
       "Residuals:\n",
       "     Min       1Q   Median       3Q      Max \n",
       "-19.0507  -4.8791   0.0684   5.3544  18.7593 \n",
       "\n",
       "Coefficients: (2 not defined because of singularities)\n",
       "                 Estimate Std. Error t value Pr(>|t|)    \n",
       "(Intercept)    -2.320e+04  2.123e+03 -10.927  < 2e-16 ***\n",
       "M1$Zp           3.166e-03  5.430e-04   5.830 1.62e-07 ***\n",
       "M1$Population   1.440e-02  1.853e-02   0.777 0.439818    \n",
       "M1$Latitude     1.390e+01  5.136e+00   2.706 0.008583 ** \n",
       "M1$D_to_Moscow -3.276e-02  1.217e-02  -2.693 0.008879 ** \n",
       "M1$Year         1.126e+01  1.114e+00  10.108 2.99e-15 ***\n",
       "M1$ZUFO                NA         NA      NA       NA    \n",
       "M1$ZSZFO       -1.363e+02  3.989e+01  -3.416 0.001068 ** \n",
       "M1$ZYrFO        1.654e+01  3.460e+01   0.478 0.634160    \n",
       "M1$ZPFO        -9.584e+01  6.369e+01  -1.505 0.136959    \n",
       "M1$ZSKFO        1.314e+02  3.625e+01   3.625 0.000548 ***\n",
       "M1$ZSFO         1.428e+02  6.296e+01   2.267 0.026497 *  \n",
       "M1$ZDVFO               NA         NA      NA       NA    \n",
       "---\n",
       "Signif. codes:  0 '***' 0.001 '**' 0.01 '*' 0.05 '.' 0.1 ' ' 1\n",
       "\n",
       "Residual standard error: 8.584 on 69 degrees of freedom\n",
       "Multiple R-squared:  0.9774,\tAdjusted R-squared:  0.9742 \n",
       "F-statistic: 299.1 on 10 and 69 DF,  p-value: < 2.2e-16\n"
      ]
     },
     "metadata": {},
     "output_type": "display_data"
    },
    {
     "data": {
      "text/html": [
       "<table>\n",
       "<thead><tr><th></th><th scope=col>ME</th><th scope=col>RMSE</th><th scope=col>MAE</th><th scope=col>MPE</th><th scope=col>MAPE</th><th scope=col>MASE</th></tr></thead>\n",
       "<tbody>\n",
       "\t<tr><th scope=row>Training set</th><td>-1.243287e-15</td><td>7.972053     </td><td>6.201122     </td><td>-0.03998926  </td><td>4.588113     </td><td>0.1379006    </td></tr>\n",
       "</tbody>\n",
       "</table>\n"
      ],
      "text/latex": [
       "\\begin{tabular}{r|llllll}\n",
       "  & ME & RMSE & MAE & MPE & MAPE & MASE\\\\\n",
       "\\hline\n",
       "\tTraining set & -1.243287e-15 & 7.972053      & 6.201122      & -0.03998926   & 4.588113      & 0.1379006    \\\\\n",
       "\\end{tabular}\n"
      ],
      "text/markdown": [
       "\n",
       "| <!--/--> | ME | RMSE | MAE | MPE | MAPE | MASE |\n",
       "|---|---|---|---|---|---|---|\n",
       "| Training set | -1.243287e-15 | 7.972053      | 6.201122      | -0.03998926   | 4.588113      | 0.1379006     |\n",
       "\n"
      ],
      "text/plain": [
       "             ME            RMSE     MAE      MPE         MAPE     MASE     \n",
       "Training set -1.243287e-15 7.972053 6.201122 -0.03998926 4.588113 0.1379006"
      ]
     },
     "metadata": {},
     "output_type": "display_data"
    }
   ],
   "source": [
    "ZCFO<-rep(0, times=length(M$FO))\n",
    "ZUFO<-rep(0, times=length(M$FO))\n",
    "ZSZFO<-rep(0, times=length(M$FO))\n",
    "ZYrFO<-rep(0, times=length(M$FO))\n",
    "ZPFO<-rep(0, times=length(M$FO))\n",
    "ZSKFO<-rep(0, times=length(M$FO))\n",
    "ZSFO<-rep(0, times=length(M$FO))\n",
    "ZDVFO<-rep(0, times=length(M$FO))\n",
    "ZCFO[M$FO==\"CFO\"]<-1\n",
    "ZUFO[M$FO==\"YuFO\"]<-1\n",
    "ZSZFO[M$FO==\"SZFO\"]<-1\n",
    "ZYrFO[M$FO==\"UFO\"]<-1\n",
    "ZPFO[M$FO==\"PFO\"]<-1\n",
    "ZSKFO[M$FO==\"SKFO\"]<-1\n",
    "ZSFO[M$FO==\"SFO\"]<-1\n",
    "ZDVFO[M$FO==\"DVFO\"]<-1\n",
    "M1<-data.frame(M,ZCFO,ZUFO,ZSZFO,ZYrFO,ZPFO,ZSKFO,ZSFO,ZDVFO)\n",
    "rm(ZCFO,ZUFO,ZSZFO,ZYrFO,ZPFO,ZSKFO,ZSFO,ZDVFO)\n",
    "reg4.1<-lm(M1$Price ~ M1$Zp + M1$Population +M1$Latitude + M1$D_to_Moscow + M1$Year + M1$ZUFO + M1$ZSZFO + M1$ZYrFO + M1$ZPFO + M1$ZSKFO + M1$ZSFO + M1$ZDVFO)\n",
    "summary(reg4.1)\n",
    "accuracy(reg4.1)\n",
    "\n",
    "reg4.2<-lm(M$Price ~ M$Zp + M$Year + M$Latitude + M$D_to_Moscow +M$Population)"
   ]
  },
  {
   "cell_type": "markdown",
   "id": "c7373ff6-7291-40c4-a9e2-5ed43efc4d60",
   "metadata": {},
   "source": [
    "Проверка необходимости использования фактора ФО:"
   ]
  },
  {
   "cell_type": "code",
   "execution_count": 17,
   "id": "ce0a8715-174a-4eba-9c95-220c37237280",
   "metadata": {},
   "outputs": [
    {
     "data": {
      "text/html": [
       "3.55906358186074"
      ],
      "text/latex": [
       "3.55906358186074"
      ],
      "text/markdown": [
       "3.55906358186074"
      ],
      "text/plain": [
       "[1] 3.559064"
      ]
     },
     "metadata": {},
     "output_type": "display_data"
    }
   ],
   "source": [
    "Q_s <- sum(residuals(reg4.2)^2) \n",
    "k <- 5\n",
    "q <- 8\n",
    "n <- length(M[,1])\n",
    "Q_l <- sum(residuals(reg4.1)^2)\n",
    "F_Chow <- ((Q_s - Q_l)/q)/(Q_l/(n - k - q - 1))\n",
    "F_crit <- 2.07 # F_cr(8, 66)\n",
    "F_Chow"
   ]
  },
  {
   "cell_type": "markdown",
   "id": "6bf2ed51-ce4e-4be3-a990-5a496582aaed",
   "metadata": {},
   "source": [
    "Фактор ФО имеет смысл."
   ]
  },
  {
   "cell_type": "code",
   "execution_count": 25,
   "id": "ac543d41-9ca7-4205-8b45-1dfad84a0222",
   "metadata": {},
   "outputs": [
    {
     "data": {
      "text/html": [
       "<table>\n",
       "<thead><tr><th></th><th scope=col>ME</th><th scope=col>RMSE</th><th scope=col>MAE</th><th scope=col>MPE</th><th scope=col>MAPE</th><th scope=col>MASE</th></tr></thead>\n",
       "<tbody>\n",
       "\t<tr><th scope=row>Training set</th><td>-1.598678e-15</td><td>7.972053     </td><td>6.201122     </td><td>-0.03998926  </td><td>4.588113     </td><td>0.1379006    </td></tr>\n",
       "</tbody>\n",
       "</table>\n"
      ],
      "text/latex": [
       "\\begin{tabular}{r|llllll}\n",
       "  & ME & RMSE & MAE & MPE & MAPE & MASE\\\\\n",
       "\\hline\n",
       "\tTraining set & -1.598678e-15 & 7.972053      & 6.201122      & -0.03998926   & 4.588113      & 0.1379006    \\\\\n",
       "\\end{tabular}\n"
      ],
      "text/markdown": [
       "\n",
       "| <!--/--> | ME | RMSE | MAE | MPE | MAPE | MASE |\n",
       "|---|---|---|---|---|---|---|\n",
       "| Training set | -1.598678e-15 | 7.972053      | 6.201122      | -0.03998926   | 4.588113      | 0.1379006     |\n",
       "\n"
      ],
      "text/plain": [
       "             ME            RMSE     MAE      MPE         MAPE     MASE     \n",
       "Training set -1.598678e-15 7.972053 6.201122 -0.03998926 4.588113 0.1379006"
      ]
     },
     "metadata": {},
     "output_type": "display_data"
    }
   ],
   "source": [
    "reg4.1 <-lm(Price ~ Zp + Year + Latitude + D_to_Moscow + Population + FO, data = M)\n",
    "accuracy(reg4.1)\n",
    "pred_data <- data.frame(\n",
    "    Year = 2022,\n",
    "    Zp = 49387,  \n",
    "    Population = 715, \n",
    "    FO = 'SZFO',\n",
    "    Latitude = 61.784,\n",
    "    D_to_Moscow = 959\n",
    ")\n"
   ]
  },
  {
   "cell_type": "code",
   "execution_count": 23,
   "id": "216f0ac1-07b5-4be9-87e5-669d81936003",
   "metadata": {
    "collapsed": true,
    "jupyter": {
     "outputs_hidden": true
    },
    "tags": []
   },
   "outputs": [
    {
     "data": {
      "text/html": [
       "<dl class=dl-horizontal>\n",
       "\t<dt>7</dt>\n",
       "\t\t<dd>78.6634827819946</dd>\n",
       "\t<dt>15</dt>\n",
       "\t\t<dd>94.3587752568021</dd>\n",
       "\t<dt>23</dt>\n",
       "\t\t<dd>109.369654417475</dd>\n",
       "\t<dt>31</dt>\n",
       "\t\t<dd>126.027770507941</dd>\n",
       "\t<dt>39</dt>\n",
       "\t\t<dd>142.964780275444</dd>\n",
       "\t<dt>63</dt>\n",
       "\t\t<dd>192.598838335482</dd>\n",
       "\t<dt>71</dt>\n",
       "\t\t<dd>208.27577004608</dd>\n",
       "\t<dt>47</dt>\n",
       "\t\t<dd>161.295141922814</dd>\n",
       "\t<dt>79</dt>\n",
       "\t\t<dd>227.892968012569</dd>\n",
       "\t<dt>55</dt>\n",
       "\t\t<dd>177.71281844346</dd>\n",
       "\t<dt>74</dt>\n",
       "\t\t<dd>227.517520846576</dd>\n",
       "\t<dt>66</dt>\n",
       "\t\t<dd>208.004904938829</dd>\n",
       "\t<dt>58</dt>\n",
       "\t\t<dd>190.058985778237</dd>\n",
       "\t<dt>50</dt>\n",
       "\t\t<dd>174.17527851404</dd>\n",
       "\t<dt>42</dt>\n",
       "\t\t<dd>158.210722007199</dd>\n",
       "\t<dt>34</dt>\n",
       "\t\t<dd>135.757534741937</dd>\n",
       "\t<dt>26</dt>\n",
       "\t\t<dd>116.187137211759</dd>\n",
       "\t<dt>18</dt>\n",
       "\t\t<dd>98.7905737946199</dd>\n",
       "\t<dt>10</dt>\n",
       "\t\t<dd>81.923790266042</dd>\n",
       "\t<dt>2</dt>\n",
       "\t\t<dd>66.8335519008092</dd>\n",
       "\t<dt>78</dt>\n",
       "\t\t<dd>230.123659531414</dd>\n",
       "\t<dt>70</dt>\n",
       "\t\t<dd>211.610203977621</dd>\n",
       "\t<dt>62</dt>\n",
       "\t\t<dd>195.301708234915</dd>\n",
       "\t<dt>8</dt>\n",
       "\t\t<dd>94.0313737752679</dd>\n",
       "\t<dt>16</dt>\n",
       "\t\t<dd>110.408863609903</dd>\n",
       "\t<dt>32</dt>\n",
       "\t\t<dd>148.295193500035</dd>\n",
       "\t<dt>40</dt>\n",
       "\t\t<dd>169.813064183338</dd>\n",
       "\t<dt>56</dt>\n",
       "\t\t<dd>214.874820910922</dd>\n",
       "\t<dt>24</dt>\n",
       "\t\t<dd>128.409681196209</dd>\n",
       "\t<dt>48</dt>\n",
       "\t\t<dd>195.047706303029</dd>\n",
       "\t<dt>54</dt>\n",
       "\t\t<dd>180.579811210583</dd>\n",
       "\t<dt>80</dt>\n",
       "\t\t<dd>291.094431492338</dd>\n",
       "\t<dt>64</dt>\n",
       "\t\t<dd>233.146716637146</dd>\n",
       "\t<dt>72</dt>\n",
       "\t\t<dd>261.318148391854</dd>\n",
       "\t<dt>46</dt>\n",
       "\t\t<dd>167.466353836203</dd>\n",
       "\t<dt>38</dt>\n",
       "\t\t<dd>148.629552821364</dd>\n",
       "\t<dt>30</dt>\n",
       "\t\t<dd>132.492250464421</dd>\n",
       "\t<dt>22</dt>\n",
       "\t\t<dd>116.345583858468</dd>\n",
       "\t<dt>14</dt>\n",
       "\t\t<dd>101.597834602594</dd>\n",
       "\t<dt>6</dt>\n",
       "\t\t<dd>87.7630414624538</dd>\n",
       "\t<dt>1</dt>\n",
       "\t\t<dd>67.8822036632065</dd>\n",
       "\t<dt>17</dt>\n",
       "\t\t<dd>97.6962954100583</dd>\n",
       "\t<dt>25</dt>\n",
       "\t\t<dd>113.895242641005</dd>\n",
       "\t<dt>9</dt>\n",
       "\t\t<dd>81.7493167833284</dd>\n",
       "\t<dt>33</dt>\n",
       "\t\t<dd>131.962538856348</dd>\n",
       "\t<dt>41</dt>\n",
       "\t\t<dd>152.893447045861</dd>\n",
       "\t<dt>49</dt>\n",
       "\t\t<dd>165.984625483099</dd>\n",
       "\t<dt>57</dt>\n",
       "\t\t<dd>183.284367457261</dd>\n",
       "\t<dt>65</dt>\n",
       "\t\t<dd>200.014194025763</dd>\n",
       "\t<dt>73</dt>\n",
       "\t\t<dd>218.717768634107</dd>\n",
       "\t<dt>4</dt>\n",
       "\t\t<dd>69.0199319755983</dd>\n",
       "\t<dt>12</dt>\n",
       "\t\t<dd>82.1463002856679</dd>\n",
       "\t<dt>20</dt>\n",
       "\t\t<dd>96.0662722392278</dd>\n",
       "\t<dt>28</dt>\n",
       "\t\t<dd>110.381971126727</dd>\n",
       "\t<dt>36</dt>\n",
       "\t\t<dd>125.557627093643</dd>\n",
       "\t<dt>44</dt>\n",
       "\t\t<dd>143.241491237242</dd>\n",
       "\t<dt>52</dt>\n",
       "\t\t<dd>159.686837849748</dd>\n",
       "\t<dt>60</dt>\n",
       "\t\t<dd>177.347092664447</dd>\n",
       "\t<dt>68</dt>\n",
       "\t\t<dd>191.801733182949</dd>\n",
       "\t<dt>76</dt>\n",
       "\t\t<dd>210.960742344784</dd>\n",
       "\t<dt>37</dt>\n",
       "\t\t<dd>134.910898693964</dd>\n",
       "\t<dt>29</dt>\n",
       "\t\t<dd>115.379622513411</dd>\n",
       "\t<dt>45</dt>\n",
       "\t\t<dd>157.070745938475</dd>\n",
       "\t<dt>21</dt>\n",
       "\t\t<dd>98.5830993363598</dd>\n",
       "\t<dt>53</dt>\n",
       "\t\t<dd>169.371778384932</dd>\n",
       "\t<dt>13</dt>\n",
       "\t\t<dd>82.2723705830489</dd>\n",
       "\t<dt>5</dt>\n",
       "\t\t<dd>68.167299243398</dd>\n",
       "\t<dt>61</dt>\n",
       "\t\t<dd>187.67129678655</dd>\n",
       "\t<dt>69</dt>\n",
       "\t\t<dd>207.359888666173</dd>\n",
       "\t<dt>77</dt>\n",
       "\t\t<dd>229.052999853727</dd>\n",
       "\t<dt>51</dt>\n",
       "\t\t<dd>161.776759004289</dd>\n",
       "\t<dt>43</dt>\n",
       "\t\t<dd>146.455060528133</dd>\n",
       "\t<dt>75</dt>\n",
       "\t\t<dd>212.61740895697</dd>\n",
       "\t<dt>35</dt>\n",
       "\t\t<dd>126.766281029159</dd>\n",
       "\t<dt>67</dt>\n",
       "\t\t<dd>194.486813065459</dd>\n",
       "\t<dt>59</dt>\n",
       "\t\t<dd>177.860486162997</dd>\n",
       "\t<dt>27</dt>\n",
       "\t\t<dd>108.915259360951</dd>\n",
       "\t<dt>19</dt>\n",
       "\t\t<dd>92.9640763565527</dd>\n",
       "\t<dt>11</dt>\n",
       "\t\t<dd>78.5229079258809</dd>\n",
       "\t<dt>3</dt>\n",
       "\t\t<dd>64.5749476096453</dd>\n",
       "</dl>\n"
      ],
      "text/latex": [
       "\\begin{description*}\n",
       "\\item[7] 78.6634827819946\n",
       "\\item[15] 94.3587752568021\n",
       "\\item[23] 109.369654417475\n",
       "\\item[31] 126.027770507941\n",
       "\\item[39] 142.964780275444\n",
       "\\item[63] 192.598838335482\n",
       "\\item[71] 208.27577004608\n",
       "\\item[47] 161.295141922814\n",
       "\\item[79] 227.892968012569\n",
       "\\item[55] 177.71281844346\n",
       "\\item[74] 227.517520846576\n",
       "\\item[66] 208.004904938829\n",
       "\\item[58] 190.058985778237\n",
       "\\item[50] 174.17527851404\n",
       "\\item[42] 158.210722007199\n",
       "\\item[34] 135.757534741937\n",
       "\\item[26] 116.187137211759\n",
       "\\item[18] 98.7905737946199\n",
       "\\item[10] 81.923790266042\n",
       "\\item[2] 66.8335519008092\n",
       "\\item[78] 230.123659531414\n",
       "\\item[70] 211.610203977621\n",
       "\\item[62] 195.301708234915\n",
       "\\item[8] 94.0313737752679\n",
       "\\item[16] 110.408863609903\n",
       "\\item[32] 148.295193500035\n",
       "\\item[40] 169.813064183338\n",
       "\\item[56] 214.874820910922\n",
       "\\item[24] 128.409681196209\n",
       "\\item[48] 195.047706303029\n",
       "\\item[54] 180.579811210583\n",
       "\\item[80] 291.094431492338\n",
       "\\item[64] 233.146716637146\n",
       "\\item[72] 261.318148391854\n",
       "\\item[46] 167.466353836203\n",
       "\\item[38] 148.629552821364\n",
       "\\item[30] 132.492250464421\n",
       "\\item[22] 116.345583858468\n",
       "\\item[14] 101.597834602594\n",
       "\\item[6] 87.7630414624538\n",
       "\\item[1] 67.8822036632065\n",
       "\\item[17] 97.6962954100583\n",
       "\\item[25] 113.895242641005\n",
       "\\item[9] 81.7493167833284\n",
       "\\item[33] 131.962538856348\n",
       "\\item[41] 152.893447045861\n",
       "\\item[49] 165.984625483099\n",
       "\\item[57] 183.284367457261\n",
       "\\item[65] 200.014194025763\n",
       "\\item[73] 218.717768634107\n",
       "\\item[4] 69.0199319755983\n",
       "\\item[12] 82.1463002856679\n",
       "\\item[20] 96.0662722392278\n",
       "\\item[28] 110.381971126727\n",
       "\\item[36] 125.557627093643\n",
       "\\item[44] 143.241491237242\n",
       "\\item[52] 159.686837849748\n",
       "\\item[60] 177.347092664447\n",
       "\\item[68] 191.801733182949\n",
       "\\item[76] 210.960742344784\n",
       "\\item[37] 134.910898693964\n",
       "\\item[29] 115.379622513411\n",
       "\\item[45] 157.070745938475\n",
       "\\item[21] 98.5830993363598\n",
       "\\item[53] 169.371778384932\n",
       "\\item[13] 82.2723705830489\n",
       "\\item[5] 68.167299243398\n",
       "\\item[61] 187.67129678655\n",
       "\\item[69] 207.359888666173\n",
       "\\item[77] 229.052999853727\n",
       "\\item[51] 161.776759004289\n",
       "\\item[43] 146.455060528133\n",
       "\\item[75] 212.61740895697\n",
       "\\item[35] 126.766281029159\n",
       "\\item[67] 194.486813065459\n",
       "\\item[59] 177.860486162997\n",
       "\\item[27] 108.915259360951\n",
       "\\item[19] 92.9640763565527\n",
       "\\item[11] 78.5229079258809\n",
       "\\item[3] 64.5749476096453\n",
       "\\end{description*}\n"
      ],
      "text/markdown": [
       "7\n",
       ":   78.663482781994615\n",
       ":   94.358775256802123\n",
       ":   109.36965441747531\n",
       ":   126.02777050794139\n",
       ":   142.96478027544463\n",
       ":   192.59883833548271\n",
       ":   208.2757700460847\n",
       ":   161.29514192281479\n",
       ":   227.89296801256955\n",
       ":   177.7128184434674\n",
       ":   227.51752084657666\n",
       ":   208.00490493882958\n",
       ":   190.05898577823750\n",
       ":   174.1752785140442\n",
       ":   158.21072200719934\n",
       ":   135.75753474193726\n",
       ":   116.18713721175918\n",
       ":   98.790573794619910\n",
       ":   81.9237902660422\n",
       ":   66.833551900809278\n",
       ":   230.12365953141470\n",
       ":   211.61020397762162\n",
       ":   195.3017082349158\n",
       ":   94.031373775267916\n",
       ":   110.40886360990332\n",
       ":   148.29519350003540\n",
       ":   169.81306418333856\n",
       ":   214.87482091092224\n",
       ":   128.40968119620948\n",
       ":   195.04770630302954\n",
       ":   180.57981121058380\n",
       ":   291.09443149233864\n",
       ":   233.14671663714672\n",
       ":   261.31814839185446\n",
       ":   167.46635383620338\n",
       ":   148.62955282136430\n",
       ":   132.49225046442122\n",
       ":   116.34558385846814\n",
       ":   101.5978346025946\n",
       ":   87.76304146245381\n",
       ":   67.882203663206517\n",
       ":   97.696295410058325\n",
       ":   113.8952426410059\n",
       ":   81.749316783328433\n",
       ":   131.96253885634841\n",
       ":   152.89344704586149\n",
       ":   165.98462548309957\n",
       ":   183.28436745726165\n",
       ":   200.01419402576373\n",
       ":   218.7177686341074\n",
       ":   69.019931975598312\n",
       ":   82.146300285667920\n",
       ":   96.066272239227828\n",
       ":   110.38197112672736\n",
       ":   125.55762709364344\n",
       ":   143.24149123724252\n",
       ":   159.68683784974860\n",
       ":   177.34709266444768\n",
       ":   191.80173318294976\n",
       ":   210.96074234478437\n",
       ":   134.91089869396429\n",
       ":   115.37962251341145\n",
       ":   157.07074593847521\n",
       ":   98.583099336359853\n",
       ":   169.37177838493213\n",
       ":   82.27237058304895\n",
       ":   68.16729924339861\n",
       ":   187.6712967865569\n",
       ":   207.35988866617377\n",
       ":   229.05299985372751\n",
       ":   161.77675900428943\n",
       ":   146.45506052813375\n",
       ":   212.6174089569735\n",
       ":   126.76628102915967\n",
       ":   194.48681306545959\n",
       ":   177.86048616299727\n",
       ":   108.91525936095119\n",
       ":   92.964076356552711\n",
       ":   78.52290792588093\n",
       ":   64.5749476096453\n",
       "\n"
      ],
      "text/plain": [
       "        7        15        23        31        39        63        71        47 \n",
       " 78.66348  94.35878 109.36965 126.02777 142.96478 192.59884 208.27577 161.29514 \n",
       "       79        55        74        66        58        50        42        34 \n",
       "227.89297 177.71282 227.51752 208.00490 190.05899 174.17528 158.21072 135.75753 \n",
       "       26        18        10         2        78        70        62         8 \n",
       "116.18714  98.79057  81.92379  66.83355 230.12366 211.61020 195.30171  94.03137 \n",
       "       16        32        40        56        24        48        54        80 \n",
       "110.40886 148.29519 169.81306 214.87482 128.40968 195.04771 180.57981 291.09443 \n",
       "       64        72        46        38        30        22        14         6 \n",
       "233.14672 261.31815 167.46635 148.62955 132.49225 116.34558 101.59783  87.76304 \n",
       "        1        17        25         9        33        41        49        57 \n",
       " 67.88220  97.69630 113.89524  81.74932 131.96254 152.89345 165.98463 183.28437 \n",
       "       65        73         4        12        20        28        36        44 \n",
       "200.01419 218.71777  69.01993  82.14630  96.06627 110.38197 125.55763 143.24149 \n",
       "       52        60        68        76        37        29        45        21 \n",
       "159.68684 177.34709 191.80173 210.96074 134.91090 115.37962 157.07075  98.58310 \n",
       "       53        13         5        61        69        77        51        43 \n",
       "169.37178  82.27237  68.16730 187.67130 207.35989 229.05300 161.77676 146.45506 \n",
       "       75        35        67        59        27        19        11         3 \n",
       "212.61741 126.76628 194.48681 177.86049 108.91526  92.96408  78.52291  64.57495 "
      ]
     },
     "metadata": {},
     "output_type": "display_data"
    }
   ],
   "source": [
    "predict.lm(reg4.1, new_data = pred_data)"
   ]
  },
  {
   "cell_type": "markdown",
   "id": "4348dd0a-19d6-432a-bf6e-42daffff933d",
   "metadata": {},
   "source": [
    "Актуальная цена на 1 кг. фарша ~ 600 руб."
   ]
  },
  {
   "cell_type": "code",
   "execution_count": 20,
   "id": "1fd83bdb-b485-4715-b787-6b5313a140d6",
   "metadata": {},
   "outputs": [
    {
     "data": {
      "text/html": [
       "424.442622"
      ],
      "text/latex": [
       "424.442622"
      ],
      "text/markdown": [
       "424.442622"
      ],
      "text/plain": [
       "[1] 424.4426"
      ]
     },
     "metadata": {},
     "output_type": "display_data"
    }
   ],
   "source": [
    "-2.304e+04 + 3.166e-03 * 49387 + 1.126e+01 * 2022 + 1.056e+01 * 61.784 - 1.874e-02 * 959 + 1.440e-02 * 715 - 1.044e+02"
   ]
  },
  {
   "cell_type": "code",
   "execution_count": null,
   "id": "19eccfc7-5d5f-4a6d-85ad-9826962dec5b",
   "metadata": {},
   "outputs": [],
   "source": []
  }
 ],
 "metadata": {
  "kernelspec": {
   "display_name": "R",
   "language": "R",
   "name": "ir"
  },
  "language_info": {
   "codemirror_mode": "r",
   "file_extension": ".r",
   "mimetype": "text/x-r-source",
   "name": "R",
   "pygments_lexer": "r",
   "version": "3.6.1"
  },
  "widgets": {
   "application/vnd.jupyter.widget-state+json": {
    "state": {},
    "version_major": 2,
    "version_minor": 0
   }
  }
 },
 "nbformat": 4,
 "nbformat_minor": 5
}
